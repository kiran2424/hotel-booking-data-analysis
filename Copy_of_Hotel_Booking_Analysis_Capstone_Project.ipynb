{
  "nbformat": 4,
  "nbformat_minor": 0,
  "metadata": {
    "kernelspec": {
      "display_name": "Python 3",
      "language": "python",
      "name": "python3"
    },
    "language_info": {
      "codemirror_mode": {
        "name": "ipython",
        "version": 3
      },
      "file_extension": ".py",
      "mimetype": "text/x-python",
      "name": "python",
      "nbconvert_exporter": "python",
      "pygments_lexer": "ipython3",
      "version": "3.6.6"
    },
    "colab": {
      "name": "Copy of Hotel Booking Analysis - Capstone Project.ipynb",
      "provenance": [],
      "collapsed_sections": [],
      "include_colab_link": true
    }
  },
  "cells": [
    {
      "cell_type": "markdown",
      "metadata": {
        "id": "view-in-github",
        "colab_type": "text"
      },
      "source": [
        "<a href=\"https://colab.research.google.com/github/kiran2424/hotel-booking-data-analysis/blob/main/Copy_of_Hotel_Booking_Analysis_Capstone_Project.ipynb\" target=\"_parent\"><img src=\"https://colab.research.google.com/assets/colab-badge.svg\" alt=\"Open In Colab\"/></a>"
      ]
    },
    {
      "cell_type": "markdown",
      "metadata": {
        "id": "Y06xIdG26kRF"
      },
      "source": [
        "## <b> Have you ever wondered when the best time of year to book a hotel room is? Or the optimal length of stay in order to get the best daily rate? What if you wanted to predict whether or not a hotel was likely to receive a disproportionately high number of special requests? This hotel booking dataset can help you explore those questions!\n",
        "\n",
        "## <b>This data set contains booking information for a city hotel and a resort hotel, and includes information such as when the booking was made, length of stay, the number of adults, children, and/or babies, and the number of available parking spaces, among other things. All personally identifying information has been removed from the data. </b>\n",
        "\n",
        "## <b> Explore and analyze the data to discover important factors that govern the bookings. </b>"
      ]
    },
    {
      "cell_type": "markdown",
      "source": [
        "1.   When the best time of year to book a hotel room?\n",
        "2.   What is the optimal length of stay in order to get the best daily rate?\n",
        "3.   What if you wanted to predict whether or not a hotel was likely to receive a disproportionately high number of special requests?\n",
        "4.   Which hotel is more booked city or resort?\n",
        "5.   In which month max booking has happened\n",
        "\n",
        "a) All hotel type combined with years\n",
        "b) Combined years with different hotel type\n",
        "6. Top 10 countries who has max booking\n",
        "7. Which hotel is more cancelled (rate)\n",
        "8. For how long people stay in hotel?\n",
        "9. Customer type?\n"
      ],
      "metadata": {
        "id": "rdl-4vnNqUrM"
      }
    },
    {
      "cell_type": "markdown",
      "source": [
        "1.   When the best time of year to book a hotel room? - **Done**\n",
        "2.   What is the optimal length of stay in order to get the best daily rate?\n",
        "3.   What if you wanted to predict whether or not a hotel was likely to receive a disproportionately high number of special requests? - **Done**\n",
        "4.   Which hotel is more booked city or resort? - **Done**\n",
        "5.   In which month max booking has happened - **Done**\n",
        "\n",
        "    - All hotel type combined with years - **Done**\n",
        "    - Combined years with different hotel type - **Done**\n",
        "6. Top 10 countries who has max booking - **Done**\n",
        "7. Which hotel is more cancelled (rate) - **Done**\n",
        "9. Customer type? - **Done**\n",
        "8. For how long people stay in hotel? - **Done**\n",
        "10. Relationship between room changed and cancellation - **Done**\n",
        "11. Calculate avg ADR for given years - **Done**\n",
        "    - Avg adr for each year - **Done**\n",
        "    - Avg adr for resort and hotel - **Done**\n",
        "    - Avg adr for each country - **Done**\n",
        "    - Avg adr of top 10 country who has highest number of bookings - **Done**"
      ],
      "metadata": {
        "id": "roPJu2MJ9tNy"
      }
    },
    {
      "cell_type": "code",
      "source": [
        ""
      ],
      "metadata": {
        "id": "ievYtyTluTHv"
      },
      "execution_count": null,
      "outputs": []
    },
    {
      "cell_type": "code",
      "metadata": {
        "id": "dByMsuzT8Tnw"
      },
      "source": [
        "import pandas as pd\n",
        "import numpy as np\n",
        "import matplotlib.pyplot as plt\n",
        "import seaborn as sns"
      ],
      "execution_count": 1,
      "outputs": []
    },
    {
      "cell_type": "code",
      "source": [
        "from google.colab import drive\n",
        "drive.mount('/content/drive')"
      ],
      "metadata": {
        "colab": {
          "base_uri": "https://localhost:8080/"
        },
        "id": "21hEBNilYBMX",
        "outputId": "fcee333a-b0fb-4373-d109-4e738a87c718"
      },
      "execution_count": 2,
      "outputs": [
        {
          "output_type": "stream",
          "name": "stdout",
          "text": [
            "Mounted at /content/drive\n"
          ]
        }
      ]
    },
    {
      "cell_type": "code",
      "source": [
        "df_data = pd.read_csv('/content/drive/MyDrive/Colab Notebooks/Capstone P1 - EDA/Hotel_Bookings.csv')"
      ],
      "metadata": {
        "id": "E27HpwumX5kC"
      },
      "execution_count": 3,
      "outputs": []
    },
    {
      "cell_type": "code",
      "source": [
        "df_data.info()"
      ],
      "metadata": {
        "colab": {
          "base_uri": "https://localhost:8080/"
        },
        "id": "0K2hbxyBZgVM",
        "outputId": "5188b295-7cc2-4fad-a529-d975dc01a07c"
      },
      "execution_count": 4,
      "outputs": [
        {
          "output_type": "stream",
          "name": "stdout",
          "text": [
            "<class 'pandas.core.frame.DataFrame'>\n",
            "RangeIndex: 119390 entries, 0 to 119389\n",
            "Data columns (total 32 columns):\n",
            " #   Column                          Non-Null Count   Dtype  \n",
            "---  ------                          --------------   -----  \n",
            " 0   hotel                           119390 non-null  object \n",
            " 1   is_canceled                     119390 non-null  int64  \n",
            " 2   lead_time                       119390 non-null  int64  \n",
            " 3   arrival_date_year               119390 non-null  int64  \n",
            " 4   arrival_date_month              119390 non-null  object \n",
            " 5   arrival_date_week_number        119390 non-null  int64  \n",
            " 6   arrival_date_day_of_month       119390 non-null  int64  \n",
            " 7   stays_in_weekend_nights         119390 non-null  int64  \n",
            " 8   stays_in_week_nights            119390 non-null  int64  \n",
            " 9   adults                          119390 non-null  int64  \n",
            " 10  children                        119386 non-null  float64\n",
            " 11  babies                          119390 non-null  int64  \n",
            " 12  meal                            119390 non-null  object \n",
            " 13  country                         118902 non-null  object \n",
            " 14  market_segment                  119390 non-null  object \n",
            " 15  distribution_channel            119390 non-null  object \n",
            " 16  is_repeated_guest               119390 non-null  int64  \n",
            " 17  previous_cancellations          119390 non-null  int64  \n",
            " 18  previous_bookings_not_canceled  119390 non-null  int64  \n",
            " 19  reserved_room_type              119390 non-null  object \n",
            " 20  assigned_room_type              119390 non-null  object \n",
            " 21  booking_changes                 119390 non-null  int64  \n",
            " 22  deposit_type                    119390 non-null  object \n",
            " 23  agent                           103050 non-null  float64\n",
            " 24  company                         6797 non-null    float64\n",
            " 25  days_in_waiting_list            119390 non-null  int64  \n",
            " 26  customer_type                   119390 non-null  object \n",
            " 27  adr                             119390 non-null  float64\n",
            " 28  required_car_parking_spaces     119390 non-null  int64  \n",
            " 29  total_of_special_requests       119390 non-null  int64  \n",
            " 30  reservation_status              119390 non-null  object \n",
            " 31  reservation_status_date         119390 non-null  object \n",
            "dtypes: float64(4), int64(16), object(12)\n",
            "memory usage: 29.1+ MB\n"
          ]
        }
      ]
    },
    {
      "cell_type": "code",
      "source": [
        "df_data.tail(2)"
      ],
      "metadata": {
        "colab": {
          "base_uri": "https://localhost:8080/",
          "height": 211
        },
        "id": "bV5Bz1sCZ7pD",
        "outputId": "9810f178-d5d9-440d-9a1f-92e48869a824"
      },
      "execution_count": 5,
      "outputs": [
        {
          "output_type": "execute_result",
          "data": {
            "text/html": [
              "\n",
              "  <div id=\"df-e1234330-aeb8-4b6e-95db-c8f6dbd0d30b\">\n",
              "    <div class=\"colab-df-container\">\n",
              "      <div>\n",
              "<style scoped>\n",
              "    .dataframe tbody tr th:only-of-type {\n",
              "        vertical-align: middle;\n",
              "    }\n",
              "\n",
              "    .dataframe tbody tr th {\n",
              "        vertical-align: top;\n",
              "    }\n",
              "\n",
              "    .dataframe thead th {\n",
              "        text-align: right;\n",
              "    }\n",
              "</style>\n",
              "<table border=\"1\" class=\"dataframe\">\n",
              "  <thead>\n",
              "    <tr style=\"text-align: right;\">\n",
              "      <th></th>\n",
              "      <th>hotel</th>\n",
              "      <th>is_canceled</th>\n",
              "      <th>lead_time</th>\n",
              "      <th>arrival_date_year</th>\n",
              "      <th>arrival_date_month</th>\n",
              "      <th>arrival_date_week_number</th>\n",
              "      <th>arrival_date_day_of_month</th>\n",
              "      <th>stays_in_weekend_nights</th>\n",
              "      <th>stays_in_week_nights</th>\n",
              "      <th>adults</th>\n",
              "      <th>children</th>\n",
              "      <th>babies</th>\n",
              "      <th>meal</th>\n",
              "      <th>country</th>\n",
              "      <th>market_segment</th>\n",
              "      <th>distribution_channel</th>\n",
              "      <th>is_repeated_guest</th>\n",
              "      <th>previous_cancellations</th>\n",
              "      <th>previous_bookings_not_canceled</th>\n",
              "      <th>reserved_room_type</th>\n",
              "      <th>assigned_room_type</th>\n",
              "      <th>booking_changes</th>\n",
              "      <th>deposit_type</th>\n",
              "      <th>agent</th>\n",
              "      <th>company</th>\n",
              "      <th>days_in_waiting_list</th>\n",
              "      <th>customer_type</th>\n",
              "      <th>adr</th>\n",
              "      <th>required_car_parking_spaces</th>\n",
              "      <th>total_of_special_requests</th>\n",
              "      <th>reservation_status</th>\n",
              "      <th>reservation_status_date</th>\n",
              "    </tr>\n",
              "  </thead>\n",
              "  <tbody>\n",
              "    <tr>\n",
              "      <th>119388</th>\n",
              "      <td>City Hotel</td>\n",
              "      <td>0</td>\n",
              "      <td>109</td>\n",
              "      <td>2017</td>\n",
              "      <td>August</td>\n",
              "      <td>35</td>\n",
              "      <td>31</td>\n",
              "      <td>2</td>\n",
              "      <td>5</td>\n",
              "      <td>2</td>\n",
              "      <td>0.0</td>\n",
              "      <td>0</td>\n",
              "      <td>BB</td>\n",
              "      <td>GBR</td>\n",
              "      <td>Online TA</td>\n",
              "      <td>TA/TO</td>\n",
              "      <td>0</td>\n",
              "      <td>0</td>\n",
              "      <td>0</td>\n",
              "      <td>A</td>\n",
              "      <td>A</td>\n",
              "      <td>0</td>\n",
              "      <td>No Deposit</td>\n",
              "      <td>89.0</td>\n",
              "      <td>NaN</td>\n",
              "      <td>0</td>\n",
              "      <td>Transient</td>\n",
              "      <td>104.4</td>\n",
              "      <td>0</td>\n",
              "      <td>0</td>\n",
              "      <td>Check-Out</td>\n",
              "      <td>2017-09-07</td>\n",
              "    </tr>\n",
              "    <tr>\n",
              "      <th>119389</th>\n",
              "      <td>City Hotel</td>\n",
              "      <td>0</td>\n",
              "      <td>205</td>\n",
              "      <td>2017</td>\n",
              "      <td>August</td>\n",
              "      <td>35</td>\n",
              "      <td>29</td>\n",
              "      <td>2</td>\n",
              "      <td>7</td>\n",
              "      <td>2</td>\n",
              "      <td>0.0</td>\n",
              "      <td>0</td>\n",
              "      <td>HB</td>\n",
              "      <td>DEU</td>\n",
              "      <td>Online TA</td>\n",
              "      <td>TA/TO</td>\n",
              "      <td>0</td>\n",
              "      <td>0</td>\n",
              "      <td>0</td>\n",
              "      <td>A</td>\n",
              "      <td>A</td>\n",
              "      <td>0</td>\n",
              "      <td>No Deposit</td>\n",
              "      <td>9.0</td>\n",
              "      <td>NaN</td>\n",
              "      <td>0</td>\n",
              "      <td>Transient</td>\n",
              "      <td>151.2</td>\n",
              "      <td>0</td>\n",
              "      <td>2</td>\n",
              "      <td>Check-Out</td>\n",
              "      <td>2017-09-07</td>\n",
              "    </tr>\n",
              "  </tbody>\n",
              "</table>\n",
              "</div>\n",
              "      <button class=\"colab-df-convert\" onclick=\"convertToInteractive('df-e1234330-aeb8-4b6e-95db-c8f6dbd0d30b')\"\n",
              "              title=\"Convert this dataframe to an interactive table.\"\n",
              "              style=\"display:none;\">\n",
              "        \n",
              "  <svg xmlns=\"http://www.w3.org/2000/svg\" height=\"24px\"viewBox=\"0 0 24 24\"\n",
              "       width=\"24px\">\n",
              "    <path d=\"M0 0h24v24H0V0z\" fill=\"none\"/>\n",
              "    <path d=\"M18.56 5.44l.94 2.06.94-2.06 2.06-.94-2.06-.94-.94-2.06-.94 2.06-2.06.94zm-11 1L8.5 8.5l.94-2.06 2.06-.94-2.06-.94L8.5 2.5l-.94 2.06-2.06.94zm10 10l.94 2.06.94-2.06 2.06-.94-2.06-.94-.94-2.06-.94 2.06-2.06.94z\"/><path d=\"M17.41 7.96l-1.37-1.37c-.4-.4-.92-.59-1.43-.59-.52 0-1.04.2-1.43.59L10.3 9.45l-7.72 7.72c-.78.78-.78 2.05 0 2.83L4 21.41c.39.39.9.59 1.41.59.51 0 1.02-.2 1.41-.59l7.78-7.78 2.81-2.81c.8-.78.8-2.07 0-2.86zM5.41 20L4 18.59l7.72-7.72 1.47 1.35L5.41 20z\"/>\n",
              "  </svg>\n",
              "      </button>\n",
              "      \n",
              "  <style>\n",
              "    .colab-df-container {\n",
              "      display:flex;\n",
              "      flex-wrap:wrap;\n",
              "      gap: 12px;\n",
              "    }\n",
              "\n",
              "    .colab-df-convert {\n",
              "      background-color: #E8F0FE;\n",
              "      border: none;\n",
              "      border-radius: 50%;\n",
              "      cursor: pointer;\n",
              "      display: none;\n",
              "      fill: #1967D2;\n",
              "      height: 32px;\n",
              "      padding: 0 0 0 0;\n",
              "      width: 32px;\n",
              "    }\n",
              "\n",
              "    .colab-df-convert:hover {\n",
              "      background-color: #E2EBFA;\n",
              "      box-shadow: 0px 1px 2px rgba(60, 64, 67, 0.3), 0px 1px 3px 1px rgba(60, 64, 67, 0.15);\n",
              "      fill: #174EA6;\n",
              "    }\n",
              "\n",
              "    [theme=dark] .colab-df-convert {\n",
              "      background-color: #3B4455;\n",
              "      fill: #D2E3FC;\n",
              "    }\n",
              "\n",
              "    [theme=dark] .colab-df-convert:hover {\n",
              "      background-color: #434B5C;\n",
              "      box-shadow: 0px 1px 3px 1px rgba(0, 0, 0, 0.15);\n",
              "      filter: drop-shadow(0px 1px 2px rgba(0, 0, 0, 0.3));\n",
              "      fill: #FFFFFF;\n",
              "    }\n",
              "  </style>\n",
              "\n",
              "      <script>\n",
              "        const buttonEl =\n",
              "          document.querySelector('#df-e1234330-aeb8-4b6e-95db-c8f6dbd0d30b button.colab-df-convert');\n",
              "        buttonEl.style.display =\n",
              "          google.colab.kernel.accessAllowed ? 'block' : 'none';\n",
              "\n",
              "        async function convertToInteractive(key) {\n",
              "          const element = document.querySelector('#df-e1234330-aeb8-4b6e-95db-c8f6dbd0d30b');\n",
              "          const dataTable =\n",
              "            await google.colab.kernel.invokeFunction('convertToInteractive',\n",
              "                                                     [key], {});\n",
              "          if (!dataTable) return;\n",
              "\n",
              "          const docLinkHtml = 'Like what you see? Visit the ' +\n",
              "            '<a target=\"_blank\" href=https://colab.research.google.com/notebooks/data_table.ipynb>data table notebook</a>'\n",
              "            + ' to learn more about interactive tables.';\n",
              "          element.innerHTML = '';\n",
              "          dataTable['output_type'] = 'display_data';\n",
              "          await google.colab.output.renderOutput(dataTable, element);\n",
              "          const docLink = document.createElement('div');\n",
              "          docLink.innerHTML = docLinkHtml;\n",
              "          element.appendChild(docLink);\n",
              "        }\n",
              "      </script>\n",
              "    </div>\n",
              "  </div>\n",
              "  "
            ],
            "text/plain": [
              "             hotel  is_canceled  ...  reservation_status  reservation_status_date\n",
              "119388  City Hotel            0  ...           Check-Out               2017-09-07\n",
              "119389  City Hotel            0  ...           Check-Out               2017-09-07\n",
              "\n",
              "[2 rows x 32 columns]"
            ]
          },
          "metadata": {},
          "execution_count": 5
        }
      ]
    },
    {
      "cell_type": "code",
      "source": [
        "df_data.isnull().sum()"
      ],
      "metadata": {
        "colab": {
          "base_uri": "https://localhost:8080/"
        },
        "id": "C4NAqN8IjrD7",
        "outputId": "175a76f6-d18d-4b1f-eec2-84d1db13f109"
      },
      "execution_count": 6,
      "outputs": [
        {
          "output_type": "execute_result",
          "data": {
            "text/plain": [
              "hotel                                  0\n",
              "is_canceled                            0\n",
              "lead_time                              0\n",
              "arrival_date_year                      0\n",
              "arrival_date_month                     0\n",
              "arrival_date_week_number               0\n",
              "arrival_date_day_of_month              0\n",
              "stays_in_weekend_nights                0\n",
              "stays_in_week_nights                   0\n",
              "adults                                 0\n",
              "children                               4\n",
              "babies                                 0\n",
              "meal                                   0\n",
              "country                              488\n",
              "market_segment                         0\n",
              "distribution_channel                   0\n",
              "is_repeated_guest                      0\n",
              "previous_cancellations                 0\n",
              "previous_bookings_not_canceled         0\n",
              "reserved_room_type                     0\n",
              "assigned_room_type                     0\n",
              "booking_changes                        0\n",
              "deposit_type                           0\n",
              "agent                              16340\n",
              "company                           112593\n",
              "days_in_waiting_list                   0\n",
              "customer_type                          0\n",
              "adr                                    0\n",
              "required_car_parking_spaces            0\n",
              "total_of_special_requests              0\n",
              "reservation_status                     0\n",
              "reservation_status_date                0\n",
              "dtype: int64"
            ]
          },
          "metadata": {},
          "execution_count": 6
        }
      ]
    },
    {
      "cell_type": "markdown",
      "source": [
        "Here four columns has null values i.e. country,agent,children and company. So here we can drop agent and company because it is not needed and in country we can put 'no value' in empty places.\n"
      ],
      "metadata": {
        "id": "Nw4X3TDIs62u"
      }
    },
    {
      "cell_type": "code",
      "source": [
        "df_data['country'].fillna('no value',inplace=True)"
      ],
      "metadata": {
        "id": "aqqDuNKMks_v"
      },
      "execution_count": 7,
      "outputs": []
    },
    {
      "cell_type": "code",
      "source": [
        "df_data['country'].shape"
      ],
      "metadata": {
        "colab": {
          "base_uri": "https://localhost:8080/"
        },
        "id": "FlnzPIKzyZX1",
        "outputId": "521283b8-2d72-44dd-a73b-577a7f552270"
      },
      "execution_count": 8,
      "outputs": [
        {
          "output_type": "execute_result",
          "data": {
            "text/plain": [
              "(119390,)"
            ]
          },
          "metadata": {},
          "execution_count": 8
        }
      ]
    },
    {
      "cell_type": "code",
      "source": [
        "df_data.drop(['agent','company'],axis=1,inplace=True)"
      ],
      "metadata": {
        "id": "khT7KKEFyh8l"
      },
      "execution_count": 9,
      "outputs": []
    },
    {
      "cell_type": "code",
      "source": [
        "df_data.shape"
      ],
      "metadata": {
        "colab": {
          "base_uri": "https://localhost:8080/"
        },
        "id": "zLy-cH-51Hu0",
        "outputId": "1ab3877b-5ce5-4301-f767-638fb64957f6"
      },
      "execution_count": 10,
      "outputs": [
        {
          "output_type": "execute_result",
          "data": {
            "text/plain": [
              "(119390, 30)"
            ]
          },
          "metadata": {},
          "execution_count": 10
        }
      ]
    },
    {
      "cell_type": "markdown",
      "source": [
        "So we have cleaned the the data "
      ],
      "metadata": {
        "id": "n4L9rD9b1Nj2"
      }
    },
    {
      "cell_type": "markdown",
      "source": [
        "Now lets see type of hotes and its total numbers from the column of hotel"
      ],
      "metadata": {
        "id": "9xYqJq_B2Fof"
      }
    },
    {
      "cell_type": "code",
      "source": [
        "df_data['hotel'].value_counts()"
      ],
      "metadata": {
        "colab": {
          "base_uri": "https://localhost:8080/"
        },
        "id": "Balhqq0M18vu",
        "outputId": "fae212d1-7c3b-4679-ba4e-627109e90c7c"
      },
      "execution_count": 11,
      "outputs": [
        {
          "output_type": "execute_result",
          "data": {
            "text/plain": [
              "City Hotel      79330\n",
              "Resort Hotel    40060\n",
              "Name: hotel, dtype: int64"
            ]
          },
          "metadata": {},
          "execution_count": 11
        }
      ]
    },
    {
      "cell_type": "markdown",
      "source": [
        "Now lets visualize it with pie chart "
      ],
      "metadata": {
        "id": "PCwf25j52x_1"
      }
    },
    {
      "cell_type": "code",
      "source": [
        "a=df_data['hotel'].value_counts()\n",
        "plt.pie(a,labels=['City Hotel','Resort Hotel'])\n",
        "plt.show()"
      ],
      "metadata": {
        "colab": {
          "base_uri": "https://localhost:8080/",
          "height": 248
        },
        "id": "JHMsFp-l2waL",
        "outputId": "ae0c38b4-455c-45e9-cdd4-519b4a3f9627"
      },
      "execution_count": 12,
      "outputs": [
        {
          "output_type": "display_data",
          "data": {
            "image/png": "[encoded data removed]",
            "text/plain": [
              "<Figure size 432x288 with 1 Axes>"
            ]
          },
          "metadata": {}
        }
      ]
    },
    {
      "cell_type": "markdown",
      "source": [
        "Here as we can see city hotels are more booked in compare to resort hotels"
      ],
      "metadata": {
        "id": "v-i6Yt00pNh_"
      }
    },
    {
      "cell_type": "markdown",
      "source": [
        "Now lets see which type of customers are booking hotels"
      ],
      "metadata": {
        "id": "P0ZMnWYt-rD1"
      }
    },
    {
      "cell_type": "code",
      "source": [
        "df_data['customer_type'].value_counts()"
      ],
      "metadata": {
        "colab": {
          "base_uri": "https://localhost:8080/"
        },
        "id": "eFFqmsIU-1kl",
        "outputId": "fb2bbc31-6496-41fe-cc3c-becda6b650d9"
      },
      "execution_count": 13,
      "outputs": [
        {
          "output_type": "execute_result",
          "data": {
            "text/plain": [
              "Transient          89613\n",
              "Transient-Party    25124\n",
              "Contract            4076\n",
              "Group                577\n",
              "Name: customer_type, dtype: int64"
            ]
          },
          "metadata": {},
          "execution_count": 13
        }
      ]
    },
    {
      "cell_type": "code",
      "source": [
        "#df_data.groupby(['hotel'])['customer_type'].value_counts()"
      ],
      "metadata": {
        "id": "EXW2lRpnC93m"
      },
      "execution_count": null,
      "outputs": []
    },
    {
      "cell_type": "markdown",
      "source": [
        "So the maximum customer type is Transient which means these are the customer who are living for short period of time"
      ],
      "metadata": {
        "id": "ZvJpfUk3_d3i"
      }
    },
    {
      "cell_type": "code",
      "source": [
        "#extra done use it if needed\n",
        "b=df_data['is_canceled'].value_counts()\n",
        "b"
      ],
      "metadata": {
        "colab": {
          "base_uri": "https://localhost:8080/"
        },
        "id": "Tm-Fo-pRJ5rN",
        "outputId": "89077bf3-b4c9-48f6-9e33-6566c2894a49"
      },
      "execution_count": 14,
      "outputs": [
        {
          "output_type": "execute_result",
          "data": {
            "text/plain": [
              "0    75166\n",
              "1    44224\n",
              "Name: is_canceled, dtype: int64"
            ]
          },
          "metadata": {},
          "execution_count": 14
        }
      ]
    },
    {
      "cell_type": "code",
      "source": [
        "# total percentage of cancelled vs booked\n",
        "b[1]/(b[0]+b[1])*100"
      ],
      "metadata": {
        "colab": {
          "base_uri": "https://localhost:8080/"
        },
        "id": "-rHpsj5aLfqn",
        "outputId": "221aa32c-78c8-41a9-cac6-3e47c4fc79e8"
      },
      "execution_count": 15,
      "outputs": [
        {
          "output_type": "execute_result",
          "data": {
            "text/plain": [
              "37.041628277075134"
            ]
          },
          "metadata": {},
          "execution_count": 15
        }
      ]
    },
    {
      "cell_type": "markdown",
      "source": [
        "so 37% total room cancelled"
      ],
      "metadata": {
        "id": "VeiLmVJaMHLE"
      }
    },
    {
      "cell_type": "code",
      "source": [
        "c=df_data.groupby(['hotel'])['is_canceled'].value_counts()\n",
        "c"
      ],
      "metadata": {
        "colab": {
          "base_uri": "https://localhost:8080/"
        },
        "id": "UvacA0LtMPOM",
        "outputId": "cec74c65-3f74-4216-ffd0-ae8b378fb10d"
      },
      "execution_count": 16,
      "outputs": [
        {
          "output_type": "execute_result",
          "data": {
            "text/plain": [
              "hotel         is_canceled\n",
              "City Hotel    0              46228\n",
              "              1              33102\n",
              "Resort Hotel  0              28938\n",
              "              1              11122\n",
              "Name: is_canceled, dtype: int64"
            ]
          },
          "metadata": {},
          "execution_count": 16
        }
      ]
    },
    {
      "cell_type": "code",
      "source": [
        "# city cancelled\n",
        "(c[1])/(c[0]+c[1])*100"
      ],
      "metadata": {
        "colab": {
          "base_uri": "https://localhost:8080/"
        },
        "id": "WN0pR4IPNNwQ",
        "outputId": "c2befe76-e139-4472-98fc-a733e16361cf"
      },
      "execution_count": 17,
      "outputs": [
        {
          "output_type": "execute_result",
          "data": {
            "text/plain": [
              "41.72696331778646"
            ]
          },
          "metadata": {},
          "execution_count": 17
        }
      ]
    },
    {
      "cell_type": "code",
      "source": [
        "# Resort cancelled\n",
        "c[3]/(c[2]+c[3])*100"
      ],
      "metadata": {
        "colab": {
          "base_uri": "https://localhost:8080/"
        },
        "id": "aO2XMF9ZNr82",
        "outputId": "f64b2d77-7fcb-4d60-e52c-09930b93efa4"
      },
      "execution_count": 18,
      "outputs": [
        {
          "output_type": "execute_result",
          "data": {
            "text/plain": [
              "27.763354967548675"
            ]
          },
          "metadata": {},
          "execution_count": 18
        }
      ]
    },
    {
      "cell_type": "markdown",
      "source": [
        "Lets plot above"
      ],
      "metadata": {
        "id": "WqJXGwscyLzj"
      }
    },
    {
      "cell_type": "code",
      "source": [
        "plt.figure(figsize=(12,5))\n",
        "sns.countplot(x='hotel', hue = 'is_canceled', data= df_data)\n",
        "plt.show()"
      ],
      "metadata": {
        "colab": {
          "base_uri": "https://localhost:8080/",
          "height": 334
        },
        "id": "IbnQiowjyak7",
        "outputId": "d85d6f2e-d6f9-46da-aaed-edaa0666692b"
      },
      "execution_count": 19,
      "outputs": [
        {
          "output_type": "display_data",
          "data": {
            "image/png": "[encoded data removed]",
            "text/plain": [
              "<Figure size 864x360 with 1 Axes>"
            ]
          },
          "metadata": {
            "needs_background": "light"
          }
        }
      ]
    },
    {
      "cell_type": "markdown",
      "source": [
        "City hotel has max cancellation and resort hotel are getting less cancelled compared to city"
      ],
      "metadata": {
        "id": "9V9fuDCHDgt1"
      }
    },
    {
      "cell_type": "code",
      "source": [
        "plt.figure(figsize=(12,5))\n",
        "sns.countplot(x='arrival_date_year', hue = 'is_canceled', data = df_data)\n",
        "plt.show()"
      ],
      "metadata": {
        "colab": {
          "base_uri": "https://localhost:8080/",
          "height": 335
        },
        "id": "rUPfuByf3oQG",
        "outputId": "1691323e-e21e-486d-96ed-4c8b223678e2"
      },
      "execution_count": 20,
      "outputs": [
        {
          "output_type": "display_data",
          "data": {
            "image/png": "[encoded data removed]",
            "text/plain": [
              "<Figure size 864x360 with 1 Axes>"
            ]
          },
          "metadata": {
            "needs_background": "light"
          }
        }
      ]
    },
    {
      "cell_type": "markdown",
      "source": [
        "In 2016 max booking was cancelled"
      ],
      "metadata": {
        "id": "5UnvVVtt33c7"
      }
    },
    {
      "cell_type": "markdown",
      "source": [
        "5.   In which month max booking has happened\n",
        "\n",
        "a) All hotel type combined with years\n",
        "b) Combined years with different hotel type"
      ],
      "metadata": {
        "id": "IetFygcsFvJS"
      }
    },
    {
      "cell_type": "code",
      "source": [
        "k=df_data['arrival_date_month'].value_counts()\n",
        "k"
      ],
      "metadata": {
        "colab": {
          "base_uri": "https://localhost:8080/"
        },
        "id": "OkzUsTm4Bly9",
        "outputId": "7c4ef3d9-7ccf-4373-f791-8f6f22cc97a6"
      },
      "execution_count": 21,
      "outputs": [
        {
          "output_type": "execute_result",
          "data": {
            "text/plain": [
              "August       13877\n",
              "July         12661\n",
              "May          11791\n",
              "October      11160\n",
              "April        11089\n",
              "June         10939\n",
              "September    10508\n",
              "March         9794\n",
              "February      8068\n",
              "November      6794\n",
              "December      6780\n",
              "January       5929\n",
              "Name: arrival_date_month, dtype: int64"
            ]
          },
          "metadata": {},
          "execution_count": 21
        }
      ]
    },
    {
      "cell_type": "code",
      "source": [
        "plt.rcParams['figure.figsize'] = (12, 5)\n",
        "sns.countplot(df_data['arrival_date_month'],color='b')\n",
        "plt.show()"
      ],
      "metadata": {
        "colab": {
          "base_uri": "https://localhost:8080/",
          "height": 390
        },
        "id": "rVok2Lg8QNqj",
        "outputId": "43454bc7-164a-4d0d-c151-482ac0a1460e"
      },
      "execution_count": 22,
      "outputs": [
        {
          "output_type": "stream",
          "name": "stderr",
          "text": [
            "/usr/local/lib/python3.7/dist-packages/seaborn/_decorators.py:43: FutureWarning: Pass the following variable as a keyword arg: x. From version 0.12, the only valid positional argument will be `data`, and passing other arguments without an explicit keyword will result in an error or misinterpretation.\n",
            "  FutureWarning\n"
          ]
        },
        {
          "output_type": "display_data",
          "data": {
            "image/png": "[encoded data removed]",
            "text/plain": [
              "<Figure size 864x360 with 1 Axes>"
            ]
          },
          "metadata": {
            "needs_background": "light"
          }
        }
      ]
    },
    {
      "cell_type": "markdown",
      "source": [
        "So August has highest number of bookings. This include both resort and city hotels"
      ],
      "metadata": {
        "id": "B4qoWdLNS9P2"
      }
    },
    {
      "cell_type": "markdown",
      "source": [
        "Lets see resort and city differently"
      ],
      "metadata": {
        "id": "uiR-KlrzrM1S"
      }
    },
    {
      "cell_type": "code",
      "source": [
        "plt.figure(figsize=(12,5))\n",
        "sns.countplot(x='arrival_date_month', hue = 'hotel', data= df_data)\n",
        "plt.show()"
      ],
      "metadata": {
        "colab": {
          "base_uri": "https://localhost:8080/",
          "height": 335
        },
        "id": "Nfj26N9PrS8J",
        "outputId": "d5db957d-0bdf-4089-865d-5f403b69fd86"
      },
      "execution_count": 23,
      "outputs": [
        {
          "output_type": "display_data",
          "data": {
            "image/png": "[encoded data removed]",
            "text/plain": [
              "<Figure size 864x360 with 1 Axes>"
            ]
          },
          "metadata": {
            "needs_background": "light"
          }
        }
      ]
    },
    {
      "cell_type": "markdown",
      "source": [
        "So resort and city both hotels has highest number of bookings in August month\n",
        "\n"
      ],
      "metadata": {
        "id": "90Ns7fnHtoBh"
      }
    },
    {
      "cell_type": "markdown",
      "source": [
        "No lets see which year has highest bookings"
      ],
      "metadata": {
        "id": "b0QtLkIktxlH"
      }
    },
    {
      "cell_type": "code",
      "source": [
        "df_data['arrival_date_year'].value_counts()"
      ],
      "metadata": {
        "colab": {
          "base_uri": "https://localhost:8080/"
        },
        "id": "U1tTiEs3pTo7",
        "outputId": "6a01f170-1d4e-4710-808c-54a785f099be"
      },
      "execution_count": 24,
      "outputs": [
        {
          "output_type": "execute_result",
          "data": {
            "text/plain": [
              "2016    56707\n",
              "2017    40687\n",
              "2015    21996\n",
              "Name: arrival_date_year, dtype: int64"
            ]
          },
          "metadata": {},
          "execution_count": 24
        }
      ]
    },
    {
      "cell_type": "code",
      "source": [
        "#df_data['arrival_date_year'].value_counts().plot(kind='bar')\n",
        "sns.countplot(df_data['arrival_date_year'])"
      ],
      "metadata": {
        "colab": {
          "base_uri": "https://localhost:8080/",
          "height": 407
        },
        "id": "zXEtYB6-qZtG",
        "outputId": "d4c2511e-64e0-45bc-ae71-133bf4de212c"
      },
      "execution_count": 25,
      "outputs": [
        {
          "output_type": "stream",
          "name": "stderr",
          "text": [
            "/usr/local/lib/python3.7/dist-packages/seaborn/_decorators.py:43: FutureWarning: Pass the following variable as a keyword arg: x. From version 0.12, the only valid positional argument will be `data`, and passing other arguments without an explicit keyword will result in an error or misinterpretation.\n",
            "  FutureWarning\n"
          ]
        },
        {
          "output_type": "execute_result",
          "data": {
            "text/plain": [
              "<matplotlib.axes._subplots.AxesSubplot at 0x7f6f4651d210>"
            ]
          },
          "metadata": {},
          "execution_count": 25
        },
        {
          "output_type": "display_data",
          "data": {
            "image/png": "[encoded data removed]",
            "text/plain": [
              "<Figure size 864x360 with 1 Axes>"
            ]
          },
          "metadata": {
            "needs_background": "light"
          }
        }
      ]
    },
    {
      "cell_type": "markdown",
      "source": [
        "So max booking was in 2016 which include both reort and city hotels\n"
      ],
      "metadata": {
        "id": "YJDFxUaZpblw"
      }
    },
    {
      "cell_type": "markdown",
      "source": [
        "Now lets see resort and city hotels differently in each year"
      ],
      "metadata": {
        "id": "AnEyWkw0q0OZ"
      }
    },
    {
      "cell_type": "code",
      "source": [
        "plt.figure(figsize=(12,5))\n",
        "sns.countplot(x='arrival_date_year', hue = 'hotel', data= df_data)\n",
        "plt.show()"
      ],
      "metadata": {
        "colab": {
          "base_uri": "https://localhost:8080/",
          "height": 338
        },
        "id": "OQcXAHFupZ99",
        "outputId": "10f52821-befe-4c89-fee2-25353353597d"
      },
      "execution_count": 26,
      "outputs": [
        {
          "output_type": "display_data",
          "data": {
            "image/png": "[encoded data removed]",
            "text/plain": [
              "<Figure size 864x360 with 1 Axes>"
            ]
          },
          "metadata": {
            "needs_background": "light"
          }
        }
      ]
    },
    {
      "cell_type": "markdown",
      "source": [
        "So resort and city both hotels has highest number of bookings in 2016\n"
      ],
      "metadata": {
        "id": "UQWEqbeyuFtT"
      }
    },
    {
      "cell_type": "markdown",
      "source": [
        "We should also look how much booking got canceled in each month"
      ],
      "metadata": {
        "id": "cMhXqbFzOnLf"
      }
    },
    {
      "cell_type": "code",
      "source": [
        "df_data.groupby(['is_canceled'])['arrival_date_month'].value_counts()"
      ],
      "metadata": {
        "colab": {
          "base_uri": "https://localhost:8080/"
        },
        "id": "LQsrCnC9O3Nr",
        "outputId": "3ccc3e28-4d4f-430b-88b9-78fecf0416ff"
      },
      "execution_count": 56,
      "outputs": [
        {
          "output_type": "execute_result",
          "data": {
            "text/plain": [
              "is_canceled  arrival_date_month\n",
              "0            August                8638\n",
              "             July                  7919\n",
              "             May                   7114\n",
              "             October               6914\n",
              "             March                 6645\n",
              "             April                 6565\n",
              "             June                  6404\n",
              "             September             6392\n",
              "             February              5372\n",
              "             November              4672\n",
              "             December              4409\n",
              "             January               4122\n",
              "1            August                5239\n",
              "             July                  4742\n",
              "             May                   4677\n",
              "             June                  4535\n",
              "             April                 4524\n",
              "             October               4246\n",
              "             September             4116\n",
              "             March                 3149\n",
              "             February              2696\n",
              "             December              2371\n",
              "             November              2122\n",
              "             January               1807\n",
              "Name: arrival_date_month, dtype: int64"
            ]
          },
          "metadata": {},
          "execution_count": 56
        }
      ]
    },
    {
      "cell_type": "code",
      "source": [
        "plt.figure(figsize=(12,5))\n",
        "sns.countplot(x='arrival_date_month', hue = 'is_canceled', data= df_data)\n",
        "plt.show()"
      ],
      "metadata": {
        "colab": {
          "base_uri": "https://localhost:8080/",
          "height": 335
        },
        "id": "rOH71O3ROvWW",
        "outputId": "8b0fc6ec-8caa-4def-ba83-899689514a69"
      },
      "execution_count": 50,
      "outputs": [
        {
          "output_type": "display_data",
          "data": {
            "image/png": "[encoded data removed]",
            "text/plain": [
              "<Figure size 864x360 with 1 Axes>"
            ]
          },
          "metadata": {
            "needs_background": "light"
          }
        }
      ]
    },
    {
      "cell_type": "markdown",
      "source": [
        "So August has max booking as well as cancellations followed by july and may"
      ],
      "metadata": {
        "id": "vvnUbNoUPhST"
      }
    },
    {
      "cell_type": "markdown",
      "source": [
        "Now lets see the top 10 countries who has max booking\n"
      ],
      "metadata": {
        "id": "AnSC5CXluwiz"
      }
    },
    {
      "cell_type": "code",
      "source": [
        "df_data['country'].value_counts().head(10)\n"
      ],
      "metadata": {
        "colab": {
          "base_uri": "https://localhost:8080/"
        },
        "id": "iacabjnzuvU0",
        "outputId": "8dbdc4eb-2bda-4612-ba7b-12c010fd2f11"
      },
      "execution_count": 27,
      "outputs": [
        {
          "output_type": "execute_result",
          "data": {
            "text/plain": [
              "PRT    48590\n",
              "GBR    12129\n",
              "FRA    10415\n",
              "ESP     8568\n",
              "DEU     7287\n",
              "ITA     3766\n",
              "IRL     3375\n",
              "BEL     2342\n",
              "BRA     2224\n",
              "NLD     2104\n",
              "Name: country, dtype: int64"
            ]
          },
          "metadata": {},
          "execution_count": 27
        }
      ]
    },
    {
      "cell_type": "markdown",
      "source": [
        "Creating dataframe of above top 10"
      ],
      "metadata": {
        "id": "xUpS6q6L8ENK"
      }
    },
    {
      "cell_type": "code",
      "source": [
        "top_ten = df_data[df_data['country'].isin([\"PRT\",\"GBR\",\"FRA\",\"ESP\",\"DEU\",\"ITA\",\"IRL\",\"BEL\",\"BRA\",\"NLD\"])]"
      ],
      "metadata": {
        "id": "HMuy2tGt8KYs"
      },
      "execution_count": 28,
      "outputs": []
    },
    {
      "cell_type": "code",
      "source": [
        "plt.figure(figsize=(12,5))\n",
        "sns.countplot(x='country', hue = 'hotel', data = top_ten)\n",
        "plt.show()"
      ],
      "metadata": {
        "colab": {
          "base_uri": "https://localhost:8080/",
          "height": 334
        },
        "id": "pAaWxuAG6yww",
        "outputId": "c38bb9ed-7e9c-4be8-cb18-edbda81d179b"
      },
      "execution_count": 29,
      "outputs": [
        {
          "output_type": "display_data",
          "data": {
            "image/png": "[encoded data removed]",
            "text/plain": [
              "<Figure size 864x360 with 1 Axes>"
            ]
          },
          "metadata": {
            "needs_background": "light"
          }
        }
      ]
    },
    {
      "cell_type": "markdown",
      "source": [
        "portugal has max booking in resort as well as city hotel"
      ],
      "metadata": {
        "id": "f3a0CLy48waz"
      }
    },
    {
      "cell_type": "code",
      "source": [
        "plt.figure(figsize=(12,5))\n",
        "sns.countplot(x='country', hue = 'is_canceled', data = top_ten)\n",
        "plt.show()"
      ],
      "metadata": {
        "colab": {
          "base_uri": "https://localhost:8080/",
          "height": 334
        },
        "id": "VOKLh1Vp9Ej1",
        "outputId": "79432d02-8bdd-4905-e744-5baf8a7b9781"
      },
      "execution_count": 30,
      "outputs": [
        {
          "output_type": "display_data",
          "data": {
            "image/png": "[encoded data removed]",
            "text/plain": [
              "<Figure size 864x360 with 1 Axes>"
            ]
          },
          "metadata": {
            "needs_background": "light"
          }
        }
      ]
    },
    {
      "cell_type": "markdown",
      "source": [
        "So portugal has max cancellation aslo"
      ],
      "metadata": {
        "id": "dT4mMOV79aLp"
      }
    },
    {
      "cell_type": "markdown",
      "source": [
        "Now lets see the relationship between room changed and cancellation"
      ],
      "metadata": {
        "id": "KMbEYjwV91fv"
      }
    },
    {
      "cell_type": "code",
      "source": [
        "df_data['assigned_same_room'] = df_data['reserved_room_type']==df_data['assigned_room_type']\n",
        "df_data['assigned_same_room']"
      ],
      "metadata": {
        "colab": {
          "base_uri": "https://localhost:8080/"
        },
        "id": "SLY2_Eyt9YmG",
        "outputId": "ae7b5237-7297-460a-fcd0-ecdbbc8bdb55"
      },
      "execution_count": 31,
      "outputs": [
        {
          "output_type": "execute_result",
          "data": {
            "text/plain": [
              "0          True\n",
              "1          True\n",
              "2         False\n",
              "3          True\n",
              "4          True\n",
              "          ...  \n",
              "119385     True\n",
              "119386     True\n",
              "119387     True\n",
              "119388     True\n",
              "119389     True\n",
              "Name: assigned_same_room, Length: 119390, dtype: bool"
            ]
          },
          "metadata": {},
          "execution_count": 31
        }
      ]
    },
    {
      "cell_type": "code",
      "source": [
        "df_data.groupby(['assigned_same_room'])['is_canceled'].value_counts()"
      ],
      "metadata": {
        "colab": {
          "base_uri": "https://localhost:8080/"
        },
        "id": "3DdoPmXJasoc",
        "outputId": "9a86bb57-2409-42f4-90d8-4503f55f1648"
      },
      "execution_count": 32,
      "outputs": [
        {
          "output_type": "execute_result",
          "data": {
            "text/plain": [
              "assigned_same_room  is_canceled\n",
              "False               0              14115\n",
              "                    1                802\n",
              "True                0              61051\n",
              "                    1              43422\n",
              "Name: is_canceled, dtype: int64"
            ]
          },
          "metadata": {},
          "execution_count": 32
        }
      ]
    },
    {
      "cell_type": "code",
      "source": [
        "plt.figure(figsize=(12,5))\n",
        "sns.countplot(x='assigned_same_room', hue = 'is_canceled', data = df_data)\n",
        "plt.show()"
      ],
      "metadata": {
        "colab": {
          "base_uri": "https://localhost:8080/",
          "height": 335
        },
        "id": "W6MRmrCA-Y4E",
        "outputId": "10fab390-66a8-4120-9eda-de575bd0914c"
      },
      "execution_count": 33,
      "outputs": [
        {
          "output_type": "display_data",
          "data": {
            "image/png": "[encoded data removed]",
            "text/plain": [
              "<Figure size 864x360 with 1 Axes>"
            ]
          },
          "metadata": {
            "needs_background": "light"
          }
        }
      ]
    },
    {
      "cell_type": "markdown",
      "source": [
        "Customer who has not changed room type has cancellation more (write description later on)"
      ],
      "metadata": {
        "id": "zm_A1oWY_gtH"
      }
    },
    {
      "cell_type": "markdown",
      "source": [
        "What if you wanted to predict whether or not a hotel was likely to receive a disproportionately high number of special requests?"
      ],
      "metadata": {
        "id": "zk8K_hDMCKpD"
      }
    },
    {
      "cell_type": "code",
      "source": [
        "df_data.groupby(['total_of_special_requests'])['hotel'].value_counts()\n"
      ],
      "metadata": {
        "colab": {
          "base_uri": "https://localhost:8080/"
        },
        "id": "3kGweEBdAPJg",
        "outputId": "8f934272-4a66-48d7-815c-a109d6238fec"
      },
      "execution_count": 34,
      "outputs": [
        {
          "output_type": "execute_result",
          "data": {
            "text/plain": [
              "total_of_special_requests  hotel       \n",
              "0                          City Hotel      47957\n",
              "                           Resort Hotel    22361\n",
              "1                          City Hotel      21420\n",
              "                           Resort Hotel    11806\n",
              "2                          City Hotel       8142\n",
              "                           Resort Hotel     4827\n",
              "3                          City Hotel       1587\n",
              "                           Resort Hotel      910\n",
              "4                          City Hotel        198\n",
              "                           Resort Hotel      142\n",
              "5                          City Hotel         26\n",
              "                           Resort Hotel       14\n",
              "Name: hotel, dtype: int64"
            ]
          },
          "metadata": {},
          "execution_count": 34
        }
      ]
    },
    {
      "cell_type": "code",
      "source": [
        "plt.figure(figsize=(12,5))\n",
        "sns.countplot(x='total_of_special_requests', hue = 'hotel', data = df_data)\n",
        "plt.show()"
      ],
      "metadata": {
        "colab": {
          "base_uri": "https://localhost:8080/",
          "height": 337
        },
        "id": "B_5iF9i1AjLb",
        "outputId": "e5111dc0-da7e-4fc6-c0f6-cec4b80411bd"
      },
      "execution_count": 35,
      "outputs": [
        {
          "output_type": "display_data",
          "data": {
            "image/png": "[encoded data removed]",
            "text/plain": [
              "<Figure size 864x360 with 1 Axes>"
            ]
          },
          "metadata": {
            "needs_background": "light"
          }
        }
      ]
    },
    {
      "cell_type": "markdown",
      "source": [
        "So the probability of 0 special request is highest"
      ],
      "metadata": {
        "id": "G05cUFz7DORO"
      }
    },
    {
      "cell_type": "markdown",
      "source": [
        "Now lets see which type of people are booking more hotels\n",
        "We can divide it into three categories\n",
        "1. 1 adult - Single\n",
        "2. 2 adults, 0 children, 0 babies - Couple\n",
        "3. ...>=1 adults, >=1 children or >=1 babies - Family"
      ],
      "metadata": {
        "id": "KEFd7ZUZN4fD"
      }
    },
    {
      "cell_type": "code",
      "source": [
        "Single   = df_data[(df_data.adults==1) & (df_data.children==0) & (df_data.babies==0)]\n",
        "Couple   = df_data[(df_data.adults==2) & (df_data.children==0) & (df_data.babies==0)]\n",
        "Family   = df_data[df_data.adults + df_data.children + df_data.babies > 2]\n",
        "print(Single.shape[0], Couple.shape[0], Family.shape[0])"
      ],
      "metadata": {
        "colab": {
          "base_uri": "https://localhost:8080/"
        },
        "id": "CT6PMceGSSjf",
        "outputId": "273bf067-87c5-4fb3-86d4-2aa967f73d4a"
      },
      "execution_count": 62,
      "outputs": [
        {
          "output_type": "stream",
          "name": "stdout",
          "text": [
            "22577 81557 14577\n"
          ]
        }
      ]
    },
    {
      "cell_type": "markdown",
      "source": [
        "lets see in graph"
      ],
      "metadata": {
        "id": "eO1bXP1PT4z4"
      }
    },
    {
      "cell_type": "code",
      "source": [
        "Name=['Single','Couple','Family']\n",
        "Total=[Single.shape[0], Couple.shape[0], Family.shape[0]]\n",
        "plt.bar(Name,Total)\n",
        "plt.show()"
      ],
      "metadata": {
        "colab": {
          "base_uri": "https://localhost:8080/",
          "height": 320
        },
        "id": "AKumuq9PT7rn",
        "outputId": "f20b2e22-ea47-4b8e-e519-a3cc2d1a1372"
      },
      "execution_count": 71,
      "outputs": [
        {
          "output_type": "display_data",
          "data": {
            "image/png": "[encoded data removed]",
            "text/plain": [
              "<Figure size 864x360 with 1 Axes>"
            ]
          },
          "metadata": {
            "needs_background": "light"
          }
        }
      ]
    },
    {
      "cell_type": "markdown",
      "source": [
        "So as it is seen max booking was done by couples"
      ],
      "metadata": {
        "id": "NDlPloFWVX5K"
      }
    },
    {
      "cell_type": "markdown",
      "source": [
        "For how long people stay in hotel?"
      ],
      "metadata": {
        "id": "F77J3e_fg-kU"
      }
    },
    {
      "cell_type": "code",
      "source": [
        "df_data['total_night_spend'] = df_data['stays_in_weekend_nights'] + df_data['stays_in_week_nights']\n",
        "top_ten_values = df_data['total_night_spend'].value_counts().head(10)\n",
        "top_ten_values"
      ],
      "metadata": {
        "id": "zMpIKx9MDNzd",
        "colab": {
          "base_uri": "https://localhost:8080/"
        },
        "outputId": "331ab3fc-fc15-4406-c991-d9f7e6d9f464"
      },
      "execution_count": 36,
      "outputs": [
        {
          "output_type": "execute_result",
          "data": {
            "text/plain": [
              "2     27643\n",
              "3     27076\n",
              "1     21020\n",
              "4     17383\n",
              "7      8655\n",
              "5      7784\n",
              "6      3857\n",
              "8      1161\n",
              "10     1139\n",
              "14      916\n",
              "Name: total_night_spend, dtype: int64"
            ]
          },
          "metadata": {},
          "execution_count": 36
        }
      ]
    },
    {
      "cell_type": "markdown",
      "source": [
        "Now lets visualize above in graph"
      ],
      "metadata": {
        "id": "dFT7KdBjve9k"
      }
    },
    {
      "cell_type": "code",
      "source": [
        "top_ten_values.plot(kind='bar')"
      ],
      "metadata": {
        "colab": {
          "base_uri": "https://localhost:8080/",
          "height": 339
        },
        "id": "UlHM4JnVvjyU",
        "outputId": "025cdd28-5d95-4a0c-9305-65730ef58037"
      },
      "execution_count": 37,
      "outputs": [
        {
          "output_type": "execute_result",
          "data": {
            "text/plain": [
              "<matplotlib.axes._subplots.AxesSubplot at 0x7f6f461a3490>"
            ]
          },
          "metadata": {},
          "execution_count": 37
        },
        {
          "output_type": "display_data",
          "data": {
            "image/png": "[encoded data removed]",
            "text/plain": [
              "<Figure size 864x360 with 1 Axes>"
            ]
          },
          "metadata": {
            "needs_background": "light"
          }
        }
      ]
    },
    {
      "cell_type": "markdown",
      "source": [
        "So most of people satying in hotel for 2 days follow by 3 days and 1 day."
      ],
      "metadata": {
        "id": "pHQRu6FxyCAK"
      }
    },
    {
      "cell_type": "markdown",
      "source": [
        "Now lets compare resort and city hotel stays...."
      ],
      "metadata": {
        "id": "1ppk7JTVyNou"
      }
    },
    {
      "cell_type": "code",
      "source": [
        "top_ten_2=df_data.groupby(['total_night_spend'])['hotel'].value_counts()\n",
        "top_ten_2"
      ],
      "metadata": {
        "colab": {
          "base_uri": "https://localhost:8080/"
        },
        "id": "_DTsOtsw1bak",
        "outputId": "a046b4b4-243e-4dbc-a927-3e99c4298b0e"
      },
      "execution_count": 38,
      "outputs": [
        {
          "output_type": "execute_result",
          "data": {
            "text/plain": [
              "total_night_spend  hotel       \n",
              "0                  Resort Hotel      384\n",
              "                   City Hotel        331\n",
              "1                  City Hotel      13272\n",
              "                   Resort Hotel     7748\n",
              "2                  City Hotel      21426\n",
              "                                   ...  \n",
              "49                 City Hotel          1\n",
              "56                 Resort Hotel        2\n",
              "57                 City Hotel          1\n",
              "60                 Resort Hotel        1\n",
              "69                 Resort Hotel        1\n",
              "Name: hotel, Length: 76, dtype: int64"
            ]
          },
          "metadata": {},
          "execution_count": 38
        }
      ]
    },
    {
      "cell_type": "code",
      "source": [
        "plt.figure(figsize=(12,5))\n",
        "sns.countplot(x='total_night_spend', hue = 'hotel', data = df_data, order=df_data.total_night_spend.value_counts().iloc[:10].index)\n",
        "plt.show()"
      ],
      "metadata": {
        "colab": {
          "base_uri": "https://localhost:8080/",
          "height": 335
        },
        "id": "vOXLNIx-yBRe",
        "outputId": "3f81f64e-fd4a-4ceb-e605-74c47047a927"
      },
      "execution_count": 39,
      "outputs": [
        {
          "output_type": "display_data",
          "data": {
            "image/png": "[encoded data removed]",
            "text/plain": [
              "<Figure size 864x360 with 1 Axes>"
            ]
          },
          "metadata": {
            "needs_background": "light"
          }
        }
      ]
    },
    {
      "cell_type": "markdown",
      "source": [
        "For city hotel most popular stay in 2,3,1 days respectively. And for resort its 1,7,2 days respectively"
      ],
      "metadata": {
        "id": "sxafDCqw-L0U"
      }
    },
    {
      "cell_type": "markdown",
      "source": [
        "Explain what is ADR...."
      ],
      "metadata": {
        "id": "ZYw9C5a8BPKd"
      }
    },
    {
      "cell_type": "markdown",
      "source": [
        "Calculate avg ADR for given years"
      ],
      "metadata": {
        "id": "ne6OELvjAbsL"
      }
    },
    {
      "cell_type": "code",
      "source": [
        "df_data.groupby(['arrival_date_year'])['adr'].mean()"
      ],
      "metadata": {
        "colab": {
          "base_uri": "https://localhost:8080/"
        },
        "id": "oLOxYL1NAdkW",
        "outputId": "5a1c53c3-0470-4082-8f32-e646622d28bd"
      },
      "execution_count": 40,
      "outputs": [
        {
          "output_type": "execute_result",
          "data": {
            "text/plain": [
              "arrival_date_year\n",
              "2015     87.178515\n",
              "2016     98.325863\n",
              "2017    114.637950\n",
              "Name: adr, dtype: float64"
            ]
          },
          "metadata": {},
          "execution_count": 40
        }
      ]
    },
    {
      "cell_type": "code",
      "source": [
        "df_data.groupby(['arrival_date_year'])['adr'].mean().plot(kind='bar')"
      ],
      "metadata": {
        "colab": {
          "base_uri": "https://localhost:8080/",
          "height": 370
        },
        "id": "uT7H_eARBxPd",
        "outputId": "7f5b9b0a-5a7a-40a6-f3ac-d99c460567f6"
      },
      "execution_count": 41,
      "outputs": [
        {
          "output_type": "execute_result",
          "data": {
            "text/plain": [
              "<matplotlib.axes._subplots.AxesSubplot at 0x7f6f46076750>"
            ]
          },
          "metadata": {},
          "execution_count": 41
        },
        {
          "output_type": "display_data",
          "data": {
            "image/png": "[encoded data removed]",
            "text/plain": [
              "<Figure size 864x360 with 1 Axes>"
            ]
          },
          "metadata": {
            "needs_background": "light"
          }
        }
      ]
    },
    {
      "cell_type": "markdown",
      "source": [
        "So in 2017 the avg adr is max"
      ],
      "metadata": {
        "id": "ci0TvO_4B3UY"
      }
    },
    {
      "cell_type": "markdown",
      "source": [
        "Lets calculate avg daily rate for hotels"
      ],
      "metadata": {
        "id": "QKbj-QjICTgG"
      }
    },
    {
      "cell_type": "code",
      "source": [
        "df_data.groupby(['hotel'])['adr'].mean()"
      ],
      "metadata": {
        "colab": {
          "base_uri": "https://localhost:8080/"
        },
        "id": "nqMefgDjB1ad",
        "outputId": "b9de01ad-79af-482a-8ec0-10acd7cc80e5"
      },
      "execution_count": 42,
      "outputs": [
        {
          "output_type": "execute_result",
          "data": {
            "text/plain": [
              "hotel\n",
              "City Hotel      105.304465\n",
              "Resort Hotel     94.952930\n",
              "Name: adr, dtype: float64"
            ]
          },
          "metadata": {},
          "execution_count": 42
        }
      ]
    },
    {
      "cell_type": "code",
      "source": [
        "df_data.groupby(['hotel'])['adr'].mean().plot(kind='bar')"
      ],
      "metadata": {
        "colab": {
          "base_uri": "https://localhost:8080/",
          "height": 402
        },
        "id": "RWj3J1LnCbVR",
        "outputId": "d0ebb176-85d6-45dd-a9ab-fd8d862ef045"
      },
      "execution_count": 43,
      "outputs": [
        {
          "output_type": "execute_result",
          "data": {
            "text/plain": [
              "<matplotlib.axes._subplots.AxesSubplot at 0x7f6f4607f5d0>"
            ]
          },
          "metadata": {},
          "execution_count": 43
        },
        {
          "output_type": "display_data",
          "data": {
            "image/png": "[encoded data removed]",
            "text/plain": [
              "<Figure size 864x360 with 1 Axes>"
            ]
          },
          "metadata": {
            "needs_background": "light"
          }
        }
      ]
    },
    {
      "cell_type": "markdown",
      "source": [
        "Now lets see adr country wise"
      ],
      "metadata": {
        "id": "178oESpHG0GN"
      }
    },
    {
      "cell_type": "code",
      "source": [
        "df_data.groupby(['country'])['adr'].mean().sort_values(ascending=False).head(10)"
      ],
      "metadata": {
        "colab": {
          "base_uri": "https://localhost:8080/"
        },
        "id": "h5hJLm9VCiMJ",
        "outputId": "4c7eb75f-5882-4a94-d758-873090b14a8f"
      },
      "execution_count": 44,
      "outputs": [
        {
          "output_type": "execute_result",
          "data": {
            "text/plain": [
              "country\n",
              "DJI    273.000000\n",
              "AIA    265.000000\n",
              "AND    202.652857\n",
              "UMI    200.000000\n",
              "LAO    181.665000\n",
              "MYT    177.750000\n",
              "NCL    175.500000\n",
              "GEO    169.015909\n",
              "COM    165.305000\n",
              "FRO    155.200000\n",
              "Name: adr, dtype: float64"
            ]
          },
          "metadata": {},
          "execution_count": 44
        }
      ]
    },
    {
      "cell_type": "code",
      "source": [
        "df_data.groupby(['country'])['adr'].mean().sort_values(ascending=False).head(10).plot(kind='bar')"
      ],
      "metadata": {
        "colab": {
          "base_uri": "https://localhost:8080/",
          "height": 364
        },
        "id": "n9dh5uL4G_u5",
        "outputId": "84986b85-af89-47f8-a0c0-c443a4670fd5"
      },
      "execution_count": 45,
      "outputs": [
        {
          "output_type": "execute_result",
          "data": {
            "text/plain": [
              "<matplotlib.axes._subplots.AxesSubplot at 0x7f6f46217dd0>"
            ]
          },
          "metadata": {},
          "execution_count": 45
        },
        {
          "output_type": "display_data",
          "data": {
            "image/png": "[encoded data removed]",
            "text/plain": [
              "<Figure size 864x360 with 1 Axes>"
            ]
          },
          "metadata": {
            "needs_background": "light"
          }
        }
      ]
    },
    {
      "cell_type": "markdown",
      "source": [
        "So the highest adr is of Djibouti (DJI) . But the above 10 countries are not our top 10 coutries who has highest booking. So lets see our top 10 countries with highes booking and their adr\n"
      ],
      "metadata": {
        "id": "HINgM1TUHo_a"
      }
    },
    {
      "cell_type": "code",
      "source": [
        "ADR_of_top_ten=df_data.groupby('country').agg(Country_count=('country','count'),ADR=('adr','mean')).sort_values(by='Country_count',ascending=False).head(10)\n",
        "ADR_of_top_ten"
      ],
      "metadata": {
        "colab": {
          "base_uri": "https://localhost:8080/",
          "height": 394
        },
        "id": "2E2BqmKrKtmd",
        "outputId": "132804ef-c3cc-4e9a-bb3c-46b689e73c96"
      },
      "execution_count": 46,
      "outputs": [
        {
          "output_type": "execute_result",
          "data": {
            "text/html": [
              "\n",
              "  <div id=\"df-8bbd207b-102b-4f7d-8638-8cb02f87731f\">\n",
              "    <div class=\"colab-df-container\">\n",
              "      <div>\n",
              "<style scoped>\n",
              "    .dataframe tbody tr th:only-of-type {\n",
              "        vertical-align: middle;\n",
              "    }\n",
              "\n",
              "    .dataframe tbody tr th {\n",
              "        vertical-align: top;\n",
              "    }\n",
              "\n",
              "    .dataframe thead th {\n",
              "        text-align: right;\n",
              "    }\n",
              "</style>\n",
              "<table border=\"1\" class=\"dataframe\">\n",
              "  <thead>\n",
              "    <tr style=\"text-align: right;\">\n",
              "      <th></th>\n",
              "      <th>Country_count</th>\n",
              "      <th>ADR</th>\n",
              "    </tr>\n",
              "    <tr>\n",
              "      <th>country</th>\n",
              "      <th></th>\n",
              "      <th></th>\n",
              "    </tr>\n",
              "  </thead>\n",
              "  <tbody>\n",
              "    <tr>\n",
              "      <th>PRT</th>\n",
              "      <td>48590</td>\n",
              "      <td>92.041483</td>\n",
              "    </tr>\n",
              "    <tr>\n",
              "      <th>GBR</th>\n",
              "      <td>12129</td>\n",
              "      <td>96.022058</td>\n",
              "    </tr>\n",
              "    <tr>\n",
              "      <th>FRA</th>\n",
              "      <td>10415</td>\n",
              "      <td>109.617276</td>\n",
              "    </tr>\n",
              "    <tr>\n",
              "      <th>ESP</th>\n",
              "      <td>8568</td>\n",
              "      <td>116.995463</td>\n",
              "    </tr>\n",
              "    <tr>\n",
              "      <th>DEU</th>\n",
              "      <td>7287</td>\n",
              "      <td>104.396756</td>\n",
              "    </tr>\n",
              "    <tr>\n",
              "      <th>ITA</th>\n",
              "      <td>3766</td>\n",
              "      <td>113.948208</td>\n",
              "    </tr>\n",
              "    <tr>\n",
              "      <th>IRL</th>\n",
              "      <td>3375</td>\n",
              "      <td>98.192172</td>\n",
              "    </tr>\n",
              "    <tr>\n",
              "      <th>BEL</th>\n",
              "      <td>2342</td>\n",
              "      <td>113.847784</td>\n",
              "    </tr>\n",
              "    <tr>\n",
              "      <th>BRA</th>\n",
              "      <td>2224</td>\n",
              "      <td>111.005337</td>\n",
              "    </tr>\n",
              "    <tr>\n",
              "      <th>NLD</th>\n",
              "      <td>2104</td>\n",
              "      <td>108.085480</td>\n",
              "    </tr>\n",
              "  </tbody>\n",
              "</table>\n",
              "</div>\n",
              "      <button class=\"colab-df-convert\" onclick=\"convertToInteractive('df-8bbd207b-102b-4f7d-8638-8cb02f87731f')\"\n",
              "              title=\"Convert this dataframe to an interactive table.\"\n",
              "              style=\"display:none;\">\n",
              "        \n",
              "  <svg xmlns=\"http://www.w3.org/2000/svg\" height=\"24px\"viewBox=\"0 0 24 24\"\n",
              "       width=\"24px\">\n",
              "    <path d=\"M0 0h24v24H0V0z\" fill=\"none\"/>\n",
              "    <path d=\"M18.56 5.44l.94 2.06.94-2.06 2.06-.94-2.06-.94-.94-2.06-.94 2.06-2.06.94zm-11 1L8.5 8.5l.94-2.06 2.06-.94-2.06-.94L8.5 2.5l-.94 2.06-2.06.94zm10 10l.94 2.06.94-2.06 2.06-.94-2.06-.94-.94-2.06-.94 2.06-2.06.94z\"/><path d=\"M17.41 7.96l-1.37-1.37c-.4-.4-.92-.59-1.43-.59-.52 0-1.04.2-1.43.59L10.3 9.45l-7.72 7.72c-.78.78-.78 2.05 0 2.83L4 21.41c.39.39.9.59 1.41.59.51 0 1.02-.2 1.41-.59l7.78-7.78 2.81-2.81c.8-.78.8-2.07 0-2.86zM5.41 20L4 18.59l7.72-7.72 1.47 1.35L5.41 20z\"/>\n",
              "  </svg>\n",
              "      </button>\n",
              "      \n",
              "  <style>\n",
              "    .colab-df-container {\n",
              "      display:flex;\n",
              "      flex-wrap:wrap;\n",
              "      gap: 12px;\n",
              "    }\n",
              "\n",
              "    .colab-df-convert {\n",
              "      background-color: #E8F0FE;\n",
              "      border: none;\n",
              "      border-radius: 50%;\n",
              "      cursor: pointer;\n",
              "      display: none;\n",
              "      fill: #1967D2;\n",
              "      height: 32px;\n",
              "      padding: 0 0 0 0;\n",
              "      width: 32px;\n",
              "    }\n",
              "\n",
              "    .colab-df-convert:hover {\n",
              "      background-color: #E2EBFA;\n",
              "      box-shadow: 0px 1px 2px rgba(60, 64, 67, 0.3), 0px 1px 3px 1px rgba(60, 64, 67, 0.15);\n",
              "      fill: #174EA6;\n",
              "    }\n",
              "\n",
              "    [theme=dark] .colab-df-convert {\n",
              "      background-color: #3B4455;\n",
              "      fill: #D2E3FC;\n",
              "    }\n",
              "\n",
              "    [theme=dark] .colab-df-convert:hover {\n",
              "      background-color: #434B5C;\n",
              "      box-shadow: 0px 1px 3px 1px rgba(0, 0, 0, 0.15);\n",
              "      filter: drop-shadow(0px 1px 2px rgba(0, 0, 0, 0.3));\n",
              "      fill: #FFFFFF;\n",
              "    }\n",
              "  </style>\n",
              "\n",
              "      <script>\n",
              "        const buttonEl =\n",
              "          document.querySelector('#df-8bbd207b-102b-4f7d-8638-8cb02f87731f button.colab-df-convert');\n",
              "        buttonEl.style.display =\n",
              "          google.colab.kernel.accessAllowed ? 'block' : 'none';\n",
              "\n",
              "        async function convertToInteractive(key) {\n",
              "          const element = document.querySelector('#df-8bbd207b-102b-4f7d-8638-8cb02f87731f');\n",
              "          const dataTable =\n",
              "            await google.colab.kernel.invokeFunction('convertToInteractive',\n",
              "                                                     [key], {});\n",
              "          if (!dataTable) return;\n",
              "\n",
              "          const docLinkHtml = 'Like what you see? Visit the ' +\n",
              "            '<a target=\"_blank\" href=https://colab.research.google.com/notebooks/data_table.ipynb>data table notebook</a>'\n",
              "            + ' to learn more about interactive tables.';\n",
              "          element.innerHTML = '';\n",
              "          dataTable['output_type'] = 'display_data';\n",
              "          await google.colab.output.renderOutput(dataTable, element);\n",
              "          const docLink = document.createElement('div');\n",
              "          docLink.innerHTML = docLinkHtml;\n",
              "          element.appendChild(docLink);\n",
              "        }\n",
              "      </script>\n",
              "    </div>\n",
              "  </div>\n",
              "  "
            ],
            "text/plain": [
              "         Country_count         ADR\n",
              "country                           \n",
              "PRT              48590   92.041483\n",
              "GBR              12129   96.022058\n",
              "FRA              10415  109.617276\n",
              "ESP               8568  116.995463\n",
              "DEU               7287  104.396756\n",
              "ITA               3766  113.948208\n",
              "IRL               3375   98.192172\n",
              "BEL               2342  113.847784\n",
              "BRA               2224  111.005337\n",
              "NLD               2104  108.085480"
            ]
          },
          "metadata": {},
          "execution_count": 46
        }
      ]
    },
    {
      "cell_type": "code",
      "source": [
        "ADR_of_top_ten.drop('Country_count',axis=1,inplace=True)"
      ],
      "metadata": {
        "id": "g-0v6gD2TWSa"
      },
      "execution_count": 47,
      "outputs": []
    },
    {
      "cell_type": "code",
      "source": [
        "ADR_of_top_ten.plot(kind='bar')"
      ],
      "metadata": {
        "colab": {
          "base_uri": "https://localhost:8080/",
          "height": 362
        },
        "id": "wu8HKNBzWN0k",
        "outputId": "565033e1-f5d8-4cf3-ae50-307e08d05614"
      },
      "execution_count": 48,
      "outputs": [
        {
          "output_type": "execute_result",
          "data": {
            "text/plain": [
              "<matplotlib.axes._subplots.AxesSubplot at 0x7f6f46340610>"
            ]
          },
          "metadata": {},
          "execution_count": 48
        },
        {
          "output_type": "display_data",
          "data": {
            "image/png": "[encoded data removed]",
            "text/plain": [
              "<Figure size 864x360 with 1 Axes>"
            ]
          },
          "metadata": {
            "needs_background": "light"
          }
        }
      ]
    },
    {
      "cell_type": "markdown",
      "source": [
        "So as we can see here the highest number of booking 48560 is of portugal and its adr is 92.04"
      ],
      "metadata": {
        "id": "UQegWK2BWa0z"
      }
    },
    {
      "cell_type": "markdown",
      "source": [
        "2.   **What is the optimal length of stay in order to get the best daily rate?**"
      ],
      "metadata": {
        "id": "y-vZiyC9YLm9"
      }
    },
    {
      "cell_type": "code",
      "source": [
        "\n",
        "df_data.groupby(['total_night_spend'])['adr'].mean().head(10)"
      ],
      "metadata": {
        "colab": {
          "base_uri": "https://localhost:8080/"
        },
        "id": "6GNKpgxJWXZV",
        "outputId": "f19d3ddc-73c4-48c8-d153-32a97a3c6f81"
      },
      "execution_count": 49,
      "outputs": [
        {
          "output_type": "execute_result",
          "data": {
            "text/plain": [
              "total_night_spend\n",
              "0      0.000000\n",
              "1     94.697787\n",
              "2     97.723088\n",
              "3    105.152492\n",
              "4    104.970035\n",
              "5    113.223704\n",
              "6    119.876025\n",
              "7    103.422341\n",
              "8    113.954574\n",
              "9    114.614197\n",
              "Name: adr, dtype: float64"
            ]
          },
          "metadata": {},
          "execution_count": 49
        }
      ]
    }
  ]
}