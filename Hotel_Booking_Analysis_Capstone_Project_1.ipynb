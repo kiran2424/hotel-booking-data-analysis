{
  "nbformat": 4,
  "nbformat_minor": 0,
  "metadata": {
    "kernelspec": {
      "display_name": "Python 3",
      "language": "python",
      "name": "python3"
    },
    "language_info": {
      "codemirror_mode": {
        "name": "ipython",
        "version": 3
      },
      "file_extension": ".py",
      "mimetype": "text/x-python",
      "name": "python",
      "nbconvert_exporter": "python",
      "pygments_lexer": "ipython3",
      "version": "3.6.6"
    },
    "colab": {
      "name": "Hotel Booking Analysis - Capstone Project-1.ipynb",
      "provenance": [],
      "collapsed_sections": [],
      "include_colab_link": true
    }
  },
  "cells": [
    {
      "cell_type": "markdown",
      "metadata": {
        "id": "view-in-github",
        "colab_type": "text"
      },
      "source": [
        "<a href=\"https://colab.research.google.com/github/kiran2424/hotel-booking-data-analysis/blob/main/Hotel_Booking_Analysis_Capstone_Project_1.ipynb\" target=\"_parent\"><img src=\"https://colab.research.google.com/assets/colab-badge.svg\" alt=\"Open In Colab\"/></a>"
      ]
    },
    {
      "cell_type": "markdown",
      "metadata": {
        "id": "Y06xIdG26kRF"
      },
      "source": [
        "## <b> Have you ever wondered when the best time of year to book a hotel room is? Or the optimal length of stay in order to get the best daily rate? What if you wanted to predict whether or not a hotel was likely to receive a disproportionately high number of special requests? This hotel booking dataset can help you explore those questions!\n",
        "\n",
        "## <b>This data set contains booking information for a city hotel and a resort hotel, and includes information such as when the booking was made, length of stay, the number of adults, children, and/or babies, and the number of available parking spaces, among other things. All personally identifying information has been removed from the data. </b>\n",
        "\n",
        "## <b> Explore and analyze the data to discover important factors that govern the bookings. </b>"
      ]
    },
    {
      "cell_type": "markdown",
      "source": [
        "The hotel industry is one of the most important components of the wider service industry, catering for customers who require overnight accommodation. The primary purpose of hotels is to provide travelers with shelter, food, refreshment, and similar services.\n",
        "\n",
        "Data analytics in the hotel industry can help hoteliers to develop a strategy for managing revenue by using the available data. \n",
        "\n",
        "Lets analyse the data set and perform various comparison studies & calculations to draw out conclusions through the information.\n",
        "\n",
        "We will analyse the data by the following steps:\n",
        "\n",
        "  A) **Import Libraries**\n",
        "\n",
        "  B) **Importing Data**\n",
        "\n",
        "  C) **Data Cleaning**\n",
        "\n",
        "  D) **Data Analysis and Data Visualisation**\n",
        "\n",
        "  E) **Conclusion**\n",
        "\n",
        "  F) **Summation**\n",
        "\n"
      ],
      "metadata": {
        "id": "pQil0IEBRl6w"
      }
    },
    {
      "cell_type": "markdown",
      "source": [
        "Now before we start to analyze the data lets built some questions so that we can come to an conclusion."
      ],
      "metadata": {
        "id": "Qxnp9owm2ItI"
      }
    },
    {
      "cell_type": "markdown",
      "source": [
        "1. Which type of hotels that are booked?\n",
        "2. Which type of customers is booking hotels?\n",
        "3. From which medium the maximum booking had happened?\n",
        "4. Find the rate of cancellation of hotels?\n",
        "5. Find the month and year that has maximum booking? Compare it with hotel type and hotel canceled.\n",
        "6. Find the top 10 countries that had maximum bookings?\n",
        "7. Find the relationship between room change and cancellation?\n",
        "8. What if you wanted to predict whether or not a hotel was likely to receive a disproportionately high number of special requests?\n",
        "9. What Kind of People Book the Most Hotels?\n",
        "10. For how long do people stay in the hotel?\n",
        "11. Percentage of Repeated Guests in hotels\n",
        "12. Analyse avg ADR for given statements\n",
        "      - Avg ADR for each year\n",
        "      - Avg ADR for resort and hotel\n",
        "      - Avg ADR for each country\n",
        "      - Avg ADR of top 10 country who has highest number of bookings\n"
      ],
      "metadata": {
        "id": "roPJu2MJ9tNy"
      }
    },
    {
      "cell_type": "markdown",
      "source": [
        "# **A) Import Libraries**"
      ],
      "metadata": {
        "id": "r0_78pCuzQHT"
      }
    },
    {
      "cell_type": "code",
      "metadata": {
        "id": "dByMsuzT8Tnw"
      },
      "source": [
        "# Lets import the neccessory Libraries\n",
        "import pandas as pd\n",
        "import numpy as np\n",
        "import matplotlib.pyplot as plt\n",
        "import seaborn as sns\n",
        "%matplotlib inline "
      ],
      "execution_count": null,
      "outputs": []
    },
    {
      "cell_type": "markdown",
      "source": [
        "# **B) Importing Data**"
      ],
      "metadata": {
        "id": "tFCDFNTGzf3Y"
      }
    },
    {
      "cell_type": "code",
      "source": [
        "# Importing data from google drive\n",
        "from google.colab import drive\n",
        "drive.mount('/content/drive')"
      ],
      "metadata": {
        "colab": {
          "base_uri": "https://localhost:8080/"
        },
        "id": "21hEBNilYBMX",
        "outputId": "6e0b07c6-0682-4f54-f87f-0af2dff7ccd4"
      },
      "execution_count": null,
      "outputs": [
        {
          "output_type": "stream",
          "name": "stdout",
          "text": [
            "Mounted at /content/drive\n"
          ]
        }
      ]
    },
    {
      "cell_type": "code",
      "source": [
        "# Read data\n",
        "df_data = pd.read_csv('/content/drive/MyDrive/Colab Notebooks/Capstone P1 - EDA/Hotel_Bookings.csv')"
      ],
      "metadata": {
        "id": "E27HpwumX5kC"
      },
      "execution_count": null,
      "outputs": []
    },
    {
      "cell_type": "code",
      "source": [
        "#Information of loaded data\n",
        "df_data.info()"
      ],
      "metadata": {
        "colab": {
          "base_uri": "https://localhost:8080/"
        },
        "id": "0K2hbxyBZgVM",
        "outputId": "71b57fb4-2c58-46a2-a5a7-3634891e8b33"
      },
      "execution_count": null,
      "outputs": [
        {
          "output_type": "stream",
          "name": "stdout",
          "text": [
            "<class 'pandas.core.frame.DataFrame'>\n",
            "RangeIndex: 119390 entries, 0 to 119389\n",
            "Data columns (total 32 columns):\n",
            " #   Column                          Non-Null Count   Dtype  \n",
            "---  ------                          --------------   -----  \n",
            " 0   hotel                           119390 non-null  object \n",
            " 1   is_canceled                     119390 non-null  int64  \n",
            " 2   lead_time                       119390 non-null  int64  \n",
            " 3   arrival_date_year               119390 non-null  int64  \n",
            " 4   arrival_date_month              119390 non-null  object \n",
            " 5   arrival_date_week_number        119390 non-null  int64  \n",
            " 6   arrival_date_day_of_month       119390 non-null  int64  \n",
            " 7   stays_in_weekend_nights         119390 non-null  int64  \n",
            " 8   stays_in_week_nights            119390 non-null  int64  \n",
            " 9   adults                          119390 non-null  int64  \n",
            " 10  children                        119386 non-null  float64\n",
            " 11  babies                          119390 non-null  int64  \n",
            " 12  meal                            119390 non-null  object \n",
            " 13  country                         118902 non-null  object \n",
            " 14  market_segment                  119390 non-null  object \n",
            " 15  distribution_channel            119390 non-null  object \n",
            " 16  is_repeated_guest               119390 non-null  int64  \n",
            " 17  previous_cancellations          119390 non-null  int64  \n",
            " 18  previous_bookings_not_canceled  119390 non-null  int64  \n",
            " 19  reserved_room_type              119390 non-null  object \n",
            " 20  assigned_room_type              119390 non-null  object \n",
            " 21  booking_changes                 119390 non-null  int64  \n",
            " 22  deposit_type                    119390 non-null  object \n",
            " 23  agent                           103050 non-null  float64\n",
            " 24  company                         6797 non-null    float64\n",
            " 25  days_in_waiting_list            119390 non-null  int64  \n",
            " 26  customer_type                   119390 non-null  object \n",
            " 27  adr                             119390 non-null  float64\n",
            " 28  required_car_parking_spaces     119390 non-null  int64  \n",
            " 29  total_of_special_requests       119390 non-null  int64  \n",
            " 30  reservation_status              119390 non-null  object \n",
            " 31  reservation_status_date         119390 non-null  object \n",
            "dtypes: float64(4), int64(16), object(12)\n",
            "memory usage: 29.1+ MB\n"
          ]
        }
      ]
    },
    {
      "cell_type": "code",
      "source": [
        "#Last two rows of data\n",
        "df_data.tail(2)"
      ],
      "metadata": {
        "colab": {
          "base_uri": "https://localhost:8080/",
          "height": 211
        },
        "id": "bV5Bz1sCZ7pD",
        "outputId": "9531c563-0a37-4a75-c9a8-7706070eab1a"
      },
      "execution_count": null,
      "outputs": [
        {
          "output_type": "execute_result",
          "data": {
            "text/html": [
              "\n",
              "  <div id=\"df-09848e56-91a3-4a4b-a479-263e97eb90bb\">\n",
              "    <div class=\"colab-df-container\">\n",
              "      <div>\n",
              "<style scoped>\n",
              "    .dataframe tbody tr th:only-of-type {\n",
              "        vertical-align: middle;\n",
              "    }\n",
              "\n",
              "    .dataframe tbody tr th {\n",
              "        vertical-align: top;\n",
              "    }\n",
              "\n",
              "    .dataframe thead th {\n",
              "        text-align: right;\n",
              "    }\n",
              "</style>\n",
              "<table border=\"1\" class=\"dataframe\">\n",
              "  <thead>\n",
              "    <tr style=\"text-align: right;\">\n",
              "      <th></th>\n",
              "      <th>hotel</th>\n",
              "      <th>is_canceled</th>\n",
              "      <th>lead_time</th>\n",
              "      <th>arrival_date_year</th>\n",
              "      <th>arrival_date_month</th>\n",
              "      <th>arrival_date_week_number</th>\n",
              "      <th>arrival_date_day_of_month</th>\n",
              "      <th>stays_in_weekend_nights</th>\n",
              "      <th>stays_in_week_nights</th>\n",
              "      <th>adults</th>\n",
              "      <th>children</th>\n",
              "      <th>babies</th>\n",
              "      <th>meal</th>\n",
              "      <th>country</th>\n",
              "      <th>market_segment</th>\n",
              "      <th>distribution_channel</th>\n",
              "      <th>is_repeated_guest</th>\n",
              "      <th>previous_cancellations</th>\n",
              "      <th>previous_bookings_not_canceled</th>\n",
              "      <th>reserved_room_type</th>\n",
              "      <th>assigned_room_type</th>\n",
              "      <th>booking_changes</th>\n",
              "      <th>deposit_type</th>\n",
              "      <th>agent</th>\n",
              "      <th>company</th>\n",
              "      <th>days_in_waiting_list</th>\n",
              "      <th>customer_type</th>\n",
              "      <th>adr</th>\n",
              "      <th>required_car_parking_spaces</th>\n",
              "      <th>total_of_special_requests</th>\n",
              "      <th>reservation_status</th>\n",
              "      <th>reservation_status_date</th>\n",
              "    </tr>\n",
              "  </thead>\n",
              "  <tbody>\n",
              "    <tr>\n",
              "      <th>119388</th>\n",
              "      <td>City Hotel</td>\n",
              "      <td>0</td>\n",
              "      <td>109</td>\n",
              "      <td>2017</td>\n",
              "      <td>August</td>\n",
              "      <td>35</td>\n",
              "      <td>31</td>\n",
              "      <td>2</td>\n",
              "      <td>5</td>\n",
              "      <td>2</td>\n",
              "      <td>0.0</td>\n",
              "      <td>0</td>\n",
              "      <td>BB</td>\n",
              "      <td>GBR</td>\n",
              "      <td>Online TA</td>\n",
              "      <td>TA/TO</td>\n",
              "      <td>0</td>\n",
              "      <td>0</td>\n",
              "      <td>0</td>\n",
              "      <td>A</td>\n",
              "      <td>A</td>\n",
              "      <td>0</td>\n",
              "      <td>No Deposit</td>\n",
              "      <td>89.0</td>\n",
              "      <td>NaN</td>\n",
              "      <td>0</td>\n",
              "      <td>Transient</td>\n",
              "      <td>104.4</td>\n",
              "      <td>0</td>\n",
              "      <td>0</td>\n",
              "      <td>Check-Out</td>\n",
              "      <td>2017-09-07</td>\n",
              "    </tr>\n",
              "    <tr>\n",
              "      <th>119389</th>\n",
              "      <td>City Hotel</td>\n",
              "      <td>0</td>\n",
              "      <td>205</td>\n",
              "      <td>2017</td>\n",
              "      <td>August</td>\n",
              "      <td>35</td>\n",
              "      <td>29</td>\n",
              "      <td>2</td>\n",
              "      <td>7</td>\n",
              "      <td>2</td>\n",
              "      <td>0.0</td>\n",
              "      <td>0</td>\n",
              "      <td>HB</td>\n",
              "      <td>DEU</td>\n",
              "      <td>Online TA</td>\n",
              "      <td>TA/TO</td>\n",
              "      <td>0</td>\n",
              "      <td>0</td>\n",
              "      <td>0</td>\n",
              "      <td>A</td>\n",
              "      <td>A</td>\n",
              "      <td>0</td>\n",
              "      <td>No Deposit</td>\n",
              "      <td>9.0</td>\n",
              "      <td>NaN</td>\n",
              "      <td>0</td>\n",
              "      <td>Transient</td>\n",
              "      <td>151.2</td>\n",
              "      <td>0</td>\n",
              "      <td>2</td>\n",
              "      <td>Check-Out</td>\n",
              "      <td>2017-09-07</td>\n",
              "    </tr>\n",
              "  </tbody>\n",
              "</table>\n",
              "</div>\n",
              "      <button class=\"colab-df-convert\" onclick=\"convertToInteractive('df-09848e56-91a3-4a4b-a479-263e97eb90bb')\"\n",
              "              title=\"Convert this dataframe to an interactive table.\"\n",
              "              style=\"display:none;\">\n",
              "        \n",
              "  <svg xmlns=\"http://www.w3.org/2000/svg\" height=\"24px\"viewBox=\"0 0 24 24\"\n",
              "       width=\"24px\">\n",
              "    <path d=\"M0 0h24v24H0V0z\" fill=\"none\"/>\n",
              "    <path d=\"M18.56 5.44l.94 2.06.94-2.06 2.06-.94-2.06-.94-.94-2.06-.94 2.06-2.06.94zm-11 1L8.5 8.5l.94-2.06 2.06-.94-2.06-.94L8.5 2.5l-.94 2.06-2.06.94zm10 10l.94 2.06.94-2.06 2.06-.94-2.06-.94-.94-2.06-.94 2.06-2.06.94z\"/><path d=\"M17.41 7.96l-1.37-1.37c-.4-.4-.92-.59-1.43-.59-.52 0-1.04.2-1.43.59L10.3 9.45l-7.72 7.72c-.78.78-.78 2.05 0 2.83L4 21.41c.39.39.9.59 1.41.59.51 0 1.02-.2 1.41-.59l7.78-7.78 2.81-2.81c.8-.78.8-2.07 0-2.86zM5.41 20L4 18.59l7.72-7.72 1.47 1.35L5.41 20z\"/>\n",
              "  </svg>\n",
              "      </button>\n",
              "      \n",
              "  <style>\n",
              "    .colab-df-container {\n",
              "      display:flex;\n",
              "      flex-wrap:wrap;\n",
              "      gap: 12px;\n",
              "    }\n",
              "\n",
              "    .colab-df-convert {\n",
              "      background-color: #E8F0FE;\n",
              "      border: none;\n",
              "      border-radius: 50%;\n",
              "      cursor: pointer;\n",
              "      display: none;\n",
              "      fill: #1967D2;\n",
              "      height: 32px;\n",
              "      padding: 0 0 0 0;\n",
              "      width: 32px;\n",
              "    }\n",
              "\n",
              "    .colab-df-convert:hover {\n",
              "      background-color: #E2EBFA;\n",
              "      box-shadow: 0px 1px 2px rgba(60, 64, 67, 0.3), 0px 1px 3px 1px rgba(60, 64, 67, 0.15);\n",
              "      fill: #174EA6;\n",
              "    }\n",
              "\n",
              "    [theme=dark] .colab-df-convert {\n",
              "      background-color: #3B4455;\n",
              "      fill: #D2E3FC;\n",
              "    }\n",
              "\n",
              "    [theme=dark] .colab-df-convert:hover {\n",
              "      background-color: #434B5C;\n",
              "      box-shadow: 0px 1px 3px 1px rgba(0, 0, 0, 0.15);\n",
              "      filter: drop-shadow(0px 1px 2px rgba(0, 0, 0, 0.3));\n",
              "      fill: #FFFFFF;\n",
              "    }\n",
              "  </style>\n",
              "\n",
              "      <script>\n",
              "        const buttonEl =\n",
              "          document.querySelector('#df-09848e56-91a3-4a4b-a479-263e97eb90bb button.colab-df-convert');\n",
              "        buttonEl.style.display =\n",
              "          google.colab.kernel.accessAllowed ? 'block' : 'none';\n",
              "\n",
              "        async function convertToInteractive(key) {\n",
              "          const element = document.querySelector('#df-09848e56-91a3-4a4b-a479-263e97eb90bb');\n",
              "          const dataTable =\n",
              "            await google.colab.kernel.invokeFunction('convertToInteractive',\n",
              "                                                     [key], {});\n",
              "          if (!dataTable) return;\n",
              "\n",
              "          const docLinkHtml = 'Like what you see? Visit the ' +\n",
              "            '<a target=\"_blank\" href=https://colab.research.google.com/notebooks/data_table.ipynb>data table notebook</a>'\n",
              "            + ' to learn more about interactive tables.';\n",
              "          element.innerHTML = '';\n",
              "          dataTable['output_type'] = 'display_data';\n",
              "          await google.colab.output.renderOutput(dataTable, element);\n",
              "          const docLink = document.createElement('div');\n",
              "          docLink.innerHTML = docLinkHtml;\n",
              "          element.appendChild(docLink);\n",
              "        }\n",
              "      </script>\n",
              "    </div>\n",
              "  </div>\n",
              "  "
            ],
            "text/plain": [
              "             hotel  is_canceled  ...  reservation_status  reservation_status_date\n",
              "119388  City Hotel            0  ...           Check-Out               2017-09-07\n",
              "119389  City Hotel            0  ...           Check-Out               2017-09-07\n",
              "\n",
              "[2 rows x 32 columns]"
            ]
          },
          "metadata": {},
          "execution_count": 5
        }
      ]
    },
    {
      "cell_type": "markdown",
      "source": [
        "# **C) Data Cleaning**"
      ],
      "metadata": {
        "id": "WJNYtGM2spiD"
      }
    },
    {
      "cell_type": "code",
      "source": [
        "# Missing data\n",
        "total = df_data.isnull().sum().sort_values(ascending=False)\n",
        "percent = ((df_data.isnull().sum()/df_data.isnull().count())*100).sort_values(ascending=False)\n",
        "missing_data = pd.concat([total, percent], axis=1, keys=['Total', 'Percent'])\n",
        "missing_data.head(10)"
      ],
      "metadata": {
        "colab": {
          "base_uri": "https://localhost:8080/",
          "height": 363
        },
        "id": "C4NAqN8IjrD7",
        "outputId": "e4251f66-fb1e-4d1d-cbcb-7edcec1b5685"
      },
      "execution_count": null,
      "outputs": [
        {
          "output_type": "execute_result",
          "data": {
            "text/html": [
              "\n",
              "  <div id=\"df-5d1b55c6-df4d-44cc-b548-c778479f9a72\">\n",
              "    <div class=\"colab-df-container\">\n",
              "      <div>\n",
              "<style scoped>\n",
              "    .dataframe tbody tr th:only-of-type {\n",
              "        vertical-align: middle;\n",
              "    }\n",
              "\n",
              "    .dataframe tbody tr th {\n",
              "        vertical-align: top;\n",
              "    }\n",
              "\n",
              "    .dataframe thead th {\n",
              "        text-align: right;\n",
              "    }\n",
              "</style>\n",
              "<table border=\"1\" class=\"dataframe\">\n",
              "  <thead>\n",
              "    <tr style=\"text-align: right;\">\n",
              "      <th></th>\n",
              "      <th>Total</th>\n",
              "      <th>Percent</th>\n",
              "    </tr>\n",
              "  </thead>\n",
              "  <tbody>\n",
              "    <tr>\n",
              "      <th>company</th>\n",
              "      <td>112593</td>\n",
              "      <td>94.306893</td>\n",
              "    </tr>\n",
              "    <tr>\n",
              "      <th>agent</th>\n",
              "      <td>16340</td>\n",
              "      <td>13.686238</td>\n",
              "    </tr>\n",
              "    <tr>\n",
              "      <th>country</th>\n",
              "      <td>488</td>\n",
              "      <td>0.408744</td>\n",
              "    </tr>\n",
              "    <tr>\n",
              "      <th>children</th>\n",
              "      <td>4</td>\n",
              "      <td>0.003350</td>\n",
              "    </tr>\n",
              "    <tr>\n",
              "      <th>lead_time</th>\n",
              "      <td>0</td>\n",
              "      <td>0.000000</td>\n",
              "    </tr>\n",
              "    <tr>\n",
              "      <th>arrival_date_year</th>\n",
              "      <td>0</td>\n",
              "      <td>0.000000</td>\n",
              "    </tr>\n",
              "    <tr>\n",
              "      <th>arrival_date_month</th>\n",
              "      <td>0</td>\n",
              "      <td>0.000000</td>\n",
              "    </tr>\n",
              "    <tr>\n",
              "      <th>arrival_date_week_number</th>\n",
              "      <td>0</td>\n",
              "      <td>0.000000</td>\n",
              "    </tr>\n",
              "    <tr>\n",
              "      <th>is_canceled</th>\n",
              "      <td>0</td>\n",
              "      <td>0.000000</td>\n",
              "    </tr>\n",
              "    <tr>\n",
              "      <th>market_segment</th>\n",
              "      <td>0</td>\n",
              "      <td>0.000000</td>\n",
              "    </tr>\n",
              "  </tbody>\n",
              "</table>\n",
              "</div>\n",
              "      <button class=\"colab-df-convert\" onclick=\"convertToInteractive('df-5d1b55c6-df4d-44cc-b548-c778479f9a72')\"\n",
              "              title=\"Convert this dataframe to an interactive table.\"\n",
              "              style=\"display:none;\">\n",
              "        \n",
              "  <svg xmlns=\"http://www.w3.org/2000/svg\" height=\"24px\"viewBox=\"0 0 24 24\"\n",
              "       width=\"24px\">\n",
              "    <path d=\"M0 0h24v24H0V0z\" fill=\"none\"/>\n",
              "    <path d=\"M18.56 5.44l.94 2.06.94-2.06 2.06-.94-2.06-.94-.94-2.06-.94 2.06-2.06.94zm-11 1L8.5 8.5l.94-2.06 2.06-.94-2.06-.94L8.5 2.5l-.94 2.06-2.06.94zm10 10l.94 2.06.94-2.06 2.06-.94-2.06-.94-.94-2.06-.94 2.06-2.06.94z\"/><path d=\"M17.41 7.96l-1.37-1.37c-.4-.4-.92-.59-1.43-.59-.52 0-1.04.2-1.43.59L10.3 9.45l-7.72 7.72c-.78.78-.78 2.05 0 2.83L4 21.41c.39.39.9.59 1.41.59.51 0 1.02-.2 1.41-.59l7.78-7.78 2.81-2.81c.8-.78.8-2.07 0-2.86zM5.41 20L4 18.59l7.72-7.72 1.47 1.35L5.41 20z\"/>\n",
              "  </svg>\n",
              "      </button>\n",
              "      \n",
              "  <style>\n",
              "    .colab-df-container {\n",
              "      display:flex;\n",
              "      flex-wrap:wrap;\n",
              "      gap: 12px;\n",
              "    }\n",
              "\n",
              "    .colab-df-convert {\n",
              "      background-color: #E8F0FE;\n",
              "      border: none;\n",
              "      border-radius: 50%;\n",
              "      cursor: pointer;\n",
              "      display: none;\n",
              "      fill: #1967D2;\n",
              "      height: 32px;\n",
              "      padding: 0 0 0 0;\n",
              "      width: 32px;\n",
              "    }\n",
              "\n",
              "    .colab-df-convert:hover {\n",
              "      background-color: #E2EBFA;\n",
              "      box-shadow: 0px 1px 2px rgba(60, 64, 67, 0.3), 0px 1px 3px 1px rgba(60, 64, 67, 0.15);\n",
              "      fill: #174EA6;\n",
              "    }\n",
              "\n",
              "    [theme=dark] .colab-df-convert {\n",
              "      background-color: #3B4455;\n",
              "      fill: #D2E3FC;\n",
              "    }\n",
              "\n",
              "    [theme=dark] .colab-df-convert:hover {\n",
              "      background-color: #434B5C;\n",
              "      box-shadow: 0px 1px 3px 1px rgba(0, 0, 0, 0.15);\n",
              "      filter: drop-shadow(0px 1px 2px rgba(0, 0, 0, 0.3));\n",
              "      fill: #FFFFFF;\n",
              "    }\n",
              "  </style>\n",
              "\n",
              "      <script>\n",
              "        const buttonEl =\n",
              "          document.querySelector('#df-5d1b55c6-df4d-44cc-b548-c778479f9a72 button.colab-df-convert');\n",
              "        buttonEl.style.display =\n",
              "          google.colab.kernel.accessAllowed ? 'block' : 'none';\n",
              "\n",
              "        async function convertToInteractive(key) {\n",
              "          const element = document.querySelector('#df-5d1b55c6-df4d-44cc-b548-c778479f9a72');\n",
              "          const dataTable =\n",
              "            await google.colab.kernel.invokeFunction('convertToInteractive',\n",
              "                                                     [key], {});\n",
              "          if (!dataTable) return;\n",
              "\n",
              "          const docLinkHtml = 'Like what you see? Visit the ' +\n",
              "            '<a target=\"_blank\" href=https://colab.research.google.com/notebooks/data_table.ipynb>data table notebook</a>'\n",
              "            + ' to learn more about interactive tables.';\n",
              "          element.innerHTML = '';\n",
              "          dataTable['output_type'] = 'display_data';\n",
              "          await google.colab.output.renderOutput(dataTable, element);\n",
              "          const docLink = document.createElement('div');\n",
              "          docLink.innerHTML = docLinkHtml;\n",
              "          element.appendChild(docLink);\n",
              "        }\n",
              "      </script>\n",
              "    </div>\n",
              "  </div>\n",
              "  "
            ],
            "text/plain": [
              "                           Total    Percent\n",
              "company                   112593  94.306893\n",
              "agent                      16340  13.686238\n",
              "country                      488   0.408744\n",
              "children                       4   0.003350\n",
              "lead_time                      0   0.000000\n",
              "arrival_date_year              0   0.000000\n",
              "arrival_date_month             0   0.000000\n",
              "arrival_date_week_number       0   0.000000\n",
              "is_canceled                    0   0.000000\n",
              "market_segment                 0   0.000000"
            ]
          },
          "metadata": {},
          "execution_count": 17
        }
      ]
    },
    {
      "cell_type": "markdown",
      "source": [
        "As in above result, it is seen that four columns has null values i.e. country,agent,children and company. \n",
        "\n",
        "Company has 94% null values followed by agent having 13% null values so percentage of missing values ih high. Here we can drop company and agent column as we will not be using these columns in the coding.\n",
        "\n",
        "The percentage of country & children column is low and these two columns are important in our coding so we will be replacing the missing values.\n",
        "\n",
        "In country column we can put 'no value' in empty places as country column is of sting type. And in children columnn we can just fill in with mean of the column.\n"
      ],
      "metadata": {
        "id": "Nw4X3TDIs62u"
      }
    },
    {
      "cell_type": "code",
      "source": [
        "#Shape of original data\n",
        "df_data.shape"
      ],
      "metadata": {
        "colab": {
          "base_uri": "https://localhost:8080/"
        },
        "id": "Jn6Rs27pxc9C",
        "outputId": "38ea73e3-9306-4cae-dda5-98d3ee867ca7"
      },
      "execution_count": null,
      "outputs": [
        {
          "output_type": "execute_result",
          "data": {
            "text/plain": [
              "(119390, 32)"
            ]
          },
          "metadata": {},
          "execution_count": 18
        }
      ]
    },
    {
      "cell_type": "code",
      "source": [
        "# Replacing country's null value with string\n",
        "df_data['country'].fillna('no value',inplace=True)"
      ],
      "metadata": {
        "id": "aqqDuNKMks_v"
      },
      "execution_count": null,
      "outputs": []
    },
    {
      "cell_type": "code",
      "source": [
        "#Shape of country column\n",
        "df_data['country'].shape"
      ],
      "metadata": {
        "colab": {
          "base_uri": "https://localhost:8080/"
        },
        "id": "FlnzPIKzyZX1",
        "outputId": "38d8617c-063c-42e5-e466-f30347e16cd1"
      },
      "execution_count": null,
      "outputs": [
        {
          "output_type": "execute_result",
          "data": {
            "text/plain": [
              "(119390,)"
            ]
          },
          "metadata": {},
          "execution_count": 31
        }
      ]
    },
    {
      "cell_type": "code",
      "source": [
        "#Replacing children column with mean\n",
        "df_data['children'].fillna(round(df_data.children.mean()), inplace=True)"
      ],
      "metadata": {
        "id": "Nt5Gnb2lxJG1"
      },
      "execution_count": null,
      "outputs": []
    },
    {
      "cell_type": "code",
      "source": [
        "#Shape of children column\n",
        "df_data['children'].shape"
      ],
      "metadata": {
        "colab": {
          "base_uri": "https://localhost:8080/"
        },
        "id": "vHRwk5-ExTuz",
        "outputId": "d33ccd10-dc99-4ece-fbe3-4f165d0251a0"
      },
      "execution_count": null,
      "outputs": [
        {
          "output_type": "execute_result",
          "data": {
            "text/plain": [
              "(119390,)"
            ]
          },
          "metadata": {},
          "execution_count": 33
        }
      ]
    },
    {
      "cell_type": "code",
      "source": [
        "# Dropping columns\n",
        "df_data.drop(['agent','company'],axis=1,inplace=True)"
      ],
      "metadata": {
        "id": "khT7KKEFyh8l"
      },
      "execution_count": null,
      "outputs": []
    },
    {
      "cell_type": "code",
      "source": [
        "#Shape of data after dealing with null values\n",
        "df_data.shape"
      ],
      "metadata": {
        "colab": {
          "base_uri": "https://localhost:8080/"
        },
        "id": "zLy-cH-51Hu0",
        "outputId": "bdbaaa8a-365f-4e2a-ddc7-44a3a096a90d"
      },
      "execution_count": null,
      "outputs": [
        {
          "output_type": "execute_result",
          "data": {
            "text/plain": [
              "(119390, 30)"
            ]
          },
          "metadata": {},
          "execution_count": 35
        }
      ]
    },
    {
      "cell_type": "markdown",
      "source": [
        "The data has been cleaned."
      ],
      "metadata": {
        "id": "n4L9rD9b1Nj2"
      }
    },
    {
      "cell_type": "markdown",
      "source": [
        "# **D) Data Analysis and Data Visualisation**"
      ],
      "metadata": {
        "id": "mBgrDuTrzn06"
      }
    },
    {
      "cell_type": "markdown",
      "source": [
        "# **1. Which type of hotels are booked?**"
      ],
      "metadata": {
        "id": "9xYqJq_B2Fof"
      }
    },
    {
      "cell_type": "code",
      "source": [
        "df_data['hotel'].value_counts()"
      ],
      "metadata": {
        "colab": {
          "base_uri": "https://localhost:8080/"
        },
        "id": "Balhqq0M18vu",
        "outputId": "1b42a6da-81f0-4398-c1a0-3abbd35cf0ec"
      },
      "execution_count": null,
      "outputs": [
        {
          "output_type": "execute_result",
          "data": {
            "text/plain": [
              "City Hotel      79330\n",
              "Resort Hotel    40060\n",
              "Name: hotel, dtype: int64"
            ]
          },
          "metadata": {},
          "execution_count": 36
        }
      ]
    },
    {
      "cell_type": "markdown",
      "source": [
        "Now lets visualize it graphically"
      ],
      "metadata": {
        "id": "PCwf25j52x_1"
      }
    },
    {
      "cell_type": "code",
      "source": [
        "hotel_type=df_data['hotel'].value_counts()\n",
        "plt.pie(hotel_type,labels=['City Hotel','Resort Hotel'],autopct='%1.1f%%')\n",
        "plt.show()"
      ],
      "metadata": {
        "colab": {
          "base_uri": "https://localhost:8080/",
          "height": 248
        },
        "id": "JHMsFp-l2waL",
        "outputId": "cba82abd-e1eb-4a0d-e308-c86d6d74f5ea"
      },
      "execution_count": null,
      "outputs": [
        {
          "output_type": "display_data",
          "data": {
            "image/png": "[encoded data removed]",
            "text/plain": [
              "<Figure size 432x288 with 1 Axes>"
            ]
          },
          "metadata": {}
        }
      ]
    },
    {
      "cell_type": "markdown",
      "source": [
        "Here as we can see city hotels are more booked (66.4%) in compare to resort hotels (33.6%)."
      ],
      "metadata": {
        "id": "v-i6Yt00pNh_"
      }
    },
    {
      "cell_type": "markdown",
      "source": [
        "# **2. Which type of customers is booking hotels?**\n",
        "\n"
      ],
      "metadata": {
        "id": "P0ZMnWYt-rD1"
      }
    },
    {
      "cell_type": "code",
      "source": [
        "customer_type_counts = df_data['customer_type'].value_counts()\n",
        "customer_type_percentage = 100*(df_data['customer_type'].value_counts()/len(df_data['customer_type']))\n",
        "pd.concat([customer_type_counts,customer_type_percentage], axis=1,keys=['Customer_type', 'Customer_type_percentage'])"
      ],
      "metadata": {
        "colab": {
          "base_uri": "https://localhost:8080/",
          "height": 175
        },
        "id": "eFFqmsIU-1kl",
        "outputId": "d41cd9ad-7bb0-4a31-c459-f80e430990da"
      },
      "execution_count": null,
      "outputs": [
        {
          "output_type": "execute_result",
          "data": {
            "text/html": [
              "\n",
              "  <div id=\"df-0595e0b5-6e53-44cb-b179-26162a72aa4a\">\n",
              "    <div class=\"colab-df-container\">\n",
              "      <div>\n",
              "<style scoped>\n",
              "    .dataframe tbody tr th:only-of-type {\n",
              "        vertical-align: middle;\n",
              "    }\n",
              "\n",
              "    .dataframe tbody tr th {\n",
              "        vertical-align: top;\n",
              "    }\n",
              "\n",
              "    .dataframe thead th {\n",
              "        text-align: right;\n",
              "    }\n",
              "</style>\n",
              "<table border=\"1\" class=\"dataframe\">\n",
              "  <thead>\n",
              "    <tr style=\"text-align: right;\">\n",
              "      <th></th>\n",
              "      <th>Customer_type</th>\n",
              "      <th>Customer_type_percentage</th>\n",
              "    </tr>\n",
              "  </thead>\n",
              "  <tbody>\n",
              "    <tr>\n",
              "      <th>Transient</th>\n",
              "      <td>89613</td>\n",
              "      <td>75.059050</td>\n",
              "    </tr>\n",
              "    <tr>\n",
              "      <th>Transient-Party</th>\n",
              "      <td>25124</td>\n",
              "      <td>21.043638</td>\n",
              "    </tr>\n",
              "    <tr>\n",
              "      <th>Contract</th>\n",
              "      <td>4076</td>\n",
              "      <td>3.414021</td>\n",
              "    </tr>\n",
              "    <tr>\n",
              "      <th>Group</th>\n",
              "      <td>577</td>\n",
              "      <td>0.483290</td>\n",
              "    </tr>\n",
              "  </tbody>\n",
              "</table>\n",
              "</div>\n",
              "      <button class=\"colab-df-convert\" onclick=\"convertToInteractive('df-0595e0b5-6e53-44cb-b179-26162a72aa4a')\"\n",
              "              title=\"Convert this dataframe to an interactive table.\"\n",
              "              style=\"display:none;\">\n",
              "        \n",
              "  <svg xmlns=\"http://www.w3.org/2000/svg\" height=\"24px\"viewBox=\"0 0 24 24\"\n",
              "       width=\"24px\">\n",
              "    <path d=\"M0 0h24v24H0V0z\" fill=\"none\"/>\n",
              "    <path d=\"M18.56 5.44l.94 2.06.94-2.06 2.06-.94-2.06-.94-.94-2.06-.94 2.06-2.06.94zm-11 1L8.5 8.5l.94-2.06 2.06-.94-2.06-.94L8.5 2.5l-.94 2.06-2.06.94zm10 10l.94 2.06.94-2.06 2.06-.94-2.06-.94-.94-2.06-.94 2.06-2.06.94z\"/><path d=\"M17.41 7.96l-1.37-1.37c-.4-.4-.92-.59-1.43-.59-.52 0-1.04.2-1.43.59L10.3 9.45l-7.72 7.72c-.78.78-.78 2.05 0 2.83L4 21.41c.39.39.9.59 1.41.59.51 0 1.02-.2 1.41-.59l7.78-7.78 2.81-2.81c.8-.78.8-2.07 0-2.86zM5.41 20L4 18.59l7.72-7.72 1.47 1.35L5.41 20z\"/>\n",
              "  </svg>\n",
              "      </button>\n",
              "      \n",
              "  <style>\n",
              "    .colab-df-container {\n",
              "      display:flex;\n",
              "      flex-wrap:wrap;\n",
              "      gap: 12px;\n",
              "    }\n",
              "\n",
              "    .colab-df-convert {\n",
              "      background-color: #E8F0FE;\n",
              "      border: none;\n",
              "      border-radius: 50%;\n",
              "      cursor: pointer;\n",
              "      display: none;\n",
              "      fill: #1967D2;\n",
              "      height: 32px;\n",
              "      padding: 0 0 0 0;\n",
              "      width: 32px;\n",
              "    }\n",
              "\n",
              "    .colab-df-convert:hover {\n",
              "      background-color: #E2EBFA;\n",
              "      box-shadow: 0px 1px 2px rgba(60, 64, 67, 0.3), 0px 1px 3px 1px rgba(60, 64, 67, 0.15);\n",
              "      fill: #174EA6;\n",
              "    }\n",
              "\n",
              "    [theme=dark] .colab-df-convert {\n",
              "      background-color: #3B4455;\n",
              "      fill: #D2E3FC;\n",
              "    }\n",
              "\n",
              "    [theme=dark] .colab-df-convert:hover {\n",
              "      background-color: #434B5C;\n",
              "      box-shadow: 0px 1px 3px 1px rgba(0, 0, 0, 0.15);\n",
              "      filter: drop-shadow(0px 1px 2px rgba(0, 0, 0, 0.3));\n",
              "      fill: #FFFFFF;\n",
              "    }\n",
              "  </style>\n",
              "\n",
              "      <script>\n",
              "        const buttonEl =\n",
              "          document.querySelector('#df-0595e0b5-6e53-44cb-b179-26162a72aa4a button.colab-df-convert');\n",
              "        buttonEl.style.display =\n",
              "          google.colab.kernel.accessAllowed ? 'block' : 'none';\n",
              "\n",
              "        async function convertToInteractive(key) {\n",
              "          const element = document.querySelector('#df-0595e0b5-6e53-44cb-b179-26162a72aa4a');\n",
              "          const dataTable =\n",
              "            await google.colab.kernel.invokeFunction('convertToInteractive',\n",
              "                                                     [key], {});\n",
              "          if (!dataTable) return;\n",
              "\n",
              "          const docLinkHtml = 'Like what you see? Visit the ' +\n",
              "            '<a target=\"_blank\" href=https://colab.research.google.com/notebooks/data_table.ipynb>data table notebook</a>'\n",
              "            + ' to learn more about interactive tables.';\n",
              "          element.innerHTML = '';\n",
              "          dataTable['output_type'] = 'display_data';\n",
              "          await google.colab.output.renderOutput(dataTable, element);\n",
              "          const docLink = document.createElement('div');\n",
              "          docLink.innerHTML = docLinkHtml;\n",
              "          element.appendChild(docLink);\n",
              "        }\n",
              "      </script>\n",
              "    </div>\n",
              "  </div>\n",
              "  "
            ],
            "text/plain": [
              "                 Customer_type  Customer_type_percentage\n",
              "Transient                89613                 75.059050\n",
              "Transient-Party          25124                 21.043638\n",
              "Contract                  4076                  3.414021\n",
              "Group                      577                  0.483290"
            ]
          },
          "metadata": {},
          "execution_count": 46
        }
      ]
    },
    {
      "cell_type": "markdown",
      "source": [
        "So the maximum customer type is Transient (75%) which means these are the customers who are living for short period of time"
      ],
      "metadata": {
        "id": "ZvJpfUk3_d3i"
      }
    },
    {
      "cell_type": "markdown",
      "source": [
        "# **3. From which medium the maximum booking had happened?**"
      ],
      "metadata": {
        "id": "SQuSzZLhWzlf"
      }
    },
    {
      "cell_type": "code",
      "source": [
        "market_segment_counts=df_data['market_segment'].value_counts()\n",
        "market_segment_percentage = 100*(df_data['market_segment'].value_counts()/len(df_data['market_segment']))\n",
        "pd.concat([market_segment_counts,market_segment_percentage], axis=1,keys=['market_segment', 'market_segment_percentage'])"
      ],
      "metadata": {
        "colab": {
          "base_uri": "https://localhost:8080/",
          "height": 300
        },
        "id": "6XwL-VMtW8aT",
        "outputId": "518f0d90-24cb-44d3-ee72-0294805dd538"
      },
      "execution_count": null,
      "outputs": [
        {
          "output_type": "execute_result",
          "data": {
            "text/html": [
              "\n",
              "  <div id=\"df-34d734f9-e0c5-4f74-8152-0f9ae2d3c76d\">\n",
              "    <div class=\"colab-df-container\">\n",
              "      <div>\n",
              "<style scoped>\n",
              "    .dataframe tbody tr th:only-of-type {\n",
              "        vertical-align: middle;\n",
              "    }\n",
              "\n",
              "    .dataframe tbody tr th {\n",
              "        vertical-align: top;\n",
              "    }\n",
              "\n",
              "    .dataframe thead th {\n",
              "        text-align: right;\n",
              "    }\n",
              "</style>\n",
              "<table border=\"1\" class=\"dataframe\">\n",
              "  <thead>\n",
              "    <tr style=\"text-align: right;\">\n",
              "      <th></th>\n",
              "      <th>market_segment</th>\n",
              "      <th>market_segment_percentage</th>\n",
              "    </tr>\n",
              "  </thead>\n",
              "  <tbody>\n",
              "    <tr>\n",
              "      <th>Online TA</th>\n",
              "      <td>56477</td>\n",
              "      <td>47.304632</td>\n",
              "    </tr>\n",
              "    <tr>\n",
              "      <th>Offline TA/TO</th>\n",
              "      <td>24219</td>\n",
              "      <td>20.285619</td>\n",
              "    </tr>\n",
              "    <tr>\n",
              "      <th>Groups</th>\n",
              "      <td>19811</td>\n",
              "      <td>16.593517</td>\n",
              "    </tr>\n",
              "    <tr>\n",
              "      <th>Direct</th>\n",
              "      <td>12606</td>\n",
              "      <td>10.558673</td>\n",
              "    </tr>\n",
              "    <tr>\n",
              "      <th>Corporate</th>\n",
              "      <td>5295</td>\n",
              "      <td>4.435045</td>\n",
              "    </tr>\n",
              "    <tr>\n",
              "      <th>Complementary</th>\n",
              "      <td>743</td>\n",
              "      <td>0.622330</td>\n",
              "    </tr>\n",
              "    <tr>\n",
              "      <th>Aviation</th>\n",
              "      <td>237</td>\n",
              "      <td>0.198509</td>\n",
              "    </tr>\n",
              "    <tr>\n",
              "      <th>Undefined</th>\n",
              "      <td>2</td>\n",
              "      <td>0.001675</td>\n",
              "    </tr>\n",
              "  </tbody>\n",
              "</table>\n",
              "</div>\n",
              "      <button class=\"colab-df-convert\" onclick=\"convertToInteractive('df-34d734f9-e0c5-4f74-8152-0f9ae2d3c76d')\"\n",
              "              title=\"Convert this dataframe to an interactive table.\"\n",
              "              style=\"display:none;\">\n",
              "        \n",
              "  <svg xmlns=\"http://www.w3.org/2000/svg\" height=\"24px\"viewBox=\"0 0 24 24\"\n",
              "       width=\"24px\">\n",
              "    <path d=\"M0 0h24v24H0V0z\" fill=\"none\"/>\n",
              "    <path d=\"M18.56 5.44l.94 2.06.94-2.06 2.06-.94-2.06-.94-.94-2.06-.94 2.06-2.06.94zm-11 1L8.5 8.5l.94-2.06 2.06-.94-2.06-.94L8.5 2.5l-.94 2.06-2.06.94zm10 10l.94 2.06.94-2.06 2.06-.94-2.06-.94-.94-2.06-.94 2.06-2.06.94z\"/><path d=\"M17.41 7.96l-1.37-1.37c-.4-.4-.92-.59-1.43-.59-.52 0-1.04.2-1.43.59L10.3 9.45l-7.72 7.72c-.78.78-.78 2.05 0 2.83L4 21.41c.39.39.9.59 1.41.59.51 0 1.02-.2 1.41-.59l7.78-7.78 2.81-2.81c.8-.78.8-2.07 0-2.86zM5.41 20L4 18.59l7.72-7.72 1.47 1.35L5.41 20z\"/>\n",
              "  </svg>\n",
              "      </button>\n",
              "      \n",
              "  <style>\n",
              "    .colab-df-container {\n",
              "      display:flex;\n",
              "      flex-wrap:wrap;\n",
              "      gap: 12px;\n",
              "    }\n",
              "\n",
              "    .colab-df-convert {\n",
              "      background-color: #E8F0FE;\n",
              "      border: none;\n",
              "      border-radius: 50%;\n",
              "      cursor: pointer;\n",
              "      display: none;\n",
              "      fill: #1967D2;\n",
              "      height: 32px;\n",
              "      padding: 0 0 0 0;\n",
              "      width: 32px;\n",
              "    }\n",
              "\n",
              "    .colab-df-convert:hover {\n",
              "      background-color: #E2EBFA;\n",
              "      box-shadow: 0px 1px 2px rgba(60, 64, 67, 0.3), 0px 1px 3px 1px rgba(60, 64, 67, 0.15);\n",
              "      fill: #174EA6;\n",
              "    }\n",
              "\n",
              "    [theme=dark] .colab-df-convert {\n",
              "      background-color: #3B4455;\n",
              "      fill: #D2E3FC;\n",
              "    }\n",
              "\n",
              "    [theme=dark] .colab-df-convert:hover {\n",
              "      background-color: #434B5C;\n",
              "      box-shadow: 0px 1px 3px 1px rgba(0, 0, 0, 0.15);\n",
              "      filter: drop-shadow(0px 1px 2px rgba(0, 0, 0, 0.3));\n",
              "      fill: #FFFFFF;\n",
              "    }\n",
              "  </style>\n",
              "\n",
              "      <script>\n",
              "        const buttonEl =\n",
              "          document.querySelector('#df-34d734f9-e0c5-4f74-8152-0f9ae2d3c76d button.colab-df-convert');\n",
              "        buttonEl.style.display =\n",
              "          google.colab.kernel.accessAllowed ? 'block' : 'none';\n",
              "\n",
              "        async function convertToInteractive(key) {\n",
              "          const element = document.querySelector('#df-34d734f9-e0c5-4f74-8152-0f9ae2d3c76d');\n",
              "          const dataTable =\n",
              "            await google.colab.kernel.invokeFunction('convertToInteractive',\n",
              "                                                     [key], {});\n",
              "          if (!dataTable) return;\n",
              "\n",
              "          const docLinkHtml = 'Like what you see? Visit the ' +\n",
              "            '<a target=\"_blank\" href=https://colab.research.google.com/notebooks/data_table.ipynb>data table notebook</a>'\n",
              "            + ' to learn more about interactive tables.';\n",
              "          element.innerHTML = '';\n",
              "          dataTable['output_type'] = 'display_data';\n",
              "          await google.colab.output.renderOutput(dataTable, element);\n",
              "          const docLink = document.createElement('div');\n",
              "          docLink.innerHTML = docLinkHtml;\n",
              "          element.appendChild(docLink);\n",
              "        }\n",
              "      </script>\n",
              "    </div>\n",
              "  </div>\n",
              "  "
            ],
            "text/plain": [
              "               market_segment  market_segment_percentage\n",
              "Online TA               56477                  47.304632\n",
              "Offline TA/TO           24219                  20.285619\n",
              "Groups                  19811                  16.593517\n",
              "Direct                  12606                  10.558673\n",
              "Corporate                5295                   4.435045\n",
              "Complementary             743                   0.622330\n",
              "Aviation                  237                   0.198509\n",
              "Undefined                   2                   0.001675"
            ]
          },
          "metadata": {},
          "execution_count": 49
        }
      ]
    },
    {
      "cell_type": "markdown",
      "source": [
        "47% people has booked hotel online"
      ],
      "metadata": {
        "id": "DJo3MN0JXWES"
      }
    },
    {
      "cell_type": "markdown",
      "source": [
        "# **4. Find the rate of cancellation of hotels?**\n",
        "\n"
      ],
      "metadata": {
        "id": "R8EyGhXurqKw"
      }
    },
    {
      "cell_type": "markdown",
      "source": [
        "From here we will compare each calculation with canceled column. \n",
        "\n",
        "The notations are:\n",
        "\n",
        "0: not canceled (booked)\n",
        "\n",
        "1: is canceled"
      ],
      "metadata": {
        "id": "Xs45Tz6TUlse"
      }
    },
    {
      "cell_type": "code",
      "source": [
        "# total counts of canceled vs booked\n",
        "hotel_canceled = df_data['is_canceled'].value_counts()\n",
        "hotel_canceled"
      ],
      "metadata": {
        "colab": {
          "base_uri": "https://localhost:8080/"
        },
        "id": "Tm-Fo-pRJ5rN",
        "outputId": "aba4b5af-53f6-466d-a06d-93529da0ad94"
      },
      "execution_count": null,
      "outputs": [
        {
          "output_type": "execute_result",
          "data": {
            "text/plain": [
              "0    75166\n",
              "1    44224\n",
              "Name: is_canceled, dtype: int64"
            ]
          },
          "metadata": {},
          "execution_count": 62
        }
      ]
    },
    {
      "cell_type": "code",
      "source": [
        "# total percentage of canceled vs booked\n",
        "hotel_canceled_percentage = 100*(df_data['is_canceled'].value_counts()/len(df_data['is_canceled']))\n",
        "hotel_canceled_percentage"
      ],
      "metadata": {
        "colab": {
          "base_uri": "https://localhost:8080/"
        },
        "id": "-rHpsj5aLfqn",
        "outputId": "fcd022f4-46ec-4101-8984-609d4af88d9b"
      },
      "execution_count": null,
      "outputs": [
        {
          "output_type": "execute_result",
          "data": {
            "text/plain": [
              "0    62.958372\n",
              "1    37.041628\n",
              "Name: is_canceled, dtype: float64"
            ]
          },
          "metadata": {},
          "execution_count": 63
        }
      ]
    },
    {
      "cell_type": "markdown",
      "source": [
        "So 37% of total booking got canceled"
      ],
      "metadata": {
        "id": "VeiLmVJaMHLE"
      }
    },
    {
      "cell_type": "markdown",
      "source": [
        "Now lets see numbers of cancellation w.r.t hotel types"
      ],
      "metadata": {
        "id": "KW3Fjhrur9ub"
      }
    },
    {
      "cell_type": "code",
      "source": [
        "hotel_type_cancellation=df_data.groupby(['hotel'])['is_canceled'].value_counts()\n",
        "hotel_type_cancellation"
      ],
      "metadata": {
        "colab": {
          "base_uri": "https://localhost:8080/"
        },
        "id": "UvacA0LtMPOM",
        "outputId": "3f933042-5825-4459-d026-625359fb2791"
      },
      "execution_count": null,
      "outputs": [
        {
          "output_type": "execute_result",
          "data": {
            "text/plain": [
              "hotel         is_canceled\n",
              "City Hotel    0              46228\n",
              "              1              33102\n",
              "Resort Hotel  0              28938\n",
              "              1              11122\n",
              "Name: is_canceled, dtype: int64"
            ]
          },
          "metadata": {},
          "execution_count": 54
        }
      ]
    },
    {
      "cell_type": "code",
      "source": [
        "# City hotel canceled percentage\n",
        "round((hotel_type_cancellation[1])/(hotel_type_cancellation[0]+ hotel_type_cancellation[1])*100)"
      ],
      "metadata": {
        "colab": {
          "base_uri": "https://localhost:8080/"
        },
        "id": "WN0pR4IPNNwQ",
        "outputId": "d98a6768-64df-4f00-fadb-6041e54ca85a"
      },
      "execution_count": null,
      "outputs": [
        {
          "output_type": "execute_result",
          "data": {
            "text/plain": [
              "42"
            ]
          },
          "metadata": {},
          "execution_count": 64
        }
      ]
    },
    {
      "cell_type": "code",
      "source": [
        "# Resort hotel canceled percentage\n",
        "round(hotel_type_cancellation[3]/(hotel_type_cancellation[2] + hotel_type_cancellation[3])*100)"
      ],
      "metadata": {
        "colab": {
          "base_uri": "https://localhost:8080/"
        },
        "id": "aO2XMF9ZNr82",
        "outputId": "b37cf58b-43df-4d26-81a8-8a1d73621a25"
      },
      "execution_count": null,
      "outputs": [
        {
          "output_type": "execute_result",
          "data": {
            "text/plain": [
              "28"
            ]
          },
          "metadata": {},
          "execution_count": 65
        }
      ]
    },
    {
      "cell_type": "markdown",
      "source": [
        "Lets plot above"
      ],
      "metadata": {
        "id": "WqJXGwscyLzj"
      }
    },
    {
      "cell_type": "code",
      "source": [
        "plt.figure(figsize=(12,5))\n",
        "sns.countplot(x='hotel', hue = 'is_canceled', data= df_data)\n",
        "plt.show()"
      ],
      "metadata": {
        "colab": {
          "base_uri": "https://localhost:8080/",
          "height": 334
        },
        "id": "IbnQiowjyak7",
        "outputId": "9b0eb218-2a17-4352-9395-574d74cdb75c"
      },
      "execution_count": null,
      "outputs": [
        {
          "output_type": "display_data",
          "data": {
            "image/png": "[encoded data removed]",
            "text/plain": [
              "<Figure size 864x360 with 1 Axes>"
            ]
          },
          "metadata": {
            "needs_background": "light"
          }
        }
      ]
    },
    {
      "cell_type": "markdown",
      "source": [
        "City hotel has maximum cancellation which is 42% and resort hotel are getting less cancelled i.e. 28% compared to city"
      ],
      "metadata": {
        "id": "9V9fuDCHDgt1"
      }
    },
    {
      "cell_type": "markdown",
      "source": [
        "# **5. Find the month and year that has maximum booking? Compare it with hotel type and hotel canceled.**"
      ],
      "metadata": {
        "id": "IetFygcsFvJS"
      }
    },
    {
      "cell_type": "code",
      "source": [
        "month=df_data['arrival_date_month'].value_counts()\n",
        "month"
      ],
      "metadata": {
        "colab": {
          "base_uri": "https://localhost:8080/"
        },
        "id": "OkzUsTm4Bly9",
        "outputId": "312548ba-79a8-488c-97c9-21e9da175d8f"
      },
      "execution_count": null,
      "outputs": [
        {
          "output_type": "execute_result",
          "data": {
            "text/plain": [
              "August       13877\n",
              "July         12661\n",
              "May          11791\n",
              "October      11160\n",
              "April        11089\n",
              "June         10939\n",
              "September    10508\n",
              "March         9794\n",
              "February      8068\n",
              "November      6794\n",
              "December      6780\n",
              "January       5929\n",
              "Name: arrival_date_month, dtype: int64"
            ]
          },
          "metadata": {},
          "execution_count": 67
        }
      ]
    },
    {
      "cell_type": "code",
      "source": [
        "plt.rcParams['figure.figsize'] = (12, 5)\n",
        "sns.countplot(df_data['arrival_date_month'])\n",
        "plt.show()"
      ],
      "metadata": {
        "colab": {
          "base_uri": "https://localhost:8080/",
          "height": 390
        },
        "id": "rVok2Lg8QNqj",
        "outputId": "a08c5246-d13b-4f98-81aa-5c3e9ad27fca"
      },
      "execution_count": null,
      "outputs": [
        {
          "output_type": "stream",
          "name": "stderr",
          "text": [
            "/usr/local/lib/python3.7/dist-packages/seaborn/_decorators.py:43: FutureWarning: Pass the following variable as a keyword arg: x. From version 0.12, the only valid positional argument will be `data`, and passing other arguments without an explicit keyword will result in an error or misinterpretation.\n",
            "  FutureWarning\n"
          ]
        },
        {
          "output_type": "display_data",
          "data": {
            "image/png": "[encoded data removed]",
            "text/plain": [
              "<Figure size 864x360 with 1 Axes>"
            ]
          },
          "metadata": {
            "needs_background": "light"
          }
        }
      ]
    },
    {
      "cell_type": "markdown",
      "source": [
        "So August has highest number of bookings. But this include both resort and city hotels"
      ],
      "metadata": {
        "id": "B4qoWdLNS9P2"
      }
    },
    {
      "cell_type": "markdown",
      "source": [
        "Lets see resort and city hotels differently"
      ],
      "metadata": {
        "id": "uiR-KlrzrM1S"
      }
    },
    {
      "cell_type": "code",
      "source": [
        "plt.figure(figsize=(12,5))\n",
        "sns.countplot(x='arrival_date_month', hue = 'hotel', data= df_data)\n",
        "plt.show()"
      ],
      "metadata": {
        "colab": {
          "base_uri": "https://localhost:8080/",
          "height": 335
        },
        "id": "Nfj26N9PrS8J",
        "outputId": "f5bd1ccc-b407-411b-810f-367ab23ca094"
      },
      "execution_count": null,
      "outputs": [
        {
          "output_type": "display_data",
          "data": {
            "image/png": "[encoded data removed]",
            "text/plain": [
              "<Figure size 864x360 with 1 Axes>"
            ]
          },
          "metadata": {
            "needs_background": "light"
          }
        }
      ]
    },
    {
      "cell_type": "markdown",
      "source": [
        "So resort and city both hotel types has highest number of bookings in August month\n",
        "\n"
      ],
      "metadata": {
        "id": "90Ns7fnHtoBh"
      }
    },
    {
      "cell_type": "markdown",
      "source": [
        "We should also look how much booking got canceled in each month"
      ],
      "metadata": {
        "id": "cMhXqbFzOnLf"
      }
    },
    {
      "cell_type": "code",
      "source": [
        "df_data.groupby(['is_canceled'])['arrival_date_month'].value_counts()"
      ],
      "metadata": {
        "colab": {
          "base_uri": "https://localhost:8080/"
        },
        "id": "LQsrCnC9O3Nr",
        "outputId": "a5b9bb30-2615-43f0-f2c7-ae71b2c4ab97"
      },
      "execution_count": null,
      "outputs": [
        {
          "output_type": "execute_result",
          "data": {
            "text/plain": [
              "is_canceled  arrival_date_month\n",
              "0            August                8638\n",
              "             July                  7919\n",
              "             May                   7114\n",
              "             October               6914\n",
              "             March                 6645\n",
              "             April                 6565\n",
              "             June                  6404\n",
              "             September             6392\n",
              "             February              5372\n",
              "             November              4672\n",
              "             December              4409\n",
              "             January               4122\n",
              "1            August                5239\n",
              "             July                  4742\n",
              "             May                   4677\n",
              "             June                  4535\n",
              "             April                 4524\n",
              "             October               4246\n",
              "             September             4116\n",
              "             March                 3149\n",
              "             February              2696\n",
              "             December              2371\n",
              "             November              2122\n",
              "             January               1807\n",
              "Name: arrival_date_month, dtype: int64"
            ]
          },
          "metadata": {},
          "execution_count": 70
        }
      ]
    },
    {
      "cell_type": "code",
      "source": [
        "plt.figure(figsize=(12,5))\n",
        "sns.countplot(x='arrival_date_month', hue = 'is_canceled', data= df_data)\n",
        "plt.show()"
      ],
      "metadata": {
        "colab": {
          "base_uri": "https://localhost:8080/",
          "height": 335
        },
        "id": "rOH71O3ROvWW",
        "outputId": "ddbc39be-f461-40f6-db6e-52854a2423af"
      },
      "execution_count": null,
      "outputs": [
        {
          "output_type": "display_data",
          "data": {
            "image/png": "[encoded data removed]",
            "text/plain": [
              "<Figure size 864x360 with 1 Axes>"
            ]
          },
          "metadata": {
            "needs_background": "light"
          }
        }
      ]
    },
    {
      "cell_type": "markdown",
      "source": [
        "So August has max cancellations followed by july and may"
      ],
      "metadata": {
        "id": "vvnUbNoUPhST"
      }
    },
    {
      "cell_type": "markdown",
      "source": [
        "No lets see which year has highest bookings"
      ],
      "metadata": {
        "id": "b0QtLkIktxlH"
      }
    },
    {
      "cell_type": "code",
      "source": [
        "year=df_data['arrival_date_year'].value_counts()\n",
        "year"
      ],
      "metadata": {
        "colab": {
          "base_uri": "https://localhost:8080/"
        },
        "id": "U1tTiEs3pTo7",
        "outputId": "e1c7ffbb-b6a5-445c-91da-bc19070daf5e"
      },
      "execution_count": null,
      "outputs": [
        {
          "output_type": "execute_result",
          "data": {
            "text/plain": [
              "2016    56707\n",
              "2017    40687\n",
              "2015    21996\n",
              "Name: arrival_date_year, dtype: int64"
            ]
          },
          "metadata": {},
          "execution_count": 72
        }
      ]
    },
    {
      "cell_type": "code",
      "source": [
        "x=['2015','2016','2017']\n",
        "y=[year.loc[2015], year.loc[2016], year.loc[2017]]\n",
        "plt.plot(x,y)\n",
        "plt.show()"
      ],
      "metadata": {
        "colab": {
          "base_uri": "https://localhost:8080/",
          "height": 320
        },
        "id": "zXEtYB6-qZtG",
        "outputId": "a7e58006-d25f-4332-b100-3075d517a391"
      },
      "execution_count": null,
      "outputs": [
        {
          "output_type": "display_data",
          "data": {
            "image/png": "[encoded data removed]",
            "text/plain": [
              "<Figure size 864x360 with 1 Axes>"
            ]
          },
          "metadata": {
            "needs_background": "light"
          }
        }
      ]
    },
    {
      "cell_type": "markdown",
      "source": [
        "So booking has increased in 2016 than decreased in 2017. And max booking was in 2016 which include both resort and city hotels\n"
      ],
      "metadata": {
        "id": "YJDFxUaZpblw"
      }
    },
    {
      "cell_type": "markdown",
      "source": [
        "Now lets see resort and city hotels differently in each year"
      ],
      "metadata": {
        "id": "AnEyWkw0q0OZ"
      }
    },
    {
      "cell_type": "code",
      "source": [
        "plt.figure(figsize=(12,5))\n",
        "sns.countplot(x='arrival_date_year', hue = 'hotel', data= df_data)\n",
        "plt.show()"
      ],
      "metadata": {
        "colab": {
          "base_uri": "https://localhost:8080/",
          "height": 338
        },
        "id": "OQcXAHFupZ99",
        "outputId": "d3d540c3-6571-41f0-f21c-0c7a11f1a159"
      },
      "execution_count": null,
      "outputs": [
        {
          "output_type": "display_data",
          "data": {
            "image/png": "[encoded data removed]",
            "text/plain": [
              "<Figure size 864x360 with 1 Axes>"
            ]
          },
          "metadata": {
            "needs_background": "light"
          }
        }
      ]
    },
    {
      "cell_type": "markdown",
      "source": [
        "So resort and city both hotels has highest number of bookings in 2016\n"
      ],
      "metadata": {
        "id": "UQWEqbeyuFtT"
      }
    },
    {
      "cell_type": "markdown",
      "source": [
        "Lets see which year has max cancellation"
      ],
      "metadata": {
        "id": "unbGTYIbsPXz"
      }
    },
    {
      "cell_type": "code",
      "source": [
        "plt.figure(figsize=(12,5))\n",
        "sns.countplot(x='arrival_date_year', hue = 'is_canceled', data = df_data)\n",
        "plt.show()"
      ],
      "metadata": {
        "colab": {
          "base_uri": "https://localhost:8080/",
          "height": 335
        },
        "id": "rUPfuByf3oQG",
        "outputId": "788aedfd-e90d-4812-e007-26f1323d20af"
      },
      "execution_count": null,
      "outputs": [
        {
          "output_type": "display_data",
          "data": {
            "image/png": "[encoded data removed]",
            "text/plain": [
              "<Figure size 864x360 with 1 Axes>"
            ]
          },
          "metadata": {
            "needs_background": "light"
          }
        }
      ]
    },
    {
      "cell_type": "markdown",
      "source": [
        "In 2016 max booking was cancelled"
      ],
      "metadata": {
        "id": "5UnvVVtt33c7"
      }
    },
    {
      "cell_type": "markdown",
      "source": [
        "Now lets see year wise booking of each month"
      ],
      "metadata": {
        "id": "1jUadl3e0AvP"
      }
    },
    {
      "cell_type": "code",
      "source": [
        "df_data.groupby(['arrival_date_year'])['arrival_date_month'].value_counts()"
      ],
      "metadata": {
        "colab": {
          "base_uri": "https://localhost:8080/"
        },
        "id": "NuyeFPmZydcp",
        "outputId": "296ca108-37ed-4e39-a27e-72185b263554"
      },
      "execution_count": null,
      "outputs": [
        {
          "output_type": "execute_result",
          "data": {
            "text/plain": [
              "arrival_date_year  arrival_date_month\n",
              "2015               September             5114\n",
              "                   October               4957\n",
              "                   August                3889\n",
              "                   December              2920\n",
              "                   July                  2776\n",
              "                   November              2340\n",
              "2016               October               6203\n",
              "                   May                   5478\n",
              "                   April                 5428\n",
              "                   September             5394\n",
              "                   June                  5292\n",
              "                   August                5063\n",
              "                   March                 4824\n",
              "                   July                  4572\n",
              "                   November              4454\n",
              "                   February              3891\n",
              "                   December              3860\n",
              "                   January               2248\n",
              "2017               May                   6313\n",
              "                   April                 5661\n",
              "                   June                  5647\n",
              "                   July                  5313\n",
              "                   March                 4970\n",
              "                   August                4925\n",
              "                   February              4177\n",
              "                   January               3681\n",
              "Name: arrival_date_month, dtype: int64"
            ]
          },
          "metadata": {},
          "execution_count": 78
        }
      ]
    },
    {
      "cell_type": "code",
      "source": [
        "plt.figure(figsize=(12,5))\n",
        "sns.countplot(x='arrival_date_month', hue = 'arrival_date_year', data = df_data)\n",
        "plt.show()"
      ],
      "metadata": {
        "colab": {
          "base_uri": "https://localhost:8080/",
          "height": 335
        },
        "id": "79B7eVeUzYIT",
        "outputId": "544b2de2-2010-4856-b9c9-2f6a8b35fca5"
      },
      "execution_count": null,
      "outputs": [
        {
          "output_type": "display_data",
          "data": {
            "image/png": "[encoded data removed]",
            "text/plain": [
              "<Figure size 864x360 with 1 Axes>"
            ]
          },
          "metadata": {
            "needs_background": "light"
          }
        }
      ]
    },
    {
      "cell_type": "markdown",
      "source": [
        "As we can see in above graph, we have data from July 2015 till August 2017. Earlier we have seen August is the month who has maximum booking but that was cummulative result of all three years. August is repeating in every year. \n",
        "\n",
        "Here in year 2015, the maximum booking was in September. In year 2016, it is October and in year 2017, it is May.\n",
        "\n",
        "In none of the year we have got August.\n",
        "\n",
        "So we can't say August has maximum booking in each year, it has maximum booking but in the given period of time in our data base.\n",
        "\n",
        "If our data was from January to December or from July 2015 till June 2017 then we can get accurate number in the outcome "
      ],
      "metadata": {
        "id": "vcH9-stT0Je2"
      }
    },
    {
      "cell_type": "markdown",
      "source": [
        "# **6. Find the top 10 countries that had maximum bookings?**"
      ],
      "metadata": {
        "id": "AnSC5CXluwiz"
      }
    },
    {
      "cell_type": "code",
      "source": [
        "df_data['country'].value_counts().head(10)"
      ],
      "metadata": {
        "colab": {
          "base_uri": "https://localhost:8080/"
        },
        "id": "iacabjnzuvU0",
        "outputId": "dc2dd248-e4b4-4104-e7d2-f943e4defe93"
      },
      "execution_count": null,
      "outputs": [
        {
          "output_type": "execute_result",
          "data": {
            "text/plain": [
              "PRT    48590\n",
              "GBR    12129\n",
              "FRA    10415\n",
              "ESP     8568\n",
              "DEU     7287\n",
              "ITA     3766\n",
              "IRL     3375\n",
              "BEL     2342\n",
              "BRA     2224\n",
              "NLD     2104\n",
              "Name: country, dtype: int64"
            ]
          },
          "metadata": {},
          "execution_count": 80
        }
      ]
    },
    {
      "cell_type": "code",
      "source": [
        "df_data['country'].value_counts().head(10).plot(kind='bar')"
      ],
      "metadata": {
        "colab": {
          "base_uri": "https://localhost:8080/",
          "height": 348
        },
        "id": "5d7DeiFae4RO",
        "outputId": "e31478f9-e6aa-4bf9-88f2-30c07dc69a02"
      },
      "execution_count": null,
      "outputs": [
        {
          "output_type": "execute_result",
          "data": {
            "text/plain": [
              "<matplotlib.axes._subplots.AxesSubplot at 0x7ff46d1371d0>"
            ]
          },
          "metadata": {},
          "execution_count": 174
        },
        {
          "output_type": "display_data",
          "data": {
            "image/png": "[encoded data removed]",
            "text/plain": [
              "<Figure size 864x360 with 1 Axes>"
            ]
          },
          "metadata": {
            "needs_background": "light"
          }
        }
      ]
    },
    {
      "cell_type": "markdown",
      "source": [
        "Portugal has highest bookings followed by Germany and France"
      ],
      "metadata": {
        "id": "U-VBLHC6evFA"
      }
    },
    {
      "cell_type": "markdown",
      "source": [
        "Lets compare countrywise bookings with hotel types"
      ],
      "metadata": {
        "id": "Ve2DvNDQe_7u"
      }
    },
    {
      "cell_type": "code",
      "source": [
        "booking_top_ten = df_data[df_data['country'].isin([\"PRT\",\"GBR\",\"FRA\",\"ESP\",\"DEU\",\"ITA\",\"IRL\",\"BEL\",\"BRA\",\"NLD\"])]"
      ],
      "metadata": {
        "id": "HMuy2tGt8KYs"
      },
      "execution_count": null,
      "outputs": []
    },
    {
      "cell_type": "code",
      "source": [
        "plt.figure(figsize=(12,5))\n",
        "sns.countplot(x='country', hue = 'hotel', data = top_ten)\n",
        "plt.show()"
      ],
      "metadata": {
        "colab": {
          "base_uri": "https://localhost:8080/",
          "height": 334
        },
        "id": "tBGMGDRmHKCA",
        "outputId": "551cb1d1-12ab-4683-dce8-0911a424a7e8"
      },
      "execution_count": null,
      "outputs": [
        {
          "output_type": "display_data",
          "data": {
            "image/png": "[encoded data removed]",
            "text/plain": [
              "<Figure size 864x360 with 1 Axes>"
            ]
          },
          "metadata": {
            "needs_background": "light"
          }
        }
      ]
    },
    {
      "cell_type": "markdown",
      "source": [
        "Portugal has max booking in resort as well as city hotel. \n",
        "\n",
        "The 2nd highest booking is in Germany for both resort hotel & city hotels. \n",
        "\n",
        "The 3rd highest booking for resort hotel is in Spain and for city hotel is in France."
      ],
      "metadata": {
        "id": "f3a0CLy48waz"
      }
    },
    {
      "cell_type": "markdown",
      "source": [
        "Now lets see which countries has highest cancellation"
      ],
      "metadata": {
        "id": "h50cLlKcfZ0u"
      }
    },
    {
      "cell_type": "code",
      "source": [
        "countrywise_cancellation = df_data[df_data['is_canceled'] == 1]['country'].value_counts().reset_index().head(10)\n",
        "countrywise_cancellation"
      ],
      "metadata": {
        "colab": {
          "base_uri": "https://localhost:8080/",
          "height": 363
        },
        "id": "eG_FmzTUcNGI",
        "outputId": "0a102654-bab3-43d1-b9d0-9ab1b62292bb"
      },
      "execution_count": null,
      "outputs": [
        {
          "output_type": "execute_result",
          "data": {
            "text/html": [
              "\n",
              "  <div id=\"df-41b10ac5-866a-4e6b-8049-013a024ab0ff\">\n",
              "    <div class=\"colab-df-container\">\n",
              "      <div>\n",
              "<style scoped>\n",
              "    .dataframe tbody tr th:only-of-type {\n",
              "        vertical-align: middle;\n",
              "    }\n",
              "\n",
              "    .dataframe tbody tr th {\n",
              "        vertical-align: top;\n",
              "    }\n",
              "\n",
              "    .dataframe thead th {\n",
              "        text-align: right;\n",
              "    }\n",
              "</style>\n",
              "<table border=\"1\" class=\"dataframe\">\n",
              "  <thead>\n",
              "    <tr style=\"text-align: right;\">\n",
              "      <th></th>\n",
              "      <th>index</th>\n",
              "      <th>country</th>\n",
              "    </tr>\n",
              "  </thead>\n",
              "  <tbody>\n",
              "    <tr>\n",
              "      <th>0</th>\n",
              "      <td>PRT</td>\n",
              "      <td>27519</td>\n",
              "    </tr>\n",
              "    <tr>\n",
              "      <th>1</th>\n",
              "      <td>GBR</td>\n",
              "      <td>2453</td>\n",
              "    </tr>\n",
              "    <tr>\n",
              "      <th>2</th>\n",
              "      <td>ESP</td>\n",
              "      <td>2177</td>\n",
              "    </tr>\n",
              "    <tr>\n",
              "      <th>3</th>\n",
              "      <td>FRA</td>\n",
              "      <td>1934</td>\n",
              "    </tr>\n",
              "    <tr>\n",
              "      <th>4</th>\n",
              "      <td>ITA</td>\n",
              "      <td>1333</td>\n",
              "    </tr>\n",
              "    <tr>\n",
              "      <th>5</th>\n",
              "      <td>DEU</td>\n",
              "      <td>1218</td>\n",
              "    </tr>\n",
              "    <tr>\n",
              "      <th>6</th>\n",
              "      <td>IRL</td>\n",
              "      <td>832</td>\n",
              "    </tr>\n",
              "    <tr>\n",
              "      <th>7</th>\n",
              "      <td>BRA</td>\n",
              "      <td>830</td>\n",
              "    </tr>\n",
              "    <tr>\n",
              "      <th>8</th>\n",
              "      <td>USA</td>\n",
              "      <td>501</td>\n",
              "    </tr>\n",
              "    <tr>\n",
              "      <th>9</th>\n",
              "      <td>BEL</td>\n",
              "      <td>474</td>\n",
              "    </tr>\n",
              "  </tbody>\n",
              "</table>\n",
              "</div>\n",
              "      <button class=\"colab-df-convert\" onclick=\"convertToInteractive('df-41b10ac5-866a-4e6b-8049-013a024ab0ff')\"\n",
              "              title=\"Convert this dataframe to an interactive table.\"\n",
              "              style=\"display:none;\">\n",
              "        \n",
              "  <svg xmlns=\"http://www.w3.org/2000/svg\" height=\"24px\"viewBox=\"0 0 24 24\"\n",
              "       width=\"24px\">\n",
              "    <path d=\"M0 0h24v24H0V0z\" fill=\"none\"/>\n",
              "    <path d=\"M18.56 5.44l.94 2.06.94-2.06 2.06-.94-2.06-.94-.94-2.06-.94 2.06-2.06.94zm-11 1L8.5 8.5l.94-2.06 2.06-.94-2.06-.94L8.5 2.5l-.94 2.06-2.06.94zm10 10l.94 2.06.94-2.06 2.06-.94-2.06-.94-.94-2.06-.94 2.06-2.06.94z\"/><path d=\"M17.41 7.96l-1.37-1.37c-.4-.4-.92-.59-1.43-.59-.52 0-1.04.2-1.43.59L10.3 9.45l-7.72 7.72c-.78.78-.78 2.05 0 2.83L4 21.41c.39.39.9.59 1.41.59.51 0 1.02-.2 1.41-.59l7.78-7.78 2.81-2.81c.8-.78.8-2.07 0-2.86zM5.41 20L4 18.59l7.72-7.72 1.47 1.35L5.41 20z\"/>\n",
              "  </svg>\n",
              "      </button>\n",
              "      \n",
              "  <style>\n",
              "    .colab-df-container {\n",
              "      display:flex;\n",
              "      flex-wrap:wrap;\n",
              "      gap: 12px;\n",
              "    }\n",
              "\n",
              "    .colab-df-convert {\n",
              "      background-color: #E8F0FE;\n",
              "      border: none;\n",
              "      border-radius: 50%;\n",
              "      cursor: pointer;\n",
              "      display: none;\n",
              "      fill: #1967D2;\n",
              "      height: 32px;\n",
              "      padding: 0 0 0 0;\n",
              "      width: 32px;\n",
              "    }\n",
              "\n",
              "    .colab-df-convert:hover {\n",
              "      background-color: #E2EBFA;\n",
              "      box-shadow: 0px 1px 2px rgba(60, 64, 67, 0.3), 0px 1px 3px 1px rgba(60, 64, 67, 0.15);\n",
              "      fill: #174EA6;\n",
              "    }\n",
              "\n",
              "    [theme=dark] .colab-df-convert {\n",
              "      background-color: #3B4455;\n",
              "      fill: #D2E3FC;\n",
              "    }\n",
              "\n",
              "    [theme=dark] .colab-df-convert:hover {\n",
              "      background-color: #434B5C;\n",
              "      box-shadow: 0px 1px 3px 1px rgba(0, 0, 0, 0.15);\n",
              "      filter: drop-shadow(0px 1px 2px rgba(0, 0, 0, 0.3));\n",
              "      fill: #FFFFFF;\n",
              "    }\n",
              "  </style>\n",
              "\n",
              "      <script>\n",
              "        const buttonEl =\n",
              "          document.querySelector('#df-41b10ac5-866a-4e6b-8049-013a024ab0ff button.colab-df-convert');\n",
              "        buttonEl.style.display =\n",
              "          google.colab.kernel.accessAllowed ? 'block' : 'none';\n",
              "\n",
              "        async function convertToInteractive(key) {\n",
              "          const element = document.querySelector('#df-41b10ac5-866a-4e6b-8049-013a024ab0ff');\n",
              "          const dataTable =\n",
              "            await google.colab.kernel.invokeFunction('convertToInteractive',\n",
              "                                                     [key], {});\n",
              "          if (!dataTable) return;\n",
              "\n",
              "          const docLinkHtml = 'Like what you see? Visit the ' +\n",
              "            '<a target=\"_blank\" href=https://colab.research.google.com/notebooks/data_table.ipynb>data table notebook</a>'\n",
              "            + ' to learn more about interactive tables.';\n",
              "          element.innerHTML = '';\n",
              "          dataTable['output_type'] = 'display_data';\n",
              "          await google.colab.output.renderOutput(dataTable, element);\n",
              "          const docLink = document.createElement('div');\n",
              "          docLink.innerHTML = docLinkHtml;\n",
              "          element.appendChild(docLink);\n",
              "        }\n",
              "      </script>\n",
              "    </div>\n",
              "  </div>\n",
              "  "
            ],
            "text/plain": [
              "  index  country\n",
              "0   PRT    27519\n",
              "1   GBR     2453\n",
              "2   ESP     2177\n",
              "3   FRA     1934\n",
              "4   ITA     1333\n",
              "5   DEU     1218\n",
              "6   IRL      832\n",
              "7   BRA      830\n",
              "8   USA      501\n",
              "9   BEL      474"
            ]
          },
          "metadata": {},
          "execution_count": 101
        }
      ]
    },
    {
      "cell_type": "code",
      "source": [
        "plt.figure(figsize=(12,5))\n",
        "sns.barplot(x='index', y='country', data = countrywise_cancellation)\n",
        "plt.show()"
      ],
      "metadata": {
        "colab": {
          "base_uri": "https://localhost:8080/",
          "height": 334
        },
        "id": "ad0l-UDofkRE",
        "outputId": "0ca4fc6e-ec24-4789-f7e6-e6366ce15669"
      },
      "execution_count": null,
      "outputs": [
        {
          "output_type": "display_data",
          "data": {
            "image/png": "[encoded data removed]",
            "text/plain": [
              "<Figure size 864x360 with 1 Axes>"
            ]
          },
          "metadata": {
            "needs_background": "light"
          }
        }
      ]
    },
    {
      "cell_type": "markdown",
      "source": [
        "Portugal has highest cancellation followed by Germany and Spain"
      ],
      "metadata": {
        "id": "Ce30XSXohlOy"
      }
    },
    {
      "cell_type": "markdown",
      "source": [
        "Now lets see the actual people stayed and enjoyed their holidays"
      ],
      "metadata": {
        "id": "knO0Y71arkhN"
      }
    },
    {
      "cell_type": "code",
      "source": [
        "actual_booking = df_data[df_data['is_canceled'] == 0]['country'].value_counts().reset_index().head(10)\n",
        "actual_booking"
      ],
      "metadata": {
        "id": "rcJ2nv27rJHA",
        "colab": {
          "base_uri": "https://localhost:8080/",
          "height": 363
        },
        "outputId": "9f5b8cbb-2d86-48c4-830a-155bb3830bcc"
      },
      "execution_count": null,
      "outputs": [
        {
          "output_type": "execute_result",
          "data": {
            "text/html": [
              "\n",
              "  <div id=\"df-ac5c3c2c-18fe-41a4-b6fe-339f233b1b8a\">\n",
              "    <div class=\"colab-df-container\">\n",
              "      <div>\n",
              "<style scoped>\n",
              "    .dataframe tbody tr th:only-of-type {\n",
              "        vertical-align: middle;\n",
              "    }\n",
              "\n",
              "    .dataframe tbody tr th {\n",
              "        vertical-align: top;\n",
              "    }\n",
              "\n",
              "    .dataframe thead th {\n",
              "        text-align: right;\n",
              "    }\n",
              "</style>\n",
              "<table border=\"1\" class=\"dataframe\">\n",
              "  <thead>\n",
              "    <tr style=\"text-align: right;\">\n",
              "      <th></th>\n",
              "      <th>index</th>\n",
              "      <th>country</th>\n",
              "    </tr>\n",
              "  </thead>\n",
              "  <tbody>\n",
              "    <tr>\n",
              "      <th>0</th>\n",
              "      <td>PRT</td>\n",
              "      <td>21071</td>\n",
              "    </tr>\n",
              "    <tr>\n",
              "      <th>1</th>\n",
              "      <td>GBR</td>\n",
              "      <td>9676</td>\n",
              "    </tr>\n",
              "    <tr>\n",
              "      <th>2</th>\n",
              "      <td>FRA</td>\n",
              "      <td>8481</td>\n",
              "    </tr>\n",
              "    <tr>\n",
              "      <th>3</th>\n",
              "      <td>ESP</td>\n",
              "      <td>6391</td>\n",
              "    </tr>\n",
              "    <tr>\n",
              "      <th>4</th>\n",
              "      <td>DEU</td>\n",
              "      <td>6069</td>\n",
              "    </tr>\n",
              "    <tr>\n",
              "      <th>5</th>\n",
              "      <td>IRL</td>\n",
              "      <td>2543</td>\n",
              "    </tr>\n",
              "    <tr>\n",
              "      <th>6</th>\n",
              "      <td>ITA</td>\n",
              "      <td>2433</td>\n",
              "    </tr>\n",
              "    <tr>\n",
              "      <th>7</th>\n",
              "      <td>BEL</td>\n",
              "      <td>1868</td>\n",
              "    </tr>\n",
              "    <tr>\n",
              "      <th>8</th>\n",
              "      <td>NLD</td>\n",
              "      <td>1717</td>\n",
              "    </tr>\n",
              "    <tr>\n",
              "      <th>9</th>\n",
              "      <td>USA</td>\n",
              "      <td>1596</td>\n",
              "    </tr>\n",
              "  </tbody>\n",
              "</table>\n",
              "</div>\n",
              "      <button class=\"colab-df-convert\" onclick=\"convertToInteractive('df-ac5c3c2c-18fe-41a4-b6fe-339f233b1b8a')\"\n",
              "              title=\"Convert this dataframe to an interactive table.\"\n",
              "              style=\"display:none;\">\n",
              "        \n",
              "  <svg xmlns=\"http://www.w3.org/2000/svg\" height=\"24px\"viewBox=\"0 0 24 24\"\n",
              "       width=\"24px\">\n",
              "    <path d=\"M0 0h24v24H0V0z\" fill=\"none\"/>\n",
              "    <path d=\"M18.56 5.44l.94 2.06.94-2.06 2.06-.94-2.06-.94-.94-2.06-.94 2.06-2.06.94zm-11 1L8.5 8.5l.94-2.06 2.06-.94-2.06-.94L8.5 2.5l-.94 2.06-2.06.94zm10 10l.94 2.06.94-2.06 2.06-.94-2.06-.94-.94-2.06-.94 2.06-2.06.94z\"/><path d=\"M17.41 7.96l-1.37-1.37c-.4-.4-.92-.59-1.43-.59-.52 0-1.04.2-1.43.59L10.3 9.45l-7.72 7.72c-.78.78-.78 2.05 0 2.83L4 21.41c.39.39.9.59 1.41.59.51 0 1.02-.2 1.41-.59l7.78-7.78 2.81-2.81c.8-.78.8-2.07 0-2.86zM5.41 20L4 18.59l7.72-7.72 1.47 1.35L5.41 20z\"/>\n",
              "  </svg>\n",
              "      </button>\n",
              "      \n",
              "  <style>\n",
              "    .colab-df-container {\n",
              "      display:flex;\n",
              "      flex-wrap:wrap;\n",
              "      gap: 12px;\n",
              "    }\n",
              "\n",
              "    .colab-df-convert {\n",
              "      background-color: #E8F0FE;\n",
              "      border: none;\n",
              "      border-radius: 50%;\n",
              "      cursor: pointer;\n",
              "      display: none;\n",
              "      fill: #1967D2;\n",
              "      height: 32px;\n",
              "      padding: 0 0 0 0;\n",
              "      width: 32px;\n",
              "    }\n",
              "\n",
              "    .colab-df-convert:hover {\n",
              "      background-color: #E2EBFA;\n",
              "      box-shadow: 0px 1px 2px rgba(60, 64, 67, 0.3), 0px 1px 3px 1px rgba(60, 64, 67, 0.15);\n",
              "      fill: #174EA6;\n",
              "    }\n",
              "\n",
              "    [theme=dark] .colab-df-convert {\n",
              "      background-color: #3B4455;\n",
              "      fill: #D2E3FC;\n",
              "    }\n",
              "\n",
              "    [theme=dark] .colab-df-convert:hover {\n",
              "      background-color: #434B5C;\n",
              "      box-shadow: 0px 1px 3px 1px rgba(0, 0, 0, 0.15);\n",
              "      filter: drop-shadow(0px 1px 2px rgba(0, 0, 0, 0.3));\n",
              "      fill: #FFFFFF;\n",
              "    }\n",
              "  </style>\n",
              "\n",
              "      <script>\n",
              "        const buttonEl =\n",
              "          document.querySelector('#df-ac5c3c2c-18fe-41a4-b6fe-339f233b1b8a button.colab-df-convert');\n",
              "        buttonEl.style.display =\n",
              "          google.colab.kernel.accessAllowed ? 'block' : 'none';\n",
              "\n",
              "        async function convertToInteractive(key) {\n",
              "          const element = document.querySelector('#df-ac5c3c2c-18fe-41a4-b6fe-339f233b1b8a');\n",
              "          const dataTable =\n",
              "            await google.colab.kernel.invokeFunction('convertToInteractive',\n",
              "                                                     [key], {});\n",
              "          if (!dataTable) return;\n",
              "\n",
              "          const docLinkHtml = 'Like what you see? Visit the ' +\n",
              "            '<a target=\"_blank\" href=https://colab.research.google.com/notebooks/data_table.ipynb>data table notebook</a>'\n",
              "            + ' to learn more about interactive tables.';\n",
              "          element.innerHTML = '';\n",
              "          dataTable['output_type'] = 'display_data';\n",
              "          await google.colab.output.renderOutput(dataTable, element);\n",
              "          const docLink = document.createElement('div');\n",
              "          docLink.innerHTML = docLinkHtml;\n",
              "          element.appendChild(docLink);\n",
              "        }\n",
              "      </script>\n",
              "    </div>\n",
              "  </div>\n",
              "  "
            ],
            "text/plain": [
              "  index  country\n",
              "0   PRT    21071\n",
              "1   GBR     9676\n",
              "2   FRA     8481\n",
              "3   ESP     6391\n",
              "4   DEU     6069\n",
              "5   IRL     2543\n",
              "6   ITA     2433\n",
              "7   BEL     1868\n",
              "8   NLD     1717\n",
              "9   USA     1596"
            ]
          },
          "metadata": {},
          "execution_count": 160
        }
      ]
    },
    {
      "cell_type": "code",
      "source": [
        "plt.figure(figsize=(12,5))\n",
        "sns.barplot(x='index', y='country', data = actual_booking)\n",
        "plt.show()"
      ],
      "metadata": {
        "colab": {
          "base_uri": "https://localhost:8080/",
          "height": 334
        },
        "id": "RSByNC6oxbf_",
        "outputId": "866b2ba9-5458-4063-9cc9-48c61e674f1a"
      },
      "execution_count": null,
      "outputs": [
        {
          "output_type": "display_data",
          "data": {
            "image/png": "[encoded data removed]",
            "text/plain": [
              "<Figure size 864x360 with 1 Axes>"
            ]
          },
          "metadata": {
            "needs_background": "light"
          }
        }
      ]
    },
    {
      "cell_type": "markdown",
      "source": [
        "So after looking at the actual booking data, USA has taken place in top 10 and BRA (Brazil) got removed from top 10."
      ],
      "metadata": {
        "id": "1vC9DrvBHbGg"
      }
    },
    {
      "cell_type": "markdown",
      "source": [
        "# **7. Find the relationship between room change and cancellation?**"
      ],
      "metadata": {
        "id": "KMbEYjwV91fv"
      }
    },
    {
      "cell_type": "code",
      "source": [
        "df_data['assigned_same_room'] = df_data['reserved_room_type']==df_data['assigned_room_type']\n",
        "df_data['assigned_same_room']"
      ],
      "metadata": {
        "colab": {
          "base_uri": "https://localhost:8080/"
        },
        "id": "SLY2_Eyt9YmG",
        "outputId": "bedcad0a-2b6c-42ac-a53e-0fed2f27bb6a"
      },
      "execution_count": null,
      "outputs": [
        {
          "output_type": "execute_result",
          "data": {
            "text/plain": [
              "0          True\n",
              "1          True\n",
              "2         False\n",
              "3          True\n",
              "4          True\n",
              "          ...  \n",
              "119385     True\n",
              "119386     True\n",
              "119387     True\n",
              "119388     True\n",
              "119389     True\n",
              "Name: assigned_same_room, Length: 119390, dtype: bool"
            ]
          },
          "metadata": {},
          "execution_count": 106
        }
      ]
    },
    {
      "cell_type": "code",
      "source": [
        "compared_data = df_data.groupby(['assigned_same_room'])['is_canceled'].value_counts()\n",
        "compared_data"
      ],
      "metadata": {
        "colab": {
          "base_uri": "https://localhost:8080/"
        },
        "id": "3DdoPmXJasoc",
        "outputId": "628e6f59-0d3e-4f11-f869-525b152d3ca7"
      },
      "execution_count": null,
      "outputs": [
        {
          "output_type": "execute_result",
          "data": {
            "text/plain": [
              "assigned_same_room  is_canceled\n",
              "False               0              14115\n",
              "                    1                802\n",
              "True                0              61051\n",
              "                    1              43422\n",
              "Name: is_canceled, dtype: int64"
            ]
          },
          "metadata": {},
          "execution_count": 107
        }
      ]
    },
    {
      "cell_type": "code",
      "source": [
        "round(compared_data[0,1]/compared_data[0,0]*100,1)"
      ],
      "metadata": {
        "colab": {
          "base_uri": "https://localhost:8080/"
        },
        "id": "Kx2B4lodI8dC",
        "outputId": "9b36db6a-6da2-4c7d-b45c-edf01fe20d66"
      },
      "execution_count": null,
      "outputs": [
        {
          "output_type": "execute_result",
          "data": {
            "text/plain": [
              "5.7"
            ]
          },
          "metadata": {},
          "execution_count": 108
        }
      ]
    },
    {
      "cell_type": "code",
      "source": [
        "plt.figure(figsize=(12,5))\n",
        "sns.countplot(x='assigned_same_room', hue = 'is_canceled', data = df_data)\n",
        "plt.show()"
      ],
      "metadata": {
        "colab": {
          "base_uri": "https://localhost:8080/",
          "height": 335
        },
        "id": "W6MRmrCA-Y4E",
        "outputId": "babbdf91-886c-4a97-999a-a4676d52136d"
      },
      "execution_count": null,
      "outputs": [
        {
          "output_type": "display_data",
          "data": {
            "image/png": "[encoded data removed]",
            "text/plain": [
              "<Figure size 864x360 with 1 Axes>"
            ]
          },
          "metadata": {
            "needs_background": "light"
          }
        }
      ]
    },
    {
      "cell_type": "markdown",
      "source": [
        "Customer who has not changed room type has cancellation more and 5.7% of people cancelled room after they had assigned different room from booking room."
      ],
      "metadata": {
        "id": "zm_A1oWY_gtH"
      }
    },
    {
      "cell_type": "markdown",
      "source": [
        "# **8. What if you wanted to predict whether or not a hotel was likely to receive a disproportionately high number of special requests?**"
      ],
      "metadata": {
        "id": "zk8K_hDMCKpD"
      }
    },
    {
      "cell_type": "code",
      "source": [
        "df_data.groupby(['total_of_special_requests'])['hotel'].value_counts()"
      ],
      "metadata": {
        "colab": {
          "base_uri": "https://localhost:8080/"
        },
        "id": "3kGweEBdAPJg",
        "outputId": "67abf1ef-be33-4f2e-d531-7874b8aae447"
      },
      "execution_count": null,
      "outputs": [
        {
          "output_type": "execute_result",
          "data": {
            "text/plain": [
              "total_of_special_requests  hotel       \n",
              "0                          City Hotel      47957\n",
              "                           Resort Hotel    22361\n",
              "1                          City Hotel      21420\n",
              "                           Resort Hotel    11806\n",
              "2                          City Hotel       8142\n",
              "                           Resort Hotel     4827\n",
              "3                          City Hotel       1587\n",
              "                           Resort Hotel      910\n",
              "4                          City Hotel        198\n",
              "                           Resort Hotel      142\n",
              "5                          City Hotel         26\n",
              "                           Resort Hotel       14\n",
              "Name: hotel, dtype: int64"
            ]
          },
          "metadata": {},
          "execution_count": 110
        }
      ]
    },
    {
      "cell_type": "code",
      "source": [
        "plt.figure(figsize=(7,5))\n",
        "sns.countplot(x='total_of_special_requests', hue = 'hotel', data = df_data)\n",
        "plt.show()"
      ],
      "metadata": {
        "colab": {
          "base_uri": "https://localhost:8080/",
          "height": 337
        },
        "id": "B_5iF9i1AjLb",
        "outputId": "7751400c-b9cc-4c91-cfa5-5d893d997dc7"
      },
      "execution_count": null,
      "outputs": [
        {
          "output_type": "display_data",
          "data": {
            "image/png": "[encoded data removed]",
            "text/plain": [
              "<Figure size 504x360 with 1 Axes>"
            ]
          },
          "metadata": {
            "needs_background": "light"
          }
        }
      ]
    },
    {
      "cell_type": "markdown",
      "source": [
        "So the probability of 0 special request is highest"
      ],
      "metadata": {
        "id": "G05cUFz7DORO"
      }
    },
    {
      "cell_type": "markdown",
      "source": [
        "# **9. What Kind of People Book the Most Hotels?**"
      ],
      "metadata": {
        "id": "GXKGypzY8TZF"
      }
    },
    {
      "cell_type": "markdown",
      "source": [
        "We can divide it into three categories (We are not removing canceled data because here we want to know which type of people are doing bookings)\n",
        "1. 1 adult - Single\n",
        "2. 2 adults, 0 children, 0 babies - Couple\n",
        "3. Minimum 1 adult, atmost 1 child or 1 baby - Family"
      ],
      "metadata": {
        "id": "KEFd7ZUZN4fD"
      }
    },
    {
      "cell_type": "code",
      "source": [
        "Single = df_data[(df_data.adults==1) & (df_data.children==0) & (df_data.babies==0)]\n",
        "Couple = df_data[(df_data.adults==2) & (df_data.children==0) & (df_data.babies==0)]\n",
        "Family = df_data[df_data.adults + df_data.children + df_data.babies > 2]\n",
        "print(Single.shape[0], Couple.shape[0], Family.shape[0])"
      ],
      "metadata": {
        "colab": {
          "base_uri": "https://localhost:8080/"
        },
        "id": "CT6PMceGSSjf",
        "outputId": "10787aac-6b96-4bb9-bdf6-432c734ddfac"
      },
      "execution_count": null,
      "outputs": [
        {
          "output_type": "stream",
          "name": "stdout",
          "text": [
            "22577 81560 14578\n"
          ]
        }
      ]
    },
    {
      "cell_type": "markdown",
      "source": [
        "lets see in graph"
      ],
      "metadata": {
        "id": "eO1bXP1PT4z4"
      }
    },
    {
      "cell_type": "code",
      "source": [
        "Name=['Single','Couple','Family']\n",
        "Total=[Single.shape[0], Couple.shape[0], Family.shape[0]]\n",
        "plt.bar(Name,Total)\n",
        "plt.show()"
      ],
      "metadata": {
        "colab": {
          "base_uri": "https://localhost:8080/",
          "height": 320
        },
        "id": "AKumuq9PT7rn",
        "outputId": "96445467-eeca-4aec-98cd-26a18f90aab4"
      },
      "execution_count": null,
      "outputs": [
        {
          "output_type": "display_data",
          "data": {
            "image/png": "[encoded data removed]",
            "text/plain": [
              "<Figure size 864x360 with 1 Axes>"
            ]
          },
          "metadata": {
            "needs_background": "light"
          }
        }
      ]
    },
    {
      "cell_type": "markdown",
      "source": [
        "So as it is seen max booking was done by couples"
      ],
      "metadata": {
        "id": "NDlPloFWVX5K"
      }
    },
    {
      "cell_type": "markdown",
      "source": [
        "Now lets see which type of people has canceled booking more"
      ],
      "metadata": {
        "id": "wFxahBZvvi4N"
      }
    },
    {
      "cell_type": "code",
      "source": [
        "Single_canceled = df_data[(df_data.is_canceled==1) & (df_data.adults==1) & (df_data.children==0) & (df_data.babies==0)]\n",
        "Couple_canceled = df_data[(df_data.is_canceled==1) & (df_data.adults==2) & (df_data.children==0) & (df_data.babies==0)]\n",
        "Family_canceled = df_data[(df_data.is_canceled==1) & (df_data.adults + df_data.children + df_data.babies > 2)]\n",
        "print(Single_canceled.shape[0], Couple_canceled.shape[0], Family_canceled.shape[0])"
      ],
      "metadata": {
        "colab": {
          "base_uri": "https://localhost:8080/"
        },
        "id": "oOkgPjFhuwEm",
        "outputId": "7760f4a1-78d7-4712-fcc4-2caee9785d57"
      },
      "execution_count": null,
      "outputs": [
        {
          "output_type": "stream",
          "name": "stdout",
          "text": [
            "6555 32424 5072\n"
          ]
        }
      ]
    },
    {
      "cell_type": "code",
      "source": [
        "Name_2=['Single_canceled','Couple_canceled','Family_canceled']\n",
        "Total_2=[Single_canceled.shape[0], Couple_canceled.shape[0], Family_canceled.shape[0]]\n",
        "plt.bar(Name_2,Total_2)\n",
        "plt.show()"
      ],
      "metadata": {
        "colab": {
          "base_uri": "https://localhost:8080/",
          "height": 321
        },
        "id": "QjuKUJ08vyNf",
        "outputId": "09d5bb18-3dfa-4979-a750-44eef36a1c1a"
      },
      "execution_count": null,
      "outputs": [
        {
          "output_type": "display_data",
          "data": {
            "image/png": "[encoded data removed]",
            "text/plain": [
              "<Figure size 864x360 with 1 Axes>"
            ]
          },
          "metadata": {
            "needs_background": "light"
          }
        }
      ]
    },
    {
      "cell_type": "markdown",
      "source": [
        "So couples has canceled booking max followed by single then family respectively"
      ],
      "metadata": {
        "id": "8p4_K0bxvxfi"
      }
    },
    {
      "cell_type": "markdown",
      "source": [
        "# **10. For how long people stay in hotel?**"
      ],
      "metadata": {
        "id": "F77J3e_fg-kU"
      }
    },
    {
      "cell_type": "code",
      "source": [
        "df_data['total_night_spend'] = df_data['stays_in_weekend_nights'] + df_data['stays_in_week_nights']\n",
        "top_ten_values = df_data['total_night_spend'].value_counts().head(10)\n",
        "top_ten_values"
      ],
      "metadata": {
        "id": "zMpIKx9MDNzd",
        "colab": {
          "base_uri": "https://localhost:8080/"
        },
        "outputId": "febe8a8c-3595-4bb7-ebfc-814d8a1f49e2"
      },
      "execution_count": null,
      "outputs": [
        {
          "output_type": "execute_result",
          "data": {
            "text/plain": [
              "2     27643\n",
              "3     27076\n",
              "1     21020\n",
              "4     17383\n",
              "7      8655\n",
              "5      7784\n",
              "6      3857\n",
              "8      1161\n",
              "10     1139\n",
              "14      916\n",
              "Name: total_night_spend, dtype: int64"
            ]
          },
          "metadata": {},
          "execution_count": 119
        }
      ]
    },
    {
      "cell_type": "markdown",
      "source": [
        "Now lets visualize above in graph"
      ],
      "metadata": {
        "id": "dFT7KdBjve9k"
      }
    },
    {
      "cell_type": "code",
      "source": [
        "top_ten_values.plot(kind='bar')"
      ],
      "metadata": {
        "colab": {
          "base_uri": "https://localhost:8080/",
          "height": 339
        },
        "id": "UlHM4JnVvjyU",
        "outputId": "7d52d76e-0e3b-4b4b-86e5-877ef63ef0df"
      },
      "execution_count": null,
      "outputs": [
        {
          "output_type": "execute_result",
          "data": {
            "text/plain": [
              "<matplotlib.axes._subplots.AxesSubplot at 0x7ff475d92f90>"
            ]
          },
          "metadata": {},
          "execution_count": 120
        },
        {
          "output_type": "display_data",
          "data": {
            "image/png": "[encoded data removed]",
            "text/plain": [
              "<Figure size 864x360 with 1 Axes>"
            ]
          },
          "metadata": {
            "needs_background": "light"
          }
        }
      ]
    },
    {
      "cell_type": "markdown",
      "source": [
        "So most of people satying in hotel for 2 days follow by 3 days and 1 day."
      ],
      "metadata": {
        "id": "pHQRu6FxyCAK"
      }
    },
    {
      "cell_type": "markdown",
      "source": [
        "Now lets compare resort and city hotel stays...."
      ],
      "metadata": {
        "id": "1ppk7JTVyNou"
      }
    },
    {
      "cell_type": "code",
      "source": [
        "df_data.groupby(['hotel'])['total_night_spend'].value_counts().head(50)"
      ],
      "metadata": {
        "colab": {
          "base_uri": "https://localhost:8080/"
        },
        "id": "_DTsOtsw1bak",
        "outputId": "aa6611e4-0a60-4560-d531-a13a9d107e63"
      },
      "execution_count": null,
      "outputs": [
        {
          "output_type": "execute_result",
          "data": {
            "text/plain": [
              "hotel         total_night_spend\n",
              "City Hotel    2                    21426\n",
              "              3                    21381\n",
              "              1                    13272\n",
              "              4                    12557\n",
              "              5                     4997\n",
              "              6                     2059\n",
              "              7                     2059\n",
              "              8                      385\n",
              "              0                      331\n",
              "              9                      213\n",
              "              10                     199\n",
              "              14                     100\n",
              "              11                      82\n",
              "              12                      65\n",
              "              13                      42\n",
              "              15                      42\n",
              "              16                      16\n",
              "              20                      13\n",
              "              19                      12\n",
              "              29                      11\n",
              "              21                      10\n",
              "              17                       8\n",
              "              30                       8\n",
              "              18                       7\n",
              "              22                       7\n",
              "              24                       6\n",
              "              27                       4\n",
              "              28                       4\n",
              "              26                       3\n",
              "              23                       2\n",
              "              25                       2\n",
              "              33                       2\n",
              "              34                       1\n",
              "              43                       1\n",
              "              48                       1\n",
              "              49                       1\n",
              "              57                       1\n",
              "Resort Hotel  1                     7748\n",
              "              7                     6596\n",
              "              2                     6217\n",
              "              3                     5695\n",
              "              4                     4826\n",
              "              5                     2787\n",
              "              6                     1798\n",
              "              10                     940\n",
              "              14                     816\n",
              "              8                      776\n",
              "              9                      628\n",
              "              0                      384\n",
              "              11                     314\n",
              "Name: total_night_spend, dtype: int64"
            ]
          },
          "metadata": {},
          "execution_count": 136
        }
      ]
    },
    {
      "cell_type": "code",
      "source": [
        "plt.figure(figsize=(12,5))\n",
        "sns.countplot(x='total_night_spend', hue = 'hotel', data = df_data, order=df_data.total_night_spend.value_counts().iloc[:10].index)\n",
        "plt.show()"
      ],
      "metadata": {
        "colab": {
          "base_uri": "https://localhost:8080/",
          "height": 335
        },
        "id": "vOXLNIx-yBRe",
        "outputId": "1632700f-8848-4f98-e47e-a3b8ccf1e5a8"
      },
      "execution_count": null,
      "outputs": [
        {
          "output_type": "display_data",
          "data": {
            "image/png": "[encoded data removed]",
            "text/plain": [
              "<Figure size 864x360 with 1 Axes>"
            ]
          },
          "metadata": {
            "needs_background": "light"
          }
        }
      ]
    },
    {
      "cell_type": "markdown",
      "source": [
        "For city hotel most popular stay in 2,3,1 days respectively. And for resort its 1,7,2 days respectively"
      ],
      "metadata": {
        "id": "sxafDCqw-L0U"
      }
    },
    {
      "cell_type": "markdown",
      "source": [
        "# **11. Percentage of Repeated Guests in hotels**"
      ],
      "metadata": {
        "id": "UYWO3iLHpGXy"
      }
    },
    {
      "cell_type": "code",
      "source": [
        "dff1=df_data[df_data['is_repeated_guest']==1]\n",
        "plt.figure(figsize=(10,5))\n",
        "data = dff1.groupby(\"hotel\")[\"is_repeated_guest\"].count()\n",
        "colors = ['Red','yellow']\n",
        "explode=(0,0.1)\n",
        "data.plot.pie(autopct=\"%.1f%%\",colors=colors,explode=explode);\n",
        "\n",
        "plt.tight_layout()"
      ],
      "metadata": {
        "colab": {
          "base_uri": "https://localhost:8080/",
          "height": 369
        },
        "id": "s9aeErlOpVIO",
        "outputId": "babda1c6-2907-41ee-9c71-9058d11fbb6d"
      },
      "execution_count": null,
      "outputs": [
        {
          "output_type": "display_data",
          "data": {
            "image/png": "[encoded data removed]",
            "text/plain": [
              "<Figure size 720x360 with 1 Axes>"
            ]
          },
          "metadata": {}
        }
      ]
    },
    {
      "cell_type": "markdown",
      "source": [
        "In city hotel 53.3% people are repeated guest while in resort the percentage is 46.7%."
      ],
      "metadata": {
        "id": "QK6JkLyrpjwX"
      }
    },
    {
      "cell_type": "markdown",
      "source": [
        "# **12. Calculate avg ADR for given statements**\n",
        "- Avg ADR for each year\n",
        "- Avg ADR for resort and hotel\n",
        "- Avg ADR for each country\n",
        "- Avg ADR of top 10 country who has highest number of bookings"
      ],
      "metadata": {
        "id": "GAi35Rwi9HpO"
      }
    },
    {
      "cell_type": "markdown",
      "source": [
        "The definition of hotel ADR is simple: It stands for **Average Daily Rate**, and it's used to measure the average revenue that a hotel receives for each occupied guest room per day. By measuring the ADR for your property, you're able to see the average rate that comes from all occupied rooms.\n",
        "\n",
        "Source: https://www.cvent.com/en/blog/hospitality/hotel-adr-average-daily-rate#:~:text=The%20definition%20of%20hotel%20ADR,comes%20from%20all%20occupied%20rooms."
      ],
      "metadata": {
        "id": "ZYw9C5a8BPKd"
      }
    },
    {
      "cell_type": "markdown",
      "source": [
        "Avg ADR for each year"
      ],
      "metadata": {
        "id": "Flg-9NvK-q8V"
      }
    },
    {
      "cell_type": "code",
      "source": [
        "df_data.groupby(['arrival_date_year'])['adr'].mean()"
      ],
      "metadata": {
        "colab": {
          "base_uri": "https://localhost:8080/"
        },
        "id": "oLOxYL1NAdkW",
        "outputId": "d502a26e-2a6b-4f4c-cf43-1b5ff607a64c"
      },
      "execution_count": null,
      "outputs": [
        {
          "output_type": "execute_result",
          "data": {
            "text/plain": [
              "arrival_date_year\n",
              "2015     87.178515\n",
              "2016     98.325863\n",
              "2017    114.637950\n",
              "Name: adr, dtype: float64"
            ]
          },
          "metadata": {},
          "execution_count": 56
        }
      ]
    },
    {
      "cell_type": "code",
      "source": [
        "df_data.groupby(['arrival_date_year'])['adr'].mean().plot()"
      ],
      "metadata": {
        "colab": {
          "base_uri": "https://localhost:8080/",
          "height": 352
        },
        "id": "uT7H_eARBxPd",
        "outputId": "5fe70bac-bd97-4624-d6b2-a3e83eb495c3"
      },
      "execution_count": null,
      "outputs": [
        {
          "output_type": "execute_result",
          "data": {
            "text/plain": [
              "<matplotlib.axes._subplots.AxesSubplot at 0x7fd05b617cd0>"
            ]
          },
          "metadata": {},
          "execution_count": 58
        },
        {
          "output_type": "display_data",
          "data": {
            "image/png": "[encoded data removed]",
            "text/plain": [
              "<Figure size 864x360 with 1 Axes>"
            ]
          },
          "metadata": {
            "needs_background": "light"
          }
        }
      ]
    },
    {
      "cell_type": "markdown",
      "source": [
        "As we can see in above graph the avg adr is gradually increasing from 2015 to 2017. So in 2017 the avg adr is max"
      ],
      "metadata": {
        "id": "ci0TvO_4B3UY"
      }
    },
    {
      "cell_type": "markdown",
      "source": [
        "Avg ADR for hotel and resort"
      ],
      "metadata": {
        "id": "QKbj-QjICTgG"
      }
    },
    {
      "cell_type": "code",
      "source": [
        "df_data.groupby(['hotel'])['adr'].mean()"
      ],
      "metadata": {
        "colab": {
          "base_uri": "https://localhost:8080/"
        },
        "id": "nqMefgDjB1ad",
        "outputId": "ca44d4f9-6f8b-4990-a845-c8a12d3c2efc"
      },
      "execution_count": null,
      "outputs": [
        {
          "output_type": "execute_result",
          "data": {
            "text/plain": [
              "hotel\n",
              "City Hotel      105.304465\n",
              "Resort Hotel     94.952930\n",
              "Name: adr, dtype: float64"
            ]
          },
          "metadata": {},
          "execution_count": 59
        }
      ]
    },
    {
      "cell_type": "code",
      "source": [
        "df_data.groupby(['hotel'])['adr'].mean().plot(kind='bar')"
      ],
      "metadata": {
        "colab": {
          "base_uri": "https://localhost:8080/",
          "height": 402
        },
        "id": "RWj3J1LnCbVR",
        "outputId": "d23f6b19-ed26-4f3b-e948-e38a390ce571"
      },
      "execution_count": null,
      "outputs": [
        {
          "output_type": "execute_result",
          "data": {
            "text/plain": [
              "<matplotlib.axes._subplots.AxesSubplot at 0x7fd05b511fd0>"
            ]
          },
          "metadata": {},
          "execution_count": 60
        },
        {
          "output_type": "display_data",
          "data": {
            "image/png": "[encoded data removed]",
            "text/plain": [
              "<Figure size 864x360 with 1 Axes>"
            ]
          },
          "metadata": {
            "needs_background": "light"
          }
        }
      ]
    },
    {
      "cell_type": "markdown",
      "source": [
        "Avg ADR for each country"
      ],
      "metadata": {
        "id": "178oESpHG0GN"
      }
    },
    {
      "cell_type": "code",
      "source": [
        "df_data.groupby(['country'])['adr'].mean().sort_values(ascending=False).head(10)"
      ],
      "metadata": {
        "colab": {
          "base_uri": "https://localhost:8080/"
        },
        "id": "h5hJLm9VCiMJ",
        "outputId": "91cf96de-edad-4a97-bc7a-c5cbe6fac774"
      },
      "execution_count": null,
      "outputs": [
        {
          "output_type": "execute_result",
          "data": {
            "text/plain": [
              "country\n",
              "DJI    273.000000\n",
              "AIA    265.000000\n",
              "AND    202.652857\n",
              "UMI    200.000000\n",
              "LAO    181.665000\n",
              "MYT    177.750000\n",
              "NCL    175.500000\n",
              "GEO    169.015909\n",
              "COM    165.305000\n",
              "FRO    155.200000\n",
              "Name: adr, dtype: float64"
            ]
          },
          "metadata": {},
          "execution_count": 61
        }
      ]
    },
    {
      "cell_type": "code",
      "source": [
        "df_data.groupby(['country'])['adr'].mean().sort_values(ascending=False).head(10).plot(kind='bar')"
      ],
      "metadata": {
        "colab": {
          "base_uri": "https://localhost:8080/",
          "height": 364
        },
        "id": "n9dh5uL4G_u5",
        "outputId": "15ea6a37-89ec-4b7a-8329-b869dea0ba51"
      },
      "execution_count": null,
      "outputs": [
        {
          "output_type": "execute_result",
          "data": {
            "text/plain": [
              "<matplotlib.axes._subplots.AxesSubplot at 0x7fd05a7b3410>"
            ]
          },
          "metadata": {},
          "execution_count": 62
        },
        {
          "output_type": "display_data",
          "data": {
            "image/png": "[encoded data removed]",
            "text/plain": [
              "<Figure size 864x360 with 1 Axes>"
            ]
          },
          "metadata": {
            "needs_background": "light"
          }
        }
      ]
    },
    {
      "cell_type": "markdown",
      "source": [
        "So the highest adr is of Djibouti (DJI) . But the above 10 countries are not our top 10 coutries who has highest booking. So lets see our top 10 countries with highes booking and their adr\n"
      ],
      "metadata": {
        "id": "HINgM1TUHo_a"
      }
    },
    {
      "cell_type": "code",
      "source": [
        "ADR_of_top_ten=df_data.groupby('country').agg(Country_count=('country','count'),ADR=('adr','mean')).sort_values(by='Country_count',ascending=False).head(10)\n",
        "ADR_of_top_ten"
      ],
      "metadata": {
        "colab": {
          "base_uri": "https://localhost:8080/",
          "height": 394
        },
        "id": "2E2BqmKrKtmd",
        "outputId": "3df40292-1fa1-47fb-aba7-30f04f17ce7e"
      },
      "execution_count": null,
      "outputs": [
        {
          "output_type": "execute_result",
          "data": {
            "text/html": [
              "\n",
              "  <div id=\"df-7ed1b7aa-e2b8-4ee8-b95b-69db5ce1281c\">\n",
              "    <div class=\"colab-df-container\">\n",
              "      <div>\n",
              "<style scoped>\n",
              "    .dataframe tbody tr th:only-of-type {\n",
              "        vertical-align: middle;\n",
              "    }\n",
              "\n",
              "    .dataframe tbody tr th {\n",
              "        vertical-align: top;\n",
              "    }\n",
              "\n",
              "    .dataframe thead th {\n",
              "        text-align: right;\n",
              "    }\n",
              "</style>\n",
              "<table border=\"1\" class=\"dataframe\">\n",
              "  <thead>\n",
              "    <tr style=\"text-align: right;\">\n",
              "      <th></th>\n",
              "      <th>Country_count</th>\n",
              "      <th>ADR</th>\n",
              "    </tr>\n",
              "    <tr>\n",
              "      <th>country</th>\n",
              "      <th></th>\n",
              "      <th></th>\n",
              "    </tr>\n",
              "  </thead>\n",
              "  <tbody>\n",
              "    <tr>\n",
              "      <th>PRT</th>\n",
              "      <td>48590</td>\n",
              "      <td>92.041483</td>\n",
              "    </tr>\n",
              "    <tr>\n",
              "      <th>GBR</th>\n",
              "      <td>12129</td>\n",
              "      <td>96.022058</td>\n",
              "    </tr>\n",
              "    <tr>\n",
              "      <th>FRA</th>\n",
              "      <td>10415</td>\n",
              "      <td>109.617276</td>\n",
              "    </tr>\n",
              "    <tr>\n",
              "      <th>ESP</th>\n",
              "      <td>8568</td>\n",
              "      <td>116.995463</td>\n",
              "    </tr>\n",
              "    <tr>\n",
              "      <th>DEU</th>\n",
              "      <td>7287</td>\n",
              "      <td>104.396756</td>\n",
              "    </tr>\n",
              "    <tr>\n",
              "      <th>ITA</th>\n",
              "      <td>3766</td>\n",
              "      <td>113.948208</td>\n",
              "    </tr>\n",
              "    <tr>\n",
              "      <th>IRL</th>\n",
              "      <td>3375</td>\n",
              "      <td>98.192172</td>\n",
              "    </tr>\n",
              "    <tr>\n",
              "      <th>BEL</th>\n",
              "      <td>2342</td>\n",
              "      <td>113.847784</td>\n",
              "    </tr>\n",
              "    <tr>\n",
              "      <th>BRA</th>\n",
              "      <td>2224</td>\n",
              "      <td>111.005337</td>\n",
              "    </tr>\n",
              "    <tr>\n",
              "      <th>NLD</th>\n",
              "      <td>2104</td>\n",
              "      <td>108.085480</td>\n",
              "    </tr>\n",
              "  </tbody>\n",
              "</table>\n",
              "</div>\n",
              "      <button class=\"colab-df-convert\" onclick=\"convertToInteractive('df-7ed1b7aa-e2b8-4ee8-b95b-69db5ce1281c')\"\n",
              "              title=\"Convert this dataframe to an interactive table.\"\n",
              "              style=\"display:none;\">\n",
              "        \n",
              "  <svg xmlns=\"http://www.w3.org/2000/svg\" height=\"24px\"viewBox=\"0 0 24 24\"\n",
              "       width=\"24px\">\n",
              "    <path d=\"M0 0h24v24H0V0z\" fill=\"none\"/>\n",
              "    <path d=\"M18.56 5.44l.94 2.06.94-2.06 2.06-.94-2.06-.94-.94-2.06-.94 2.06-2.06.94zm-11 1L8.5 8.5l.94-2.06 2.06-.94-2.06-.94L8.5 2.5l-.94 2.06-2.06.94zm10 10l.94 2.06.94-2.06 2.06-.94-2.06-.94-.94-2.06-.94 2.06-2.06.94z\"/><path d=\"M17.41 7.96l-1.37-1.37c-.4-.4-.92-.59-1.43-.59-.52 0-1.04.2-1.43.59L10.3 9.45l-7.72 7.72c-.78.78-.78 2.05 0 2.83L4 21.41c.39.39.9.59 1.41.59.51 0 1.02-.2 1.41-.59l7.78-7.78 2.81-2.81c.8-.78.8-2.07 0-2.86zM5.41 20L4 18.59l7.72-7.72 1.47 1.35L5.41 20z\"/>\n",
              "  </svg>\n",
              "      </button>\n",
              "      \n",
              "  <style>\n",
              "    .colab-df-container {\n",
              "      display:flex;\n",
              "      flex-wrap:wrap;\n",
              "      gap: 12px;\n",
              "    }\n",
              "\n",
              "    .colab-df-convert {\n",
              "      background-color: #E8F0FE;\n",
              "      border: none;\n",
              "      border-radius: 50%;\n",
              "      cursor: pointer;\n",
              "      display: none;\n",
              "      fill: #1967D2;\n",
              "      height: 32px;\n",
              "      padding: 0 0 0 0;\n",
              "      width: 32px;\n",
              "    }\n",
              "\n",
              "    .colab-df-convert:hover {\n",
              "      background-color: #E2EBFA;\n",
              "      box-shadow: 0px 1px 2px rgba(60, 64, 67, 0.3), 0px 1px 3px 1px rgba(60, 64, 67, 0.15);\n",
              "      fill: #174EA6;\n",
              "    }\n",
              "\n",
              "    [theme=dark] .colab-df-convert {\n",
              "      background-color: #3B4455;\n",
              "      fill: #D2E3FC;\n",
              "    }\n",
              "\n",
              "    [theme=dark] .colab-df-convert:hover {\n",
              "      background-color: #434B5C;\n",
              "      box-shadow: 0px 1px 3px 1px rgba(0, 0, 0, 0.15);\n",
              "      filter: drop-shadow(0px 1px 2px rgba(0, 0, 0, 0.3));\n",
              "      fill: #FFFFFF;\n",
              "    }\n",
              "  </style>\n",
              "\n",
              "      <script>\n",
              "        const buttonEl =\n",
              "          document.querySelector('#df-7ed1b7aa-e2b8-4ee8-b95b-69db5ce1281c button.colab-df-convert');\n",
              "        buttonEl.style.display =\n",
              "          google.colab.kernel.accessAllowed ? 'block' : 'none';\n",
              "\n",
              "        async function convertToInteractive(key) {\n",
              "          const element = document.querySelector('#df-7ed1b7aa-e2b8-4ee8-b95b-69db5ce1281c');\n",
              "          const dataTable =\n",
              "            await google.colab.kernel.invokeFunction('convertToInteractive',\n",
              "                                                     [key], {});\n",
              "          if (!dataTable) return;\n",
              "\n",
              "          const docLinkHtml = 'Like what you see? Visit the ' +\n",
              "            '<a target=\"_blank\" href=https://colab.research.google.com/notebooks/data_table.ipynb>data table notebook</a>'\n",
              "            + ' to learn more about interactive tables.';\n",
              "          element.innerHTML = '';\n",
              "          dataTable['output_type'] = 'display_data';\n",
              "          await google.colab.output.renderOutput(dataTable, element);\n",
              "          const docLink = document.createElement('div');\n",
              "          docLink.innerHTML = docLinkHtml;\n",
              "          element.appendChild(docLink);\n",
              "        }\n",
              "      </script>\n",
              "    </div>\n",
              "  </div>\n",
              "  "
            ],
            "text/plain": [
              "         Country_count         ADR\n",
              "country                           \n",
              "PRT              48590   92.041483\n",
              "GBR              12129   96.022058\n",
              "FRA              10415  109.617276\n",
              "ESP               8568  116.995463\n",
              "DEU               7287  104.396756\n",
              "ITA               3766  113.948208\n",
              "IRL               3375   98.192172\n",
              "BEL               2342  113.847784\n",
              "BRA               2224  111.005337\n",
              "NLD               2104  108.085480"
            ]
          },
          "metadata": {},
          "execution_count": 63
        }
      ]
    },
    {
      "cell_type": "code",
      "source": [
        "ADR_of_top_ten.drop('Country_count',axis=1,inplace=True)"
      ],
      "metadata": {
        "id": "g-0v6gD2TWSa"
      },
      "execution_count": null,
      "outputs": []
    },
    {
      "cell_type": "code",
      "source": [
        "ADR_of_top_ten.plot(kind='bar')"
      ],
      "metadata": {
        "colab": {
          "base_uri": "https://localhost:8080/",
          "height": 362
        },
        "id": "wu8HKNBzWN0k",
        "outputId": "62791927-e948-4084-afa6-bc1e8b4ecdb1"
      },
      "execution_count": null,
      "outputs": [
        {
          "output_type": "execute_result",
          "data": {
            "text/plain": [
              "<matplotlib.axes._subplots.AxesSubplot at 0x7fd05b516550>"
            ]
          },
          "metadata": {},
          "execution_count": 65
        },
        {
          "output_type": "display_data",
          "data": {
            "image/png": "[encoded data removed]",
            "text/plain": [
              "<Figure size 864x360 with 1 Axes>"
            ]
          },
          "metadata": {
            "needs_background": "light"
          }
        }
      ]
    },
    {
      "cell_type": "markdown",
      "source": [
        "So as we know Portugal has highest booking and its adr is 92. And the highest adr from top ten countries is of Spain i.e. 116.99 ~ 117"
      ],
      "metadata": {
        "id": "UQegWK2BWa0z"
      }
    },
    {
      "cell_type": "markdown",
      "source": [
        "Now the last thing is to plot the heatmap and see the co relation between the columns"
      ],
      "metadata": {
        "id": "JqwMM8Ai3qev"
      }
    },
    {
      "cell_type": "code",
      "source": [
        "plt.figure(figsize=(22,15))\n",
        "sns.heatmap(df_data.corr(), annot=True)"
      ],
      "metadata": {
        "colab": {
          "base_uri": "https://localhost:8080/",
          "height": 1000
        },
        "id": "6GNKpgxJWXZV",
        "outputId": "c7c602d2-abe7-408f-8c4c-8c86a10a1f2d"
      },
      "execution_count": null,
      "outputs": [
        {
          "output_type": "execute_result",
          "data": {
            "text/plain": [
              "<matplotlib.axes._subplots.AxesSubplot at 0x7fd05aa76150>"
            ]
          },
          "metadata": {},
          "execution_count": 66
        },
        {
          "output_type": "display_data",
          "data": {
            "image/png": "[encoded data removed]",
            "text/plain": [
              "<Figure size 1584x1080 with 2 Axes>"
            ]
          },
          "metadata": {
            "needs_background": "light"
          }
        }
      ]
    },
    {
      "cell_type": "markdown",
      "source": [
        "# **E) Conclusion**"
      ],
      "metadata": {
        "id": "OS26FG600xsx"
      }
    },
    {
      "cell_type": "markdown",
      "source": [
        "In our analysis of hotel booking we have tried different methods and visualized it by graphs.\n",
        "\n",
        "We started with asking few question to ourself and drafted the same to get the best solution.\n",
        "\n",
        "The first and most important step was cleaning the data. And then our analysis of data started.\n",
        "\n",
        "Here is the conclusion of all the solution we got from our analysis:\n",
        "- People are preffering city hotel more than the resort \n",
        "hotels.\n",
        "- The preffered booking mode is online booking\n",
        "- People preffered to stay for shorter period of time. For city hotel the popular stay is 2,3,1 days respectively and for resort hotel it is 1,7,2 days respectively.\n",
        "- Couples book more hotel than single and family.\n",
        "- 37% of people are cancelling their bookings (City & Resort). Resort hotel has less cancellation rate (28%) in compare to city hotels (42%)\n",
        "\n",
        "Now our data is from July 2015 till August 2017. But we have anlysed for year and months so it will not give us acurate results.\n",
        "- 2016 has highest booking in both hotel & resort \n",
        "- August has highest number of booking in both hotel & resort\n",
        "- In year 2015, the maximum booking was in September. In year 2016, it was October and in year 2017, it was May\n",
        "- Also, 2016 and August has highest number of cancellation\n",
        "- The top three countries who has highest number of bookings are Portugal, Germany and France\n",
        "- If we analyse hotel wise: Portugal has max booking in resort as well as city hotel. 2nd highest booking is in Germany. The 3rd highest booking for resort hotel is Spain and for city hotel is France.\n",
        "- Portugal, Germany and Spain has maximum cancellation\n",
        "- We analysed relationship between room changed and cancellation: We conclude that Customer who has not changed room type has cancellation more\n",
        "- 5.7% of people cancelled room after they had assigned different room from booking room.\n",
        "- The highest probability of 0 special request is highest\n",
        "- The highest average ADR is for 2017 i.e. 114.63\n",
        "- The average ADR for city hotel is 105.30 and for resort hotel is 94.95\n",
        "- The highest average ADR is for Djibouti (DJI) country i.e. 273.\n",
        "- And the highest average ADR for Portugal is 92.04\n"
      ],
      "metadata": {
        "id": "eN91zsRd022G"
      }
    },
    {
      "cell_type": "markdown",
      "source": [
        "# **F) Summation**"
      ],
      "metadata": {
        "id": "NNmLtZqGooeP"
      }
    },
    {
      "cell_type": "markdown",
      "source": [
        "*   Q2 & Q3 are having higher number of Bookings So hotels can avail some discount offers in Q1 and Q4 as Bookings rate is less in \n",
        "these quarters.\n",
        "\n",
        "*  Hotels can promote their business online as most of the Bookings are coming from online portals.\n",
        "\n",
        "*   Special discount can be given to repeated guests.\n",
        "\n",
        "*   City Hotel can come up with special plans for long staying guests.\n",
        "\n",
        "\n",
        "*   Resort Hotel can come up with special plans for short staying guests\n"
      ],
      "metadata": {
        "id": "hZBX8Ss6oTPz"
      }
    }
  ]
}